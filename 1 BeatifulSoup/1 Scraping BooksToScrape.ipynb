{
  "nbformat": 4,
  "nbformat_minor": 0,
  "metadata": {
    "colab": {
      "name": "WEB SCRAPER",
      "provenance": [],
      "collapsed_sections": []
    },
    "kernelspec": {
      "name": "python3",
      "display_name": "Python 3"
    },
    "language_info": {
      "name": "python"
    }
  },
  "cells": [
    {
      "cell_type": "markdown",
      "source": [
        "**Scraping the first web page**"
      ],
      "metadata": {
        "id": "e1Y2KbstDjZA"
      }
    },
    {
      "cell_type": "code",
      "source": [
        "import requests\n",
        "from bs4 import BeautifulSoup"
      ],
      "metadata": {
        "id": "pqvZFfG1Dmbe"
      },
      "execution_count": null,
      "outputs": []
    },
    {
      "cell_type": "code",
      "source": [
        "response = requests.get('http://info.cern.ch/hypertext/WWW/TheProject.html')\n",
        "\n",
        "response"
      ],
      "metadata": {
        "colab": {
          "base_uri": "https://localhost:8080/"
        },
        "id": "5jhyobBMDsp3",
        "outputId": "1daeacef-2980-4201-e586-16ae2a844bbb"
      },
      "execution_count": null,
      "outputs": [
        {
          "output_type": "execute_result",
          "data": {
            "text/plain": [
              "<Response [200]>"
            ]
          },
          "metadata": {},
          "execution_count": 77
        }
      ]
    },
    {
      "cell_type": "markdown",
      "source": [
        "* response 200 means get request is successfull"
      ],
      "metadata": {
        "id": "u8rcLwOgD2sj"
      }
    },
    {
      "cell_type": "code",
      "source": [
        "response.headers"
      ],
      "metadata": {
        "colab": {
          "base_uri": "https://localhost:8080/"
        },
        "id": "nscDG-veD9Wt",
        "outputId": "7b705fe3-9b0f-4c6d-edf0-66cc0f08db9f"
      },
      "execution_count": null,
      "outputs": [
        {
          "output_type": "execute_result",
          "data": {
            "text/plain": [
              "{'Date': 'Mon, 09 May 2022 05:26:59 GMT', 'Server': 'Apache', 'Last-Modified': 'Thu, 03 Dec 1992 08:37:20 GMT', 'ETag': '\"8a9-291e721905000\"', 'Accept-Ranges': 'bytes', 'Content-Length': '2217', 'Connection': 'close', 'Content-Type': 'text/html'}"
            ]
          },
          "metadata": {},
          "execution_count": 78
        }
      ]
    },
    {
      "cell_type": "markdown",
      "source": [
        "* See the 'Content-Type': 'text/html' --> This means as a response we are getting the complete content of this web page in the form of text/html\n",
        "\n",
        "* Thus to get the access of this content just type\n",
        "response.text"
      ],
      "metadata": {
        "id": "9oTCnmHcENUw"
      }
    },
    {
      "cell_type": "code",
      "source": [
        "response.text"
      ],
      "metadata": {
        "colab": {
          "base_uri": "https://localhost:8080/",
          "height": 165
        },
        "id": "OHXXWQ2-El-q",
        "outputId": "1ce2eec1-318f-48ae-e709-c85fe9d45920"
      },
      "execution_count": null,
      "outputs": [
        {
          "output_type": "execute_result",
          "data": {
            "text/plain": [
              "'<HEADER>\\n<TITLE>The World Wide Web project</TITLE>\\n<NEXTID N=\"55\">\\n</HEADER>\\n<BODY>\\n<H1>World Wide Web</H1>The WorldWideWeb (W3) is a wide-area<A\\nNAME=0 HREF=\"WhatIs.html\">\\nhypermedia</A> information retrieval\\ninitiative aiming to give universal\\naccess to a large universe of documents.<P>\\nEverything there is online about\\nW3 is linked directly or indirectly\\nto this document, including an <A\\nNAME=24 HREF=\"Summary.html\">executive\\nsummary</A> of the project, <A\\nNAME=29 HREF=\"Administration/Mailing/Overview.html\">Mailing lists</A>\\n, <A\\nNAME=30 HREF=\"Policy.html\">Policy</A> , November\\'s  <A\\nNAME=34 HREF=\"News/9211.html\">W3  news</A> ,\\n<A\\nNAME=41 HREF=\"FAQ/List.html\">Frequently Asked Questions</A> .\\n<DL>\\n<DT><A\\nNAME=44 HREF=\"../DataSources/Top.html\">What\\'s out there?</A>\\n<DD> Pointers to the\\nworld\\'s online information,<A\\nNAME=45 HREF=\"../DataSources/bySubject/Overview.html\"> subjects</A>\\n, <A\\nNAME=z54 HREF=\"../DataSources/WWW/Servers.html\">W3 servers</A>, etc.\\n<DT><A\\nNAME=46 HREF=\"Help.html\">Help</A>\\n<DD> on the browser you are using\\n<DT><A\\nNAME=13 HREF=\"Status.html\">Software Products</A>\\n<DD> A list of W3 project\\ncomponents and their current state.\\n(e.g. <A\\nNAME=27 HREF=\"LineMode/Browser.html\">Line Mode</A> ,X11 <A\\nNAME=35 HREF=\"Status.html#35\">Viola</A> ,  <A\\nNAME=26 HREF=\"NeXT/WorldWideWeb.html\">NeXTStep</A>\\n, <A\\nNAME=25 HREF=\"Daemon/Overview.html\">Servers</A> , <A\\nNAME=51 HREF=\"Tools/Overview.html\">Tools</A> ,<A\\nNAME=53 HREF=\"MailRobot/Overview.html\"> Mail robot</A> ,<A\\nNAME=52 HREF=\"Status.html#57\">\\nLibrary</A> )\\n<DT><A\\nNAME=47 HREF=\"Technical.html\">Technical</A>\\n<DD> Details of protocols, formats,\\nprogram internals etc\\n<DT><A\\nNAME=40 HREF=\"Bibliography.html\">Bibliography</A>\\n<DD> Paper documentation\\non  W3 and references.\\n<DT><A\\nNAME=14 HREF=\"People.html\">People</A>\\n<DD> A list of some people involved\\nin the project.\\n<DT><A\\nNAME=15 HREF=\"History.html\">History</A>\\n<DD> A summary of the history\\nof the project.\\n<DT><A\\nNAME=37 HREF=\"Helping.html\">How can I help</A> ?\\n<DD> If you would like\\nto support the web..\\n<DT><A\\nNAME=48 HREF=\"../README.html\">Getting code</A>\\n<DD> Getting the code by<A\\nNAME=49 HREF=\"LineMode/Defaults/Distribution.html\">\\nanonymous FTP</A> , etc.</A>\\n</DL>\\n</BODY>\\n'"
            ],
            "application/vnd.google.colaboratory.intrinsic+json": {
              "type": "string"
            }
          },
          "metadata": {},
          "execution_count": 79
        }
      ]
    },
    {
      "cell_type": "code",
      "source": [
        "html_data = response.text"
      ],
      "metadata": {
        "id": "30v7lVZVD2LK"
      },
      "execution_count": null,
      "outputs": []
    },
    {
      "cell_type": "code",
      "source": [
        "data = BeautifulSoup(html_data,'html.parser')\n",
        "data"
      ],
      "metadata": {
        "id": "jtdjedPVCeZp",
        "colab": {
          "base_uri": "https://localhost:8080/"
        },
        "outputId": "a0660104-08c2-4c40-8704-73e1e7bd29ab"
      },
      "execution_count": null,
      "outputs": [
        {
          "output_type": "execute_result",
          "data": {
            "text/plain": [
              "<header>\n",
              "<title>The World Wide Web project</title>\n",
              "<nextid n=\"55\"/>\n",
              "</header>\n",
              "<body>\n",
              "<h1>World Wide Web</h1>The WorldWideWeb (W3) is a wide-area<a href=\"WhatIs.html\" name=\"0\">\n",
              "hypermedia</a> information retrieval\n",
              "initiative aiming to give universal\n",
              "access to a large universe of documents.<p>\n",
              "Everything there is online about\n",
              "W3 is linked directly or indirectly\n",
              "to this document, including an <a href=\"Summary.html\" name=\"24\">executive\n",
              "summary</a> of the project, <a href=\"Administration/Mailing/Overview.html\" name=\"29\">Mailing lists</a>\n",
              ", <a href=\"Policy.html\" name=\"30\">Policy</a> , November's  <a href=\"News/9211.html\" name=\"34\">W3  news</a> ,\n",
              "<a href=\"FAQ/List.html\" name=\"41\">Frequently Asked Questions</a> .\n",
              "<dl>\n",
              "<dt><a href=\"../DataSources/Top.html\" name=\"44\">What's out there?</a>\n",
              "<dd> Pointers to the\n",
              "world's online information,<a href=\"../DataSources/bySubject/Overview.html\" name=\"45\"> subjects</a>\n",
              ", <a href=\"../DataSources/WWW/Servers.html\" name=\"z54\">W3 servers</a>, etc.\n",
              "<dt><a href=\"Help.html\" name=\"46\">Help</a>\n",
              "<dd> on the browser you are using\n",
              "<dt><a href=\"Status.html\" name=\"13\">Software Products</a>\n",
              "<dd> A list of W3 project\n",
              "components and their current state.\n",
              "(e.g. <a href=\"LineMode/Browser.html\" name=\"27\">Line Mode</a> ,X11 <a href=\"Status.html#35\" name=\"35\">Viola</a> ,  <a href=\"NeXT/WorldWideWeb.html\" name=\"26\">NeXTStep</a>\n",
              ", <a href=\"Daemon/Overview.html\" name=\"25\">Servers</a> , <a href=\"Tools/Overview.html\" name=\"51\">Tools</a> ,<a href=\"MailRobot/Overview.html\" name=\"53\"> Mail robot</a> ,<a href=\"Status.html#57\" name=\"52\">\n",
              "Library</a> )\n",
              "<dt><a href=\"Technical.html\" name=\"47\">Technical</a>\n",
              "<dd> Details of protocols, formats,\n",
              "program internals etc\n",
              "<dt><a href=\"Bibliography.html\" name=\"40\">Bibliography</a>\n",
              "<dd> Paper documentation\n",
              "on  W3 and references.\n",
              "<dt><a href=\"People.html\" name=\"14\">People</a>\n",
              "<dd> A list of some people involved\n",
              "in the project.\n",
              "<dt><a href=\"History.html\" name=\"15\">History</a>\n",
              "<dd> A summary of the history\n",
              "of the project.\n",
              "<dt><a href=\"Helping.html\" name=\"37\">How can I help</a> ?\n",
              "<dd> If you would like\n",
              "to support the web..\n",
              "<dt><a href=\"../README.html\" name=\"48\">Getting code</a>\n",
              "<dd> Getting the code by<a href=\"LineMode/Defaults/Distribution.html\" name=\"49\">\n",
              "anonymous FTP</a> , etc.</dd></dt></dd></dt></dd></dt></dd></dt></dd></dt></dd></dt></dd></dt></dd></dt></dd></dt></dl></p></body>\n",
              "\n"
            ]
          },
          "metadata": {},
          "execution_count": 81
        }
      ]
    },
    {
      "cell_type": "code",
      "source": [
        "print(data.prettify() )"
      ],
      "metadata": {
        "colab": {
          "base_uri": "https://localhost:8080/"
        },
        "id": "b8EhVId9GIUM",
        "outputId": "0c7a5ee5-5233-434d-ed51-b6994dabb395"
      },
      "execution_count": null,
      "outputs": [
        {
          "output_type": "stream",
          "name": "stdout",
          "text": [
            "<header>\n",
            " <title>\n",
            "  The World Wide Web project\n",
            " </title>\n",
            " <nextid n=\"55\"/>\n",
            "</header>\n",
            "<body>\n",
            " <h1>\n",
            "  World Wide Web\n",
            " </h1>\n",
            " The WorldWideWeb (W3) is a wide-area\n",
            " <a href=\"WhatIs.html\" name=\"0\">\n",
            "  hypermedia\n",
            " </a>\n",
            " information retrieval\n",
            "initiative aiming to give universal\n",
            "access to a large universe of documents.\n",
            " <p>\n",
            "  Everything there is online about\n",
            "W3 is linked directly or indirectly\n",
            "to this document, including an\n",
            "  <a href=\"Summary.html\" name=\"24\">\n",
            "   executive\n",
            "summary\n",
            "  </a>\n",
            "  of the project,\n",
            "  <a href=\"Administration/Mailing/Overview.html\" name=\"29\">\n",
            "   Mailing lists\n",
            "  </a>\n",
            "  ,\n",
            "  <a href=\"Policy.html\" name=\"30\">\n",
            "   Policy\n",
            "  </a>\n",
            "  , November's\n",
            "  <a href=\"News/9211.html\" name=\"34\">\n",
            "   W3  news\n",
            "  </a>\n",
            "  ,\n",
            "  <a href=\"FAQ/List.html\" name=\"41\">\n",
            "   Frequently Asked Questions\n",
            "  </a>\n",
            "  .\n",
            "  <dl>\n",
            "   <dt>\n",
            "    <a href=\"../DataSources/Top.html\" name=\"44\">\n",
            "     What's out there?\n",
            "    </a>\n",
            "    <dd>\n",
            "     Pointers to the\n",
            "world's online information,\n",
            "     <a href=\"../DataSources/bySubject/Overview.html\" name=\"45\">\n",
            "      subjects\n",
            "     </a>\n",
            "     ,\n",
            "     <a href=\"../DataSources/WWW/Servers.html\" name=\"z54\">\n",
            "      W3 servers\n",
            "     </a>\n",
            "     , etc.\n",
            "     <dt>\n",
            "      <a href=\"Help.html\" name=\"46\">\n",
            "       Help\n",
            "      </a>\n",
            "      <dd>\n",
            "       on the browser you are using\n",
            "       <dt>\n",
            "        <a href=\"Status.html\" name=\"13\">\n",
            "         Software Products\n",
            "        </a>\n",
            "        <dd>\n",
            "         A list of W3 project\n",
            "components and their current state.\n",
            "(e.g.\n",
            "         <a href=\"LineMode/Browser.html\" name=\"27\">\n",
            "          Line Mode\n",
            "         </a>\n",
            "         ,X11\n",
            "         <a href=\"Status.html#35\" name=\"35\">\n",
            "          Viola\n",
            "         </a>\n",
            "         ,\n",
            "         <a href=\"NeXT/WorldWideWeb.html\" name=\"26\">\n",
            "          NeXTStep\n",
            "         </a>\n",
            "         ,\n",
            "         <a href=\"Daemon/Overview.html\" name=\"25\">\n",
            "          Servers\n",
            "         </a>\n",
            "         ,\n",
            "         <a href=\"Tools/Overview.html\" name=\"51\">\n",
            "          Tools\n",
            "         </a>\n",
            "         ,\n",
            "         <a href=\"MailRobot/Overview.html\" name=\"53\">\n",
            "          Mail robot\n",
            "         </a>\n",
            "         ,\n",
            "         <a href=\"Status.html#57\" name=\"52\">\n",
            "          Library\n",
            "         </a>\n",
            "         )\n",
            "         <dt>\n",
            "          <a href=\"Technical.html\" name=\"47\">\n",
            "           Technical\n",
            "          </a>\n",
            "          <dd>\n",
            "           Details of protocols, formats,\n",
            "program internals etc\n",
            "           <dt>\n",
            "            <a href=\"Bibliography.html\" name=\"40\">\n",
            "             Bibliography\n",
            "            </a>\n",
            "            <dd>\n",
            "             Paper documentation\n",
            "on  W3 and references.\n",
            "             <dt>\n",
            "              <a href=\"People.html\" name=\"14\">\n",
            "               People\n",
            "              </a>\n",
            "              <dd>\n",
            "               A list of some people involved\n",
            "in the project.\n",
            "               <dt>\n",
            "                <a href=\"History.html\" name=\"15\">\n",
            "                 History\n",
            "                </a>\n",
            "                <dd>\n",
            "                 A summary of the history\n",
            "of the project.\n",
            "                 <dt>\n",
            "                  <a href=\"Helping.html\" name=\"37\">\n",
            "                   How can I help\n",
            "                  </a>\n",
            "                  ?\n",
            "                  <dd>\n",
            "                   If you would like\n",
            "to support the web..\n",
            "                   <dt>\n",
            "                    <a href=\"../README.html\" name=\"48\">\n",
            "                     Getting code\n",
            "                    </a>\n",
            "                    <dd>\n",
            "                     Getting the code by\n",
            "                     <a href=\"LineMode/Defaults/Distribution.html\" name=\"49\">\n",
            "                      anonymous FTP\n",
            "                     </a>\n",
            "                     , etc.\n",
            "                    </dd>\n",
            "                   </dt>\n",
            "                  </dd>\n",
            "                 </dt>\n",
            "                </dd>\n",
            "               </dt>\n",
            "              </dd>\n",
            "             </dt>\n",
            "            </dd>\n",
            "           </dt>\n",
            "          </dd>\n",
            "         </dt>\n",
            "        </dd>\n",
            "       </dt>\n",
            "      </dd>\n",
            "     </dt>\n",
            "    </dd>\n",
            "   </dt>\n",
            "  </dl>\n",
            " </p>\n",
            "</body>\n",
            "\n"
          ]
        }
      ]
    },
    {
      "cell_type": "markdown",
      "source": [
        "**Extracting The Title**"
      ],
      "metadata": {
        "id": "TCFX8adwHVT9"
      }
    },
    {
      "cell_type": "markdown",
      "source": [
        "after inspect element cick on the first tool available\n",
        "and using that hover over the title to locate where the title code is"
      ],
      "metadata": {
        "id": "aKB9szShHald"
      }
    },
    {
      "cell_type": "code",
      "source": [
        "# This is Heading of the web-page\n",
        "print(data.h1)\n",
        "data.h1.string "
      ],
      "metadata": {
        "colab": {
          "base_uri": "https://localhost:8080/",
          "height": 55
        },
        "id": "C86bAG6XGd_C",
        "outputId": "409b1ad7-08af-48d6-d395-5082aa889e8a"
      },
      "execution_count": null,
      "outputs": [
        {
          "output_type": "stream",
          "name": "stdout",
          "text": [
            "<h1>World Wide Web</h1>\n"
          ]
        },
        {
          "output_type": "execute_result",
          "data": {
            "text/plain": [
              "'World Wide Web'"
            ],
            "application/vnd.google.colaboratory.intrinsic+json": {
              "type": "string"
            }
          },
          "metadata": {},
          "execution_count": 83
        }
      ]
    },
    {
      "cell_type": "code",
      "source": [
        "# To get the Title -- This is not visible on the page--\n",
        "\n",
        "print(data.title)\n",
        "data.title.string"
      ],
      "metadata": {
        "colab": {
          "base_uri": "https://localhost:8080/",
          "height": 55
        },
        "id": "8hNCvJd0IEat",
        "outputId": "271b4db3-2f51-4a17-d602-9da8694a8945"
      },
      "execution_count": null,
      "outputs": [
        {
          "output_type": "stream",
          "name": "stdout",
          "text": [
            "<title>The World Wide Web project</title>\n"
          ]
        },
        {
          "output_type": "execute_result",
          "data": {
            "text/plain": [
              "'The World Wide Web project'"
            ],
            "application/vnd.google.colaboratory.intrinsic+json": {
              "type": "string"
            }
          },
          "metadata": {},
          "execution_count": 84
        }
      ]
    },
    {
      "cell_type": "markdown",
      "source": [
        "**Get the Complete Text from the Web-Page**"
      ],
      "metadata": {
        "id": "ATrDeoQwIr5m"
      }
    },
    {
      "cell_type": "code",
      "source": [
        "data.get_text()"
      ],
      "metadata": {
        "colab": {
          "base_uri": "https://localhost:8080/",
          "height": 165
        },
        "id": "hv2ttfyaH5pG",
        "outputId": "40af6234-d9c5-424e-bf38-00f394737c8e"
      },
      "execution_count": null,
      "outputs": [
        {
          "output_type": "execute_result",
          "data": {
            "text/plain": [
              "\"\\nThe World Wide Web project\\n\\n\\n\\nWorld Wide WebThe WorldWideWeb (W3) is a wide-area\\nhypermedia information retrieval\\ninitiative aiming to give universal\\naccess to a large universe of documents.\\nEverything there is online about\\nW3 is linked directly or indirectly\\nto this document, including an executive\\nsummary of the project, Mailing lists\\n, Policy , November's  W3  news ,\\nFrequently Asked Questions .\\n\\nWhat's out there?\\n Pointers to the\\nworld's online information, subjects\\n, W3 servers, etc.\\nHelp\\n on the browser you are using\\nSoftware Products\\n A list of W3 project\\ncomponents and their current state.\\n(e.g. Line Mode ,X11 Viola ,  NeXTStep\\n, Servers , Tools , Mail robot ,\\nLibrary )\\nTechnical\\n Details of protocols, formats,\\nprogram internals etc\\nBibliography\\n Paper documentation\\non  W3 and references.\\nPeople\\n A list of some people involved\\nin the project.\\nHistory\\n A summary of the history\\nof the project.\\nHow can I help ?\\n If you would like\\nto support the web..\\nGetting code\\n Getting the code by\\nanonymous FTP , etc.\\n\\n\\n\""
            ],
            "application/vnd.google.colaboratory.intrinsic+json": {
              "type": "string"
            }
          },
          "metadata": {},
          "execution_count": 85
        }
      ]
    },
    {
      "cell_type": "code",
      "source": [
        "print(data.get_text())"
      ],
      "metadata": {
        "colab": {
          "base_uri": "https://localhost:8080/"
        },
        "id": "75ELdcPHJE1v",
        "outputId": "43d5d107-5223-4da3-d048-a6bc462e5372"
      },
      "execution_count": null,
      "outputs": [
        {
          "output_type": "stream",
          "name": "stdout",
          "text": [
            "\n",
            "The World Wide Web project\n",
            "\n",
            "\n",
            "\n",
            "World Wide WebThe WorldWideWeb (W3) is a wide-area\n",
            "hypermedia information retrieval\n",
            "initiative aiming to give universal\n",
            "access to a large universe of documents.\n",
            "Everything there is online about\n",
            "W3 is linked directly or indirectly\n",
            "to this document, including an executive\n",
            "summary of the project, Mailing lists\n",
            ", Policy , November's  W3  news ,\n",
            "Frequently Asked Questions .\n",
            "\n",
            "What's out there?\n",
            " Pointers to the\n",
            "world's online information, subjects\n",
            ", W3 servers, etc.\n",
            "Help\n",
            " on the browser you are using\n",
            "Software Products\n",
            " A list of W3 project\n",
            "components and their current state.\n",
            "(e.g. Line Mode ,X11 Viola ,  NeXTStep\n",
            ", Servers , Tools , Mail robot ,\n",
            "Library )\n",
            "Technical\n",
            " Details of protocols, formats,\n",
            "program internals etc\n",
            "Bibliography\n",
            " Paper documentation\n",
            "on  W3 and references.\n",
            "People\n",
            " A list of some people involved\n",
            "in the project.\n",
            "History\n",
            " A summary of the history\n",
            "of the project.\n",
            "How can I help ?\n",
            " If you would like\n",
            "to support the web..\n",
            "Getting code\n",
            " Getting the code by\n",
            "anonymous FTP , etc.\n",
            "\n",
            "\n",
            "\n"
          ]
        }
      ]
    },
    {
      "cell_type": "markdown",
      "source": [
        "**Extract each and every Hyperlink from the webpage**"
      ],
      "metadata": {
        "id": "FeTUNWc-JP5C"
      }
    },
    {
      "cell_type": "code",
      "source": [
        "data.a # It will give us only first hyperlink"
      ],
      "metadata": {
        "colab": {
          "base_uri": "https://localhost:8080/"
        },
        "id": "suJBynyoJOjX",
        "outputId": "a33fe3b4-cac4-4311-ece0-f4217b65313a"
      },
      "execution_count": null,
      "outputs": [
        {
          "output_type": "execute_result",
          "data": {
            "text/plain": [
              "<a href=\"WhatIs.html\" name=\"0\">\n",
              "hypermedia</a>"
            ]
          },
          "metadata": {},
          "execution_count": 87
        }
      ]
    },
    {
      "cell_type": "code",
      "source": [
        "data.a['href']"
      ],
      "metadata": {
        "colab": {
          "base_uri": "https://localhost:8080/",
          "height": 37
        },
        "id": "1dmpEyfUJVJi",
        "outputId": "5475ff53-a860-4e23-f900-dd3bb53b7bc7"
      },
      "execution_count": null,
      "outputs": [
        {
          "output_type": "execute_result",
          "data": {
            "text/plain": [
              "'WhatIs.html'"
            ],
            "application/vnd.google.colaboratory.intrinsic+json": {
              "type": "string"
            }
          },
          "metadata": {},
          "execution_count": 88
        }
      ]
    },
    {
      "cell_type": "code",
      "source": [
        "print(data.find_all('a')) # to get all the Hyperlinks"
      ],
      "metadata": {
        "colab": {
          "base_uri": "https://localhost:8080/"
        },
        "id": "ScRM2-B6Jbwa",
        "outputId": "d6d30765-f607-49e8-acf6-da745fe6a292"
      },
      "execution_count": null,
      "outputs": [
        {
          "output_type": "stream",
          "name": "stdout",
          "text": [
            "[<a href=\"WhatIs.html\" name=\"0\">\n",
            "hypermedia</a>, <a href=\"Summary.html\" name=\"24\">executive\n",
            "summary</a>, <a href=\"Administration/Mailing/Overview.html\" name=\"29\">Mailing lists</a>, <a href=\"Policy.html\" name=\"30\">Policy</a>, <a href=\"News/9211.html\" name=\"34\">W3  news</a>, <a href=\"FAQ/List.html\" name=\"41\">Frequently Asked Questions</a>, <a href=\"../DataSources/Top.html\" name=\"44\">What's out there?</a>, <a href=\"../DataSources/bySubject/Overview.html\" name=\"45\"> subjects</a>, <a href=\"../DataSources/WWW/Servers.html\" name=\"z54\">W3 servers</a>, <a href=\"Help.html\" name=\"46\">Help</a>, <a href=\"Status.html\" name=\"13\">Software Products</a>, <a href=\"LineMode/Browser.html\" name=\"27\">Line Mode</a>, <a href=\"Status.html#35\" name=\"35\">Viola</a>, <a href=\"NeXT/WorldWideWeb.html\" name=\"26\">NeXTStep</a>, <a href=\"Daemon/Overview.html\" name=\"25\">Servers</a>, <a href=\"Tools/Overview.html\" name=\"51\">Tools</a>, <a href=\"MailRobot/Overview.html\" name=\"53\"> Mail robot</a>, <a href=\"Status.html#57\" name=\"52\">\n",
            "Library</a>, <a href=\"Technical.html\" name=\"47\">Technical</a>, <a href=\"Bibliography.html\" name=\"40\">Bibliography</a>, <a href=\"People.html\" name=\"14\">People</a>, <a href=\"History.html\" name=\"15\">History</a>, <a href=\"Helping.html\" name=\"37\">How can I help</a>, <a href=\"../README.html\" name=\"48\">Getting code</a>, <a href=\"LineMode/Defaults/Distribution.html\" name=\"49\">\n",
            "anonymous FTP</a>]\n"
          ]
        }
      ]
    },
    {
      "cell_type": "code",
      "source": [
        "links = data.find_all('a')\n",
        "\n",
        "print(len(links)) # total 25 links are present \n",
        "\n",
        "for link in links:\n",
        "  print(link)\n",
        "\n",
        "print(\"\\n\",\"**\"*50)\n",
        "\n",
        "for link in links:\n",
        "  print(link.string)"
      ],
      "metadata": {
        "colab": {
          "base_uri": "https://localhost:8080/"
        },
        "id": "U-eMwvhiJqFX",
        "outputId": "a13c7b90-4a34-4ff9-8ada-2864c892ac00"
      },
      "execution_count": null,
      "outputs": [
        {
          "output_type": "stream",
          "name": "stdout",
          "text": [
            "25\n",
            "<a href=\"WhatIs.html\" name=\"0\">\n",
            "hypermedia</a>\n",
            "<a href=\"Summary.html\" name=\"24\">executive\n",
            "summary</a>\n",
            "<a href=\"Administration/Mailing/Overview.html\" name=\"29\">Mailing lists</a>\n",
            "<a href=\"Policy.html\" name=\"30\">Policy</a>\n",
            "<a href=\"News/9211.html\" name=\"34\">W3  news</a>\n",
            "<a href=\"FAQ/List.html\" name=\"41\">Frequently Asked Questions</a>\n",
            "<a href=\"../DataSources/Top.html\" name=\"44\">What's out there?</a>\n",
            "<a href=\"../DataSources/bySubject/Overview.html\" name=\"45\"> subjects</a>\n",
            "<a href=\"../DataSources/WWW/Servers.html\" name=\"z54\">W3 servers</a>\n",
            "<a href=\"Help.html\" name=\"46\">Help</a>\n",
            "<a href=\"Status.html\" name=\"13\">Software Products</a>\n",
            "<a href=\"LineMode/Browser.html\" name=\"27\">Line Mode</a>\n",
            "<a href=\"Status.html#35\" name=\"35\">Viola</a>\n",
            "<a href=\"NeXT/WorldWideWeb.html\" name=\"26\">NeXTStep</a>\n",
            "<a href=\"Daemon/Overview.html\" name=\"25\">Servers</a>\n",
            "<a href=\"Tools/Overview.html\" name=\"51\">Tools</a>\n",
            "<a href=\"MailRobot/Overview.html\" name=\"53\"> Mail robot</a>\n",
            "<a href=\"Status.html#57\" name=\"52\">\n",
            "Library</a>\n",
            "<a href=\"Technical.html\" name=\"47\">Technical</a>\n",
            "<a href=\"Bibliography.html\" name=\"40\">Bibliography</a>\n",
            "<a href=\"People.html\" name=\"14\">People</a>\n",
            "<a href=\"History.html\" name=\"15\">History</a>\n",
            "<a href=\"Helping.html\" name=\"37\">How can I help</a>\n",
            "<a href=\"../README.html\" name=\"48\">Getting code</a>\n",
            "<a href=\"LineMode/Defaults/Distribution.html\" name=\"49\">\n",
            "anonymous FTP</a>\n",
            "\n",
            " ****************************************************************************************************\n",
            "\n",
            "hypermedia\n",
            "executive\n",
            "summary\n",
            "Mailing lists\n",
            "Policy\n",
            "W3  news\n",
            "Frequently Asked Questions\n",
            "What's out there?\n",
            " subjects\n",
            "W3 servers\n",
            "Help\n",
            "Software Products\n",
            "Line Mode\n",
            "Viola\n",
            "NeXTStep\n",
            "Servers\n",
            "Tools\n",
            " Mail robot\n",
            "\n",
            "Library\n",
            "Technical\n",
            "Bibliography\n",
            "People\n",
            "History\n",
            "How can I help\n",
            "Getting code\n",
            "\n",
            "anonymous FTP\n"
          ]
        }
      ]
    },
    {
      "cell_type": "markdown",
      "source": [
        "**Extract the links present only in the particular section of the Area**  from \"what's out there\""
      ],
      "metadata": {
        "id": "LwguIzRnKs1c"
      }
    },
    {
      "cell_type": "markdown",
      "source": [
        "* Find the tag using inspect then use element selector tool then select from where you want to extract the links\n",
        "\n",
        "* this will highlight the html code,find the tag which has the entire section of links from \"whats out there\""
      ],
      "metadata": {
        "id": "VesNjk83K-D8"
      }
    },
    {
      "cell_type": "code",
      "source": [
        "data.dl"
      ],
      "metadata": {
        "colab": {
          "base_uri": "https://localhost:8080/"
        },
        "id": "yToOmUD6J2fF",
        "outputId": "8553eeee-7dd6-46e5-8889-d5b2e66153cd"
      },
      "execution_count": null,
      "outputs": [
        {
          "output_type": "execute_result",
          "data": {
            "text/plain": [
              "<dl>\n",
              "<dt><a href=\"../DataSources/Top.html\" name=\"44\">What's out there?</a>\n",
              "<dd> Pointers to the\n",
              "world's online information,<a href=\"../DataSources/bySubject/Overview.html\" name=\"45\"> subjects</a>\n",
              ", <a href=\"../DataSources/WWW/Servers.html\" name=\"z54\">W3 servers</a>, etc.\n",
              "<dt><a href=\"Help.html\" name=\"46\">Help</a>\n",
              "<dd> on the browser you are using\n",
              "<dt><a href=\"Status.html\" name=\"13\">Software Products</a>\n",
              "<dd> A list of W3 project\n",
              "components and their current state.\n",
              "(e.g. <a href=\"LineMode/Browser.html\" name=\"27\">Line Mode</a> ,X11 <a href=\"Status.html#35\" name=\"35\">Viola</a> ,  <a href=\"NeXT/WorldWideWeb.html\" name=\"26\">NeXTStep</a>\n",
              ", <a href=\"Daemon/Overview.html\" name=\"25\">Servers</a> , <a href=\"Tools/Overview.html\" name=\"51\">Tools</a> ,<a href=\"MailRobot/Overview.html\" name=\"53\"> Mail robot</a> ,<a href=\"Status.html#57\" name=\"52\">\n",
              "Library</a> )\n",
              "<dt><a href=\"Technical.html\" name=\"47\">Technical</a>\n",
              "<dd> Details of protocols, formats,\n",
              "program internals etc\n",
              "<dt><a href=\"Bibliography.html\" name=\"40\">Bibliography</a>\n",
              "<dd> Paper documentation\n",
              "on  W3 and references.\n",
              "<dt><a href=\"People.html\" name=\"14\">People</a>\n",
              "<dd> A list of some people involved\n",
              "in the project.\n",
              "<dt><a href=\"History.html\" name=\"15\">History</a>\n",
              "<dd> A summary of the history\n",
              "of the project.\n",
              "<dt><a href=\"Helping.html\" name=\"37\">How can I help</a> ?\n",
              "<dd> If you would like\n",
              "to support the web..\n",
              "<dt><a href=\"../README.html\" name=\"48\">Getting code</a>\n",
              "<dd> Getting the code by<a href=\"LineMode/Defaults/Distribution.html\" name=\"49\">\n",
              "anonymous FTP</a> , etc.</dd></dt></dd></dt></dd></dt></dd></dt></dd></dt></dd></dt></dd></dt></dd></dt></dd></dt></dl>"
            ]
          },
          "metadata": {},
          "execution_count": 91
        }
      ]
    },
    {
      "cell_type": "code",
      "source": [
        "selected_links = data.dl.find_all('a') # in the data inside the dl tage find all the 'a' links\n",
        "\n",
        "print(len(selected_links))\n",
        "selected_links"
      ],
      "metadata": {
        "colab": {
          "base_uri": "https://localhost:8080/"
        },
        "id": "C7CDjeWeLqlA",
        "outputId": "18436b65-8a03-4a6c-a125-360b9aeacac8"
      },
      "execution_count": null,
      "outputs": [
        {
          "output_type": "stream",
          "name": "stdout",
          "text": [
            "19\n"
          ]
        },
        {
          "output_type": "execute_result",
          "data": {
            "text/plain": [
              "[<a href=\"../DataSources/Top.html\" name=\"44\">What's out there?</a>,\n",
              " <a href=\"../DataSources/bySubject/Overview.html\" name=\"45\"> subjects</a>,\n",
              " <a href=\"../DataSources/WWW/Servers.html\" name=\"z54\">W3 servers</a>,\n",
              " <a href=\"Help.html\" name=\"46\">Help</a>,\n",
              " <a href=\"Status.html\" name=\"13\">Software Products</a>,\n",
              " <a href=\"LineMode/Browser.html\" name=\"27\">Line Mode</a>,\n",
              " <a href=\"Status.html#35\" name=\"35\">Viola</a>,\n",
              " <a href=\"NeXT/WorldWideWeb.html\" name=\"26\">NeXTStep</a>,\n",
              " <a href=\"Daemon/Overview.html\" name=\"25\">Servers</a>,\n",
              " <a href=\"Tools/Overview.html\" name=\"51\">Tools</a>,\n",
              " <a href=\"MailRobot/Overview.html\" name=\"53\"> Mail robot</a>,\n",
              " <a href=\"Status.html#57\" name=\"52\">\n",
              " Library</a>,\n",
              " <a href=\"Technical.html\" name=\"47\">Technical</a>,\n",
              " <a href=\"Bibliography.html\" name=\"40\">Bibliography</a>,\n",
              " <a href=\"People.html\" name=\"14\">People</a>,\n",
              " <a href=\"History.html\" name=\"15\">History</a>,\n",
              " <a href=\"Helping.html\" name=\"37\">How can I help</a>,\n",
              " <a href=\"../README.html\" name=\"48\">Getting code</a>,\n",
              " <a href=\"LineMode/Defaults/Distribution.html\" name=\"49\">\n",
              " anonymous FTP</a>]"
            ]
          },
          "metadata": {},
          "execution_count": 92
        }
      ]
    },
    {
      "cell_type": "code",
      "source": [
        "for link in selected_links:\n",
        "  print(link.string)"
      ],
      "metadata": {
        "colab": {
          "base_uri": "https://localhost:8080/"
        },
        "id": "S1hD-klrLzD_",
        "outputId": "ff360dff-6388-47ae-ba5e-3e801a14d0ea"
      },
      "execution_count": null,
      "outputs": [
        {
          "output_type": "stream",
          "name": "stdout",
          "text": [
            "What's out there?\n",
            " subjects\n",
            "W3 servers\n",
            "Help\n",
            "Software Products\n",
            "Line Mode\n",
            "Viola\n",
            "NeXTStep\n",
            "Servers\n",
            "Tools\n",
            " Mail robot\n",
            "\n",
            "Library\n",
            "Technical\n",
            "Bibliography\n",
            "People\n",
            "History\n",
            "How can I help\n",
            "Getting code\n",
            "\n",
            "anonymous FTP\n"
          ]
        }
      ]
    },
    {
      "cell_type": "markdown",
      "source": [
        "* Observe Carefully some hyperlinks are present under tag \"dt\" and some are present under \"dd\"\n",
        "\n",
        "* Hyperlinks inside \"dt\" are kinda headings."
      ],
      "metadata": {
        "id": "R_sUntbxM1m7"
      }
    },
    {
      "cell_type": "code",
      "source": [
        "heading_links = data.dl.dt.find_all('a')\n",
        "\n",
        "print(\"Length is still \",len(heading_links))\n",
        "for link in heading_links:\n",
        "  print(link.string)\n",
        "# This is still giving us all the links "
      ],
      "metadata": {
        "colab": {
          "base_uri": "https://localhost:8080/"
        },
        "id": "XavTnl8gMd2g",
        "outputId": "5a755595-9d5b-474e-96ed-cc74650bfc51"
      },
      "execution_count": null,
      "outputs": [
        {
          "output_type": "stream",
          "name": "stdout",
          "text": [
            "Length is still  19\n",
            "What's out there?\n",
            " subjects\n",
            "W3 servers\n",
            "Help\n",
            "Software Products\n",
            "Line Mode\n",
            "Viola\n",
            "NeXTStep\n",
            "Servers\n",
            "Tools\n",
            " Mail robot\n",
            "\n",
            "Library\n",
            "Technical\n",
            "Bibliography\n",
            "People\n",
            "History\n",
            "How can I help\n",
            "Getting code\n",
            "\n",
            "anonymous FTP\n"
          ]
        }
      ]
    },
    {
      "cell_type": "code",
      "source": [
        "dt_links = data.dl.find_all('dt')\n",
        "\n",
        "print(len(dt_links)) # The length is 9 instead of 19\n",
        "print(dt_links) # # The links will start from <dt> , <dd> tags are also present "
      ],
      "metadata": {
        "colab": {
          "base_uri": "https://localhost:8080/"
        },
        "id": "FjYO2bVQOH0E",
        "outputId": "e254cae2-6918-47a1-abe7-5a6bb71de43c"
      },
      "execution_count": null,
      "outputs": [
        {
          "output_type": "stream",
          "name": "stdout",
          "text": [
            "9\n",
            "[<dt><a href=\"../DataSources/Top.html\" name=\"44\">What's out there?</a>\n",
            "<dd> Pointers to the\n",
            "world's online information,<a href=\"../DataSources/bySubject/Overview.html\" name=\"45\"> subjects</a>\n",
            ", <a href=\"../DataSources/WWW/Servers.html\" name=\"z54\">W3 servers</a>, etc.\n",
            "<dt><a href=\"Help.html\" name=\"46\">Help</a>\n",
            "<dd> on the browser you are using\n",
            "<dt><a href=\"Status.html\" name=\"13\">Software Products</a>\n",
            "<dd> A list of W3 project\n",
            "components and their current state.\n",
            "(e.g. <a href=\"LineMode/Browser.html\" name=\"27\">Line Mode</a> ,X11 <a href=\"Status.html#35\" name=\"35\">Viola</a> ,  <a href=\"NeXT/WorldWideWeb.html\" name=\"26\">NeXTStep</a>\n",
            ", <a href=\"Daemon/Overview.html\" name=\"25\">Servers</a> , <a href=\"Tools/Overview.html\" name=\"51\">Tools</a> ,<a href=\"MailRobot/Overview.html\" name=\"53\"> Mail robot</a> ,<a href=\"Status.html#57\" name=\"52\">\n",
            "Library</a> )\n",
            "<dt><a href=\"Technical.html\" name=\"47\">Technical</a>\n",
            "<dd> Details of protocols, formats,\n",
            "program internals etc\n",
            "<dt><a href=\"Bibliography.html\" name=\"40\">Bibliography</a>\n",
            "<dd> Paper documentation\n",
            "on  W3 and references.\n",
            "<dt><a href=\"People.html\" name=\"14\">People</a>\n",
            "<dd> A list of some people involved\n",
            "in the project.\n",
            "<dt><a href=\"History.html\" name=\"15\">History</a>\n",
            "<dd> A summary of the history\n",
            "of the project.\n",
            "<dt><a href=\"Helping.html\" name=\"37\">How can I help</a> ?\n",
            "<dd> If you would like\n",
            "to support the web..\n",
            "<dt><a href=\"../README.html\" name=\"48\">Getting code</a>\n",
            "<dd> Getting the code by<a href=\"LineMode/Defaults/Distribution.html\" name=\"49\">\n",
            "anonymous FTP</a> , etc.</dd></dt></dd></dt></dd></dt></dd></dt></dd></dt></dd></dt></dd></dt></dd></dt></dd></dt>, <dt><a href=\"Help.html\" name=\"46\">Help</a>\n",
            "<dd> on the browser you are using\n",
            "<dt><a href=\"Status.html\" name=\"13\">Software Products</a>\n",
            "<dd> A list of W3 project\n",
            "components and their current state.\n",
            "(e.g. <a href=\"LineMode/Browser.html\" name=\"27\">Line Mode</a> ,X11 <a href=\"Status.html#35\" name=\"35\">Viola</a> ,  <a href=\"NeXT/WorldWideWeb.html\" name=\"26\">NeXTStep</a>\n",
            ", <a href=\"Daemon/Overview.html\" name=\"25\">Servers</a> , <a href=\"Tools/Overview.html\" name=\"51\">Tools</a> ,<a href=\"MailRobot/Overview.html\" name=\"53\"> Mail robot</a> ,<a href=\"Status.html#57\" name=\"52\">\n",
            "Library</a> )\n",
            "<dt><a href=\"Technical.html\" name=\"47\">Technical</a>\n",
            "<dd> Details of protocols, formats,\n",
            "program internals etc\n",
            "<dt><a href=\"Bibliography.html\" name=\"40\">Bibliography</a>\n",
            "<dd> Paper documentation\n",
            "on  W3 and references.\n",
            "<dt><a href=\"People.html\" name=\"14\">People</a>\n",
            "<dd> A list of some people involved\n",
            "in the project.\n",
            "<dt><a href=\"History.html\" name=\"15\">History</a>\n",
            "<dd> A summary of the history\n",
            "of the project.\n",
            "<dt><a href=\"Helping.html\" name=\"37\">How can I help</a> ?\n",
            "<dd> If you would like\n",
            "to support the web..\n",
            "<dt><a href=\"../README.html\" name=\"48\">Getting code</a>\n",
            "<dd> Getting the code by<a href=\"LineMode/Defaults/Distribution.html\" name=\"49\">\n",
            "anonymous FTP</a> , etc.</dd></dt></dd></dt></dd></dt></dd></dt></dd></dt></dd></dt></dd></dt></dd></dt>, <dt><a href=\"Status.html\" name=\"13\">Software Products</a>\n",
            "<dd> A list of W3 project\n",
            "components and their current state.\n",
            "(e.g. <a href=\"LineMode/Browser.html\" name=\"27\">Line Mode</a> ,X11 <a href=\"Status.html#35\" name=\"35\">Viola</a> ,  <a href=\"NeXT/WorldWideWeb.html\" name=\"26\">NeXTStep</a>\n",
            ", <a href=\"Daemon/Overview.html\" name=\"25\">Servers</a> , <a href=\"Tools/Overview.html\" name=\"51\">Tools</a> ,<a href=\"MailRobot/Overview.html\" name=\"53\"> Mail robot</a> ,<a href=\"Status.html#57\" name=\"52\">\n",
            "Library</a> )\n",
            "<dt><a href=\"Technical.html\" name=\"47\">Technical</a>\n",
            "<dd> Details of protocols, formats,\n",
            "program internals etc\n",
            "<dt><a href=\"Bibliography.html\" name=\"40\">Bibliography</a>\n",
            "<dd> Paper documentation\n",
            "on  W3 and references.\n",
            "<dt><a href=\"People.html\" name=\"14\">People</a>\n",
            "<dd> A list of some people involved\n",
            "in the project.\n",
            "<dt><a href=\"History.html\" name=\"15\">History</a>\n",
            "<dd> A summary of the history\n",
            "of the project.\n",
            "<dt><a href=\"Helping.html\" name=\"37\">How can I help</a> ?\n",
            "<dd> If you would like\n",
            "to support the web..\n",
            "<dt><a href=\"../README.html\" name=\"48\">Getting code</a>\n",
            "<dd> Getting the code by<a href=\"LineMode/Defaults/Distribution.html\" name=\"49\">\n",
            "anonymous FTP</a> , etc.</dd></dt></dd></dt></dd></dt></dd></dt></dd></dt></dd></dt></dd></dt>, <dt><a href=\"Technical.html\" name=\"47\">Technical</a>\n",
            "<dd> Details of protocols, formats,\n",
            "program internals etc\n",
            "<dt><a href=\"Bibliography.html\" name=\"40\">Bibliography</a>\n",
            "<dd> Paper documentation\n",
            "on  W3 and references.\n",
            "<dt><a href=\"People.html\" name=\"14\">People</a>\n",
            "<dd> A list of some people involved\n",
            "in the project.\n",
            "<dt><a href=\"History.html\" name=\"15\">History</a>\n",
            "<dd> A summary of the history\n",
            "of the project.\n",
            "<dt><a href=\"Helping.html\" name=\"37\">How can I help</a> ?\n",
            "<dd> If you would like\n",
            "to support the web..\n",
            "<dt><a href=\"../README.html\" name=\"48\">Getting code</a>\n",
            "<dd> Getting the code by<a href=\"LineMode/Defaults/Distribution.html\" name=\"49\">\n",
            "anonymous FTP</a> , etc.</dd></dt></dd></dt></dd></dt></dd></dt></dd></dt></dd></dt>, <dt><a href=\"Bibliography.html\" name=\"40\">Bibliography</a>\n",
            "<dd> Paper documentation\n",
            "on  W3 and references.\n",
            "<dt><a href=\"People.html\" name=\"14\">People</a>\n",
            "<dd> A list of some people involved\n",
            "in the project.\n",
            "<dt><a href=\"History.html\" name=\"15\">History</a>\n",
            "<dd> A summary of the history\n",
            "of the project.\n",
            "<dt><a href=\"Helping.html\" name=\"37\">How can I help</a> ?\n",
            "<dd> If you would like\n",
            "to support the web..\n",
            "<dt><a href=\"../README.html\" name=\"48\">Getting code</a>\n",
            "<dd> Getting the code by<a href=\"LineMode/Defaults/Distribution.html\" name=\"49\">\n",
            "anonymous FTP</a> , etc.</dd></dt></dd></dt></dd></dt></dd></dt></dd></dt>, <dt><a href=\"People.html\" name=\"14\">People</a>\n",
            "<dd> A list of some people involved\n",
            "in the project.\n",
            "<dt><a href=\"History.html\" name=\"15\">History</a>\n",
            "<dd> A summary of the history\n",
            "of the project.\n",
            "<dt><a href=\"Helping.html\" name=\"37\">How can I help</a> ?\n",
            "<dd> If you would like\n",
            "to support the web..\n",
            "<dt><a href=\"../README.html\" name=\"48\">Getting code</a>\n",
            "<dd> Getting the code by<a href=\"LineMode/Defaults/Distribution.html\" name=\"49\">\n",
            "anonymous FTP</a> , etc.</dd></dt></dd></dt></dd></dt></dd></dt>, <dt><a href=\"History.html\" name=\"15\">History</a>\n",
            "<dd> A summary of the history\n",
            "of the project.\n",
            "<dt><a href=\"Helping.html\" name=\"37\">How can I help</a> ?\n",
            "<dd> If you would like\n",
            "to support the web..\n",
            "<dt><a href=\"../README.html\" name=\"48\">Getting code</a>\n",
            "<dd> Getting the code by<a href=\"LineMode/Defaults/Distribution.html\" name=\"49\">\n",
            "anonymous FTP</a> , etc.</dd></dt></dd></dt></dd></dt>, <dt><a href=\"Helping.html\" name=\"37\">How can I help</a> ?\n",
            "<dd> If you would like\n",
            "to support the web..\n",
            "<dt><a href=\"../README.html\" name=\"48\">Getting code</a>\n",
            "<dd> Getting the code by<a href=\"LineMode/Defaults/Distribution.html\" name=\"49\">\n",
            "anonymous FTP</a> , etc.</dd></dt></dd></dt>, <dt><a href=\"../README.html\" name=\"48\">Getting code</a>\n",
            "<dd> Getting the code by<a href=\"LineMode/Defaults/Distribution.html\" name=\"49\">\n",
            "anonymous FTP</a> , etc.</dd></dt>]\n"
          ]
        }
      ]
    },
    {
      "cell_type": "code",
      "source": [
        "for i in dt_links:\n",
        "  print(i.a.string)\n",
        "\n",
        "# This is giving us the desired result"
      ],
      "metadata": {
        "colab": {
          "base_uri": "https://localhost:8080/"
        },
        "id": "y5n_E35dPzxw",
        "outputId": "0edd2dad-4d6d-4ded-a3f6-ee41b49dc139"
      },
      "execution_count": null,
      "outputs": [
        {
          "output_type": "stream",
          "name": "stdout",
          "text": [
            "What's out there?\n",
            "Help\n",
            "Software Products\n",
            "Technical\n",
            "Bibliography\n",
            "People\n",
            "History\n",
            "How can I help\n",
            "Getting code\n"
          ]
        }
      ]
    },
    {
      "cell_type": "markdown",
      "source": [
        "# Scrape Books from \n",
        "https://books.toscrape.com/"
      ],
      "metadata": {
        "id": "8a-ajtaqZoCa"
      }
    },
    {
      "cell_type": "code",
      "source": [
        "import requests\n",
        "from bs4 import BeautifulSoup"
      ],
      "metadata": {
        "id": "DVDjprlVZqJk"
      },
      "execution_count": null,
      "outputs": []
    },
    {
      "cell_type": "code",
      "source": [
        "response = requests.get('https://books.toscrape.com/index.html')\n",
        "\n",
        "response"
      ],
      "metadata": {
        "colab": {
          "base_uri": "https://localhost:8080/"
        },
        "id": "wgRQViq4Z0cj",
        "outputId": "9902463b-7a27-401d-dc41-3b563c4b6be4"
      },
      "execution_count": null,
      "outputs": [
        {
          "output_type": "execute_result",
          "data": {
            "text/plain": [
              "<Response [200]>"
            ]
          },
          "metadata": {},
          "execution_count": 127
        }
      ]
    },
    {
      "cell_type": "code",
      "source": [
        "response.headers"
      ],
      "metadata": {
        "colab": {
          "base_uri": "https://localhost:8080/"
        },
        "id": "eJBbjGR6Z06q",
        "outputId": "5845019b-d1dc-4536-dd28-d52b511f1050"
      },
      "execution_count": null,
      "outputs": [
        {
          "output_type": "execute_result",
          "data": {
            "text/plain": [
              "{'Server': 'nginx/1.17.7', 'Date': 'Mon, 09 May 2022 06:26:55 GMT', 'Content-Type': 'text/html', 'Transfer-Encoding': 'chunked', 'Connection': 'keep-alive', 'Vary': 'Accept-Encoding', 'Last-Modified': 'Thu, 25 Mar 2021 13:59:05 GMT', 'Strict-Transport-Security': 'max-age=15724800; includeSubDomains', 'Content-Encoding': 'gzip'}"
            ]
          },
          "metadata": {},
          "execution_count": 128
        }
      ]
    },
    {
      "cell_type": "code",
      "source": [
        "response.text"
      ],
      "metadata": {
        "colab": {
          "base_uri": "https://localhost:8080/",
          "height": 165
        },
        "id": "uPp7ZuH3Z-zL",
        "outputId": "c54eb58c-9302-47ac-fbbf-f4d0fb414d33"
      },
      "execution_count": null,
      "outputs": [
        {
          "output_type": "execute_result",
          "data": {
            "text/plain": [
              "'<!DOCTYPE html>\\n<!--[if lt IE 7]>      <html lang=\"en-us\" class=\"no-js lt-ie9 lt-ie8 lt-ie7\"> <![endif]-->\\n<!--[if IE 7]>         <html lang=\"en-us\" class=\"no-js lt-ie9 lt-ie8\"> <![endif]-->\\n<!--[if IE 8]>         <html lang=\"en-us\" class=\"no-js lt-ie9\"> <![endif]-->\\n<!--[if gt IE 8]><!--> <html lang=\"en-us\" class=\"no-js\"> <!--<![endif]-->\\n    <head>\\n        <title>\\n    All products | Books to Scrape - Sandbox\\n</title>\\n\\n        <meta http-equiv=\"content-type\" content=\"text/html; charset=UTF-8\" />\\n        <meta name=\"created\" content=\"24th Jun 2016 09:29\" />\\n        <meta name=\"description\" content=\"\" />\\n        <meta name=\"viewport\" content=\"width=device-width\" />\\n        <meta name=\"robots\" content=\"NOARCHIVE,NOCACHE\" />\\n\\n        <!-- Le HTML5 shim, for IE6-8 support of HTML elements -->\\n        <!--[if lt IE 9]>\\n        <script src=\"//html5shim.googlecode.com/svn/trunk/html5.js\"></script>\\n        <![endif]-->\\n\\n        \\n            <link rel=\"shortcut icon\" href=\"static/oscar/favicon.ico\" />\\n        \\n\\n        \\n        \\n    \\n    \\n        <link rel=\"stylesheet\" type=\"text/css\" href=\"static/oscar/css/styles.css\" />\\n    \\n    <link rel=\"stylesheet\" href=\"static/oscar/js/bootstrap-datetimepicker/bootstrap-datetimepicker.css\" />\\n    <link rel=\"stylesheet\" type=\"text/css\" href=\"static/oscar/css/datetimepicker.css\" />\\n\\n\\n        \\n        \\n\\n        \\n\\n        \\n            \\n            \\n\\n        \\n    </head>\\n\\n    <body id=\"default\" class=\"default\">\\n        \\n        \\n    \\n    \\n    <header class=\"header container-fluid\">\\n        <div class=\"page_inner\">\\n            <div class=\"row\">\\n                <div class=\"col-sm-8 h1\"><a href=\"index.html\">Books to Scrape</a><small> We love being scraped!</small>\\n</div>\\n\\n                \\n            </div>\\n        </div>\\n    </header>\\n\\n    \\n    \\n<div class=\"container-fluid page\">\\n    <div class=\"page_inner\">\\n        \\n    <ul class=\"breadcrumb\">\\n        <li>\\n            <a href=\"index.html\">Home</a>\\n        </li>\\n        <li class=\"active\">All products</li>\\n    </ul>\\n\\n        <div class=\"row\">\\n\\n            <aside class=\"sidebar col-sm-4 col-md-3\">\\n                \\n                <div id=\"promotions_left\">\\n                    \\n                </div>\\n                \\n    \\n    \\n        \\n        <div class=\"side_categories\">\\n            <ul class=\"nav nav-list\">\\n                \\n                    <li>\\n                        <a href=\"catalogue/category/books_1/index.html\">\\n                            \\n                                Books\\n                            \\n                        </a>\\n\\n                        <ul>\\n                        \\n                \\n                    <li>\\n                        <a href=\"catalogue/category/books/travel_2/index.html\">\\n                            \\n                                Travel\\n                            \\n                        </a>\\n\\n                        </li>\\n                        \\n                \\n                    <li>\\n                        <a href=\"catalogue/category/books/mystery_3/index.html\">\\n                            \\n                                Mystery\\n                            \\n                        </a>\\n\\n                        </li>\\n                        \\n                \\n                    <li>\\n                        <a href=\"catalogue/category/books/historical-fiction_4/index.html\">\\n                            \\n                                Historical Fiction\\n                            \\n                        </a>\\n\\n                        </li>\\n                        \\n                \\n                    <li>\\n                        <a href=\"catalogue/category/books/sequential-art_5/index.html\">\\n                            \\n                                Sequential Art\\n                            \\n                        </a>\\n\\n                        </li>\\n                        \\n                \\n                    <li>\\n                        <a href=\"catalogue/category/books/classics_6/index.html\">\\n                            \\n                                Classics\\n                            \\n                        </a>\\n\\n                        </li>\\n                        \\n                \\n                    <li>\\n                        <a href=\"catalogue/category/books/philosophy_7/index.html\">\\n                            \\n                                Philosophy\\n                            \\n                        </a>\\n\\n                        </li>\\n                        \\n                \\n                    <li>\\n                        <a href=\"catalogue/category/books/romance_8/index.html\">\\n                            \\n                                Romance\\n                            \\n                        </a>\\n\\n                        </li>\\n                        \\n                \\n                    <li>\\n                        <a href=\"catalogue/category/books/womens-fiction_9/index.html\">\\n                            \\n                                Womens Fiction\\n                            \\n                        </a>\\n\\n                        </li>\\n                        \\n                \\n                    <li>\\n                        <a href=\"catalogue/category/books/fiction_10/index.html\">\\n                            \\n                                Fiction\\n                            \\n                        </a>\\n\\n                        </li>\\n                        \\n                \\n                    <li>\\n                        <a href=\"catalogue/category/books/childrens_11/index.html\">\\n                            \\n                                Childrens\\n                            \\n                        </a>\\n\\n                        </li>\\n                        \\n                \\n                    <li>\\n                        <a href=\"catalogue/category/books/religion_12/index.html\">\\n                            \\n                                Religion\\n                            \\n                        </a>\\n\\n                        </li>\\n                        \\n                \\n                    <li>\\n                        <a href=\"catalogue/category/books/nonfiction_13/index.html\">\\n                            \\n                                Nonfiction\\n                            \\n                        </a>\\n\\n                        </li>\\n                        \\n                \\n                    <li>\\n                        <a href=\"catalogue/category/books/music_14/index.html\">\\n                            \\n                                Music\\n                            \\n                        </a>\\n\\n                        </li>\\n                        \\n                \\n                    <li>\\n                        <a href=\"catalogue/category/books/default_15/index.html\">\\n                            \\n                                Default\\n                            \\n                        </a>\\n\\n                        </li>\\n                        \\n                \\n                    <li>\\n                        <a href=\"catalogue/category/books/science-fiction_16/index.html\">\\n                            \\n                                Science Fiction\\n                            \\n                        </a>\\n\\n                        </li>\\n                        \\n                \\n                    <li>\\n                        <a href=\"catalogue/category/books/sports-and-games_17/index.html\">\\n                            \\n                                Sports and Games\\n                            \\n                        </a>\\n\\n                        </li>\\n                        \\n                \\n                    <li>\\n                        <a href=\"catalogue/category/books/add-a-comment_18/index.html\">\\n                            \\n                                Add a comment\\n                            \\n                        </a>\\n\\n                        </li>\\n                        \\n                \\n                    <li>\\n                        <a href=\"catalogue/category/books/fantasy_19/index.html\">\\n                            \\n                                Fantasy\\n                            \\n                        </a>\\n\\n                        </li>\\n                        \\n                \\n                    <li>\\n                        <a href=\"catalogue/category/books/new-adult_20/index.html\">\\n                            \\n                                New Adult\\n                            \\n                        </a>\\n\\n                        </li>\\n                        \\n                \\n                    <li>\\n                        <a href=\"catalogue/category/books/young-adult_21/index.html\">\\n                            \\n                                Young Adult\\n                            \\n                        </a>\\n\\n                        </li>\\n                        \\n                \\n                    <li>\\n                        <a href=\"catalogue/category/books/science_22/index.html\">\\n                            \\n                                Science\\n                            \\n                        </a>\\n\\n                        </li>\\n                        \\n                \\n                    <li>\\n                        <a href=\"catalogue/category/books/poetry_23/index.html\">\\n                            \\n                                Poetry\\n                            \\n                        </a>\\n\\n                        </li>\\n                        \\n                \\n                    <li>\\n                        <a href=\"catalogue/category/books/paranormal_24/index.html\">\\n                            \\n                                Paranormal\\n                            \\n                        </a>\\n\\n                        </li>\\n                        \\n                \\n                    <li>\\n                        <a href=\"catalogue/category/books/art_25/index.html\">\\n                            \\n                                Art\\n                            \\n                        </a>\\n\\n                        </li>\\n                        \\n                \\n                    <li>\\n                        <a href=\"catalogue/category/books/psychology_26/index.html\">\\n                            \\n                                Psychology\\n                            \\n                        </a>\\n\\n                        </li>\\n                        \\n                \\n                    <li>\\n                        <a href=\"catalogue/category/books/autobiography_27/index.html\">\\n                            \\n                                Autobiography\\n                            \\n                        </a>\\n\\n                        </li>\\n                        \\n                \\n                    <li>\\n                        <a href=\"catalogue/category/books/parenting_28/index.html\">\\n                            \\n                                Parenting\\n                            \\n                        </a>\\n\\n                        </li>\\n                        \\n                \\n                    <li>\\n                        <a href=\"catalogue/category/books/adult-fiction_29/index.html\">\\n                            \\n                                Adult Fiction\\n                            \\n                        </a>\\n\\n                        </li>\\n                        \\n                \\n                    <li>\\n                        <a href=\"catalogue/category/books/humor_30/index.html\">\\n                            \\n                                Humor\\n                            \\n                        </a>\\n\\n                        </li>\\n                        \\n                \\n                    <li>\\n                        <a href=\"catalogue/category/books/horror_31/index.html\">\\n                            \\n                                Horror\\n                            \\n                        </a>\\n\\n                        </li>\\n                        \\n                \\n                    <li>\\n                        <a href=\"catalogue/category/books/history_32/index.html\">\\n                            \\n                                History\\n                            \\n                        </a>\\n\\n                        </li>\\n                        \\n                \\n                    <li>\\n                        <a href=\"catalogue/category/books/food-and-drink_33/index.html\">\\n                            \\n                                Food and Drink\\n                            \\n                        </a>\\n\\n                        </li>\\n                        \\n                \\n                    <li>\\n                        <a href=\"catalogue/category/books/christian-fiction_34/index.html\">\\n                            \\n                                Christian Fiction\\n                            \\n                        </a>\\n\\n                        </li>\\n                        \\n                \\n                    <li>\\n                        <a href=\"catalogue/category/books/business_35/index.html\">\\n                            \\n                                Business\\n                            \\n                        </a>\\n\\n                        </li>\\n                        \\n                \\n                    <li>\\n                        <a href=\"catalogue/category/books/biography_36/index.html\">\\n                            \\n                                Biography\\n                            \\n                        </a>\\n\\n                        </li>\\n                        \\n                \\n                    <li>\\n                        <a href=\"catalogue/category/books/thriller_37/index.html\">\\n                            \\n                                Thriller\\n                            \\n                        </a>\\n\\n                        </li>\\n                        \\n                \\n                    <li>\\n                        <a href=\"catalogue/category/books/contemporary_38/index.html\">\\n                            \\n                                Contemporary\\n                            \\n                        </a>\\n\\n                        </li>\\n                        \\n                \\n                    <li>\\n                        <a href=\"catalogue/category/books/spirituality_39/index.html\">\\n                            \\n                                Spirituality\\n                            \\n                        </a>\\n\\n                        </li>\\n                        \\n                \\n                    <li>\\n                        <a href=\"catalogue/category/books/academic_40/index.html\">\\n                            \\n                                Academic\\n                            \\n                        </a>\\n\\n                        </li>\\n                        \\n                \\n                    <li>\\n                        <a href=\"catalogue/category/books/self-help_41/index.html\">\\n                            \\n                                Self Help\\n                            \\n                        </a>\\n\\n                        </li>\\n                        \\n                \\n                    <li>\\n                        <a href=\"catalogue/category/books/historical_42/index.html\">\\n                            \\n                                Historical\\n                            \\n                        </a>\\n\\n                        </li>\\n                        \\n                \\n                    <li>\\n                        <a href=\"catalogue/category/books/christian_43/index.html\">\\n                            \\n                                Christian\\n                            \\n                        </a>\\n\\n                        </li>\\n                        \\n                \\n                    <li>\\n                        <a href=\"catalogue/category/books/suspense_44/index.html\">\\n                            \\n                                Suspense\\n                            \\n                        </a>\\n\\n                        </li>\\n                        \\n                \\n                    <li>\\n                        <a href=\"catalogue/category/books/short-stories_45/index.html\">\\n                            \\n                                Short Stories\\n                            \\n                        </a>\\n\\n                        </li>\\n                        \\n                \\n                    <li>\\n                        <a href=\"catalogue/category/books/novels_46/index.html\">\\n                            \\n                                Novels\\n                            \\n                        </a>\\n\\n                        </li>\\n                        \\n                \\n                    <li>\\n                        <a href=\"catalogue/category/books/health_47/index.html\">\\n                            \\n                                Health\\n                            \\n                        </a>\\n\\n                        </li>\\n                        \\n                \\n                    <li>\\n                        <a href=\"catalogue/category/books/politics_48/index.html\">\\n                            \\n                                Politics\\n                            \\n                        </a>\\n\\n                        </li>\\n                        \\n                \\n                    <li>\\n                        <a href=\"catalogue/category/books/cultural_49/index.html\">\\n                            \\n                                Cultural\\n                            \\n                        </a>\\n\\n                        </li>\\n                        \\n                \\n                    <li>\\n                        <a href=\"catalogue/category/books/erotica_50/index.html\">\\n                            \\n                                Erotica\\n                            \\n                        </a>\\n\\n                        </li>\\n                        \\n                \\n                    <li>\\n                        <a href=\"catalogue/category/books/crime_51/index.html\">\\n                            \\n                                Crime\\n                            \\n                        </a>\\n\\n                        </li>\\n                        \\n                            </ul></li>\\n                        \\n                \\n            </ul>\\n        </div>\\n    \\n    \\n\\n            </aside>\\n\\n            <div class=\"col-sm-8 col-md-9\">\\n                \\n                <div class=\"page-header action\">\\n                    <h1>All products</h1>\\n                </div>\\n                \\n\\n                \\n\\n\\n\\n<div id=\"messages\">\\n\\n</div>\\n\\n\\n                <div id=\"promotions\">\\n                    \\n                </div>\\n\\n                \\n    <form method=\"get\" class=\"form-horizontal\">\\n        \\n        <div style=\"display:none\">\\n            \\n            \\n        </div>\\n\\n        \\n            \\n                \\n                    <strong>1000</strong> results - showing <strong>1</strong> to <strong>20</strong>.\\n                \\n            \\n            \\n        \\n    </form>\\n    \\n        <section>\\n            <div class=\"alert alert-warning\" role=\"alert\"><strong>Warning!</strong> This is a demo website for web scraping purposes. Prices and ratings here were randomly assigned and have no real meaning.</div>\\n\\n            <div>\\n                <ol class=\"row\">\\n                    \\n                        <li class=\"col-xs-6 col-sm-4 col-md-3 col-lg-3\">\\n\\n\\n\\n\\n\\n\\n    <article class=\"product_pod\">\\n        \\n            <div class=\"image_container\">\\n                \\n                    \\n                    <a href=\"catalogue/a-light-in-the-attic_1000/index.html\"><img src=\"media/cache/2c/da/2cdad67c44b002e7ead0cc35693c0e8b.jpg\" alt=\"A Light in the Attic\" class=\"thumbnail\"></a>\\n                    \\n                \\n            </div>\\n        \\n\\n        \\n            \\n                <p class=\"star-rating Three\">\\n                    <i class=\"icon-star\"></i>\\n                    <i class=\"icon-star\"></i>\\n                    <i class=\"icon-star\"></i>\\n                    <i class=\"icon-star\"></i>\\n                    <i class=\"icon-star\"></i>\\n                </p>\\n            \\n        \\n\\n        \\n            <h3><a href=\"catalogue/a-light-in-the-attic_1000/index.html\" title=\"A Light in the Attic\">A Light in the ...</a></h3>\\n        \\n\\n        \\n            <div class=\"product_price\">\\n                \\n\\n\\n\\n\\n\\n\\n    \\n        <p class=\"price_color\">Â£51.77</p>\\n    \\n\\n<p class=\"instock availability\">\\n    <i class=\"icon-ok\"></i>\\n    \\n        In stock\\n    \\n</p>\\n\\n                \\n                    \\n\\n\\n\\n\\n\\n\\n    \\n    <form>\\n        <button type=\"submit\" class=\"btn btn-primary btn-block\" data-loading-text=\"Adding...\">Add to basket</button>\\n    </form>\\n\\n\\n                \\n            </div>\\n        \\n    </article>\\n\\n</li>\\n                    \\n                        <li class=\"col-xs-6 col-sm-4 col-md-3 col-lg-3\">\\n\\n\\n\\n\\n\\n\\n    <article class=\"product_pod\">\\n        \\n            <div class=\"image_container\">\\n                \\n                    \\n                    <a href=\"catalogue/tipping-the-velvet_999/index.html\"><img src=\"media/cache/26/0c/260c6ae16bce31c8f8c95daddd9f4a1c.jpg\" alt=\"Tipping the Velvet\" class=\"thumbnail\"></a>\\n                    \\n                \\n            </div>\\n        \\n\\n        \\n            \\n                <p class=\"star-rating One\">\\n                    <i class=\"icon-star\"></i>\\n                    <i class=\"icon-star\"></i>\\n                    <i class=\"icon-star\"></i>\\n                    <i class=\"icon-star\"></i>\\n                    <i class=\"icon-star\"></i>\\n                </p>\\n            \\n        \\n\\n        \\n            <h3><a href=\"catalogue/tipping-the-velvet_999/index.html\" title=\"Tipping the Velvet\">Tipping the Velvet</a></h3>\\n        \\n\\n        \\n            <div class=\"product_price\">\\n                \\n\\n\\n\\n\\n\\n\\n    \\n        <p class=\"price_color\">Â£53.74</p>\\n    \\n\\n<p class=\"instock availability\">\\n    <i class=\"icon-ok\"></i>\\n    \\n        In stock\\n    \\n</p>\\n\\n                \\n                    \\n\\n\\n\\n\\n\\n\\n    \\n    <form>\\n        <button type=\"submit\" class=\"btn btn-primary btn-block\" data-loading-text=\"Adding...\">Add to basket</button>\\n    </form>\\n\\n\\n                \\n            </div>\\n        \\n    </article>\\n\\n</li>\\n                    \\n                        <li class=\"col-xs-6 col-sm-4 col-md-3 col-lg-3\">\\n\\n\\n\\n\\n\\n\\n    <article class=\"product_pod\">\\n        \\n            <div class=\"image_container\">\\n                \\n                    \\n                    <a href=\"catalogue/soumission_998/index.html\"><img src=\"media/cache/3e/ef/3eef99c9d9adef34639f510662022830.jpg\" alt=\"Soumission\" class=\"thumbnail\"></a>\\n                    \\n                \\n            </div>\\n        \\n\\n        \\n            \\n                <p class=\"star-rating One\">\\n                    <i class=\"icon-star\"></i>\\n                    <i class=\"icon-star\"></i>\\n                    <i class=\"icon-star\"></i>\\n                    <i class=\"icon-star\"></i>\\n                    <i class=\"icon-star\"></i>\\n                </p>\\n            \\n        \\n\\n        \\n            <h3><a href=\"catalogue/soumission_998/index.html\" title=\"Soumission\">Soumission</a></h3>\\n        \\n\\n        \\n            <div class=\"product_price\">\\n                \\n\\n\\n\\n\\n\\n\\n    \\n        <p class=\"price_color\">Â£50.10</p>\\n    \\n\\n<p class=\"instock availability\">\\n    <i class=\"icon-ok\"></i>\\n    \\n        In stock\\n    \\n</p>\\n\\n                \\n                    \\n\\n\\n\\n\\n\\n\\n    \\n    <form>\\n        <button type=\"submit\" class=\"btn btn-primary btn-block\" data-loading-text=\"Adding...\">Add to basket</button>\\n    </form>\\n\\n\\n                \\n            </div>\\n        \\n    </article>\\n\\n</li>\\n                    \\n                        <li class=\"col-xs-6 col-sm-4 col-md-3 col-lg-3\">\\n\\n\\n\\n\\n\\n\\n    <article class=\"product_pod\">\\n        \\n            <div class=\"image_container\">\\n                \\n                    \\n                    <a href=\"catalogue/sharp-objects_997/index.html\"><img src=\"media/cache/32/51/3251cf3a3412f53f339e42cac2134093.jpg\" alt=\"Sharp Objects\" class=\"thumbnail\"></a>\\n                    \\n                \\n            </div>\\n        \\n\\n        \\n            \\n                <p class=\"star-rating Four\">\\n                    <i class=\"icon-star\"></i>\\n                    <i class=\"icon-star\"></i>\\n                    <i class=\"icon-star\"></i>\\n                    <i class=\"icon-star\"></i>\\n                    <i class=\"icon-star\"></i>\\n                </p>\\n            \\n        \\n\\n        \\n            <h3><a href=\"catalogue/sharp-objects_997/index.html\" title=\"Sharp Objects\">Sharp Objects</a></h3>\\n        \\n\\n        \\n            <div class=\"product_price\">\\n                \\n\\n\\n\\n\\n\\n\\n    \\n        <p class=\"price_color\">Â£47.82</p>\\n    \\n\\n<p class=\"instock availability\">\\n    <i class=\"icon-ok\"></i>\\n    \\n        In stock\\n    \\n</p>\\n\\n                \\n                    \\n\\n\\n\\n\\n\\n\\n    \\n    <form>\\n        <button type=\"submit\" class=\"btn btn-primary btn-block\" data-loading-text=\"Adding...\">Add to basket</button>\\n    </form>\\n\\n\\n                \\n            </div>\\n        \\n    </article>\\n\\n</li>\\n                    \\n                        <li class=\"col-xs-6 col-sm-4 col-md-3 col-lg-3\">\\n\\n\\n\\n\\n\\n\\n    <article class=\"product_pod\">\\n        \\n            <div class=\"image_container\">\\n                \\n                    \\n                    <a href=\"catalogue/sapiens-a-brief-history-of-humankind_996/index.html\"><img src=\"media/cache/be/a5/bea5697f2534a2f86a3ef27b5a8c12a6.jpg\" alt=\"Sapiens: A Brief History of Humankind\" class=\"thumbnail\"></a>\\n                    \\n                \\n            </div>\\n        \\n\\n        \\n            \\n                <p class=\"star-rating Five\">\\n                    <i class=\"icon-star\"></i>\\n                    <i class=\"icon-star\"></i>\\n                    <i class=\"icon-star\"></i>\\n                    <i class=\"icon-star\"></i>\\n                    <i class=\"icon-star\"></i>\\n                </p>\\n            \\n        \\n\\n        \\n            <h3><a href=\"catalogue/sapiens-a-brief-history-of-humankind_996/index.html\" title=\"Sapiens: A Brief History of Humankind\">Sapiens: A Brief History ...</a></h3>\\n        \\n\\n        \\n            <div class=\"product_price\">\\n                \\n\\n\\n\\n\\n\\n\\n    \\n        <p class=\"price_color\">Â£54.23</p>\\n    \\n\\n<p class=\"instock availability\">\\n    <i class=\"icon-ok\"></i>\\n    \\n        In stock\\n    \\n</p>\\n\\n                \\n                    \\n\\n\\n\\n\\n\\n\\n    \\n    <form>\\n        <button type=\"submit\" class=\"btn btn-primary btn-block\" data-loading-text=\"Adding...\">Add to basket</button>\\n    </form>\\n\\n\\n                \\n            </div>\\n        \\n    </article>\\n\\n</li>\\n                    \\n                        <li class=\"col-xs-6 col-sm-4 col-md-3 col-lg-3\">\\n\\n\\n\\n\\n\\n\\n    <article class=\"product_pod\">\\n        \\n            <div class=\"image_container\">\\n                \\n                    \\n                    <a href=\"catalogue/the-requiem-red_995/index.html\"><img src=\"media/cache/68/33/68339b4c9bc034267e1da611ab3b34f8.jpg\" alt=\"The Requiem Red\" class=\"thumbnail\"></a>\\n                    \\n                \\n            </div>\\n        \\n\\n        \\n            \\n                <p class=\"star-rating One\">\\n                    <i class=\"icon-star\"></i>\\n                    <i class=\"icon-star\"></i>\\n                    <i class=\"icon-star\"></i>\\n                    <i class=\"icon-star\"></i>\\n                    <i class=\"icon-star\"></i>\\n                </p>\\n            \\n        \\n\\n        \\n            <h3><a href=\"catalogue/the-requiem-red_995/index.html\" title=\"The Requiem Red\">The Requiem Red</a></h3>\\n        \\n\\n        \\n            <div class=\"product_price\">\\n                \\n\\n\\n\\n\\n\\n\\n    \\n        <p class=\"price_color\">Â£22.65</p>\\n    \\n\\n<p class=\"instock availability\">\\n    <i class=\"icon-ok\"></i>\\n    \\n        In stock\\n    \\n</p>\\n\\n                \\n                    \\n\\n\\n\\n\\n\\n\\n    \\n    <form>\\n        <button type=\"submit\" class=\"btn btn-primary btn-block\" data-loading-text=\"Adding...\">Add to basket</button>\\n    </form>\\n\\n\\n                \\n            </div>\\n        \\n    </article>\\n\\n</li>\\n                    \\n                        <li class=\"col-xs-6 col-sm-4 col-md-3 col-lg-3\">\\n\\n\\n\\n\\n\\n\\n    <article class=\"product_pod\">\\n        \\n            <div class=\"image_container\">\\n                \\n                    \\n                    <a href=\"catalogue/the-dirty-little-secrets-of-getting-your-dream-job_994/index.html\"><img src=\"media/cache/92/27/92274a95b7c251fea59a2b8a78275ab4.jpg\" alt=\"The Dirty Little Secrets of Getting Your Dream Job\" class=\"thumbnail\"></a>\\n                    \\n                \\n            </div>\\n        \\n\\n        \\n            \\n                <p class=\"star-rating Four\">\\n                    <i class=\"icon-star\"></i>\\n                    <i class=\"icon-star\"></i>\\n                    <i class=\"icon-star\"></i>\\n                    <i class=\"icon-star\"></i>\\n                    <i class=\"icon-star\"></i>\\n                </p>\\n            \\n        \\n\\n        \\n            <h3><a href=\"catalogue/the-dirty-little-secrets-of-getting-your-dream-job_994/index.html\" title=\"The Dirty Little Secrets of Getting Your Dream Job\">The Dirty Little Secrets ...</a></h3>\\n        \\n\\n        \\n            <div class=\"product_price\">\\n                \\n\\n\\n\\n\\n\\n\\n    \\n        <p class=\"price_color\">Â£33.34</p>\\n    \\n\\n<p class=\"instock availability\">\\n    <i class=\"icon-ok\"></i>\\n    \\n        In stock\\n    \\n</p>\\n\\n                \\n                    \\n\\n\\n\\n\\n\\n\\n    \\n    <form>\\n        <button type=\"submit\" class=\"btn btn-primary btn-block\" data-loading-text=\"Adding...\">Add to basket</button>\\n    </form>\\n\\n\\n                \\n            </div>\\n        \\n    </article>\\n\\n</li>\\n                    \\n                        <li class=\"col-xs-6 col-sm-4 col-md-3 col-lg-3\">\\n\\n\\n\\n\\n\\n\\n    <article class=\"product_pod\">\\n        \\n            <div class=\"image_container\">\\n                \\n                    \\n                    <a href=\"catalogue/the-coming-woman-a-novel-based-on-the-life-of-the-infamous-feminist-victoria-woodhull_993/index.html\"><img src=\"media/cache/3d/54/3d54940e57e662c4dd1f3ff00c78cc64.jpg\" alt=\"The Coming Woman: A Novel Based on the Life of the Infamous Feminist, Victoria Woodhull\" class=\"thumbnail\"></a>\\n                    \\n                \\n            </div>\\n        \\n\\n        \\n            \\n                <p class=\"star-rating Three\">\\n                    <i class=\"icon-star\"></i>\\n                    <i class=\"icon-star\"></i>\\n                    <i class=\"icon-star\"></i>\\n                    <i class=\"icon-star\"></i>\\n                    <i class=\"icon-star\"></i>\\n                </p>\\n            \\n        \\n\\n        \\n            <h3><a href=\"catalogue/the-coming-woman-a-novel-based-on-the-life-of-the-infamous-feminist-victoria-woodhull_993/index.html\" title=\"The Coming Woman: A Novel Based on the Life of the Infamous Feminist, Victoria Woodhull\">The Coming Woman: A ...</a></h3>\\n        \\n\\n        \\n            <div class=\"product_price\">\\n                \\n\\n\\n\\n\\n\\n\\n    \\n        <p class=\"price_color\">Â£17.93</p>\\n    \\n\\n<p class=\"instock availability\">\\n    <i class=\"icon-ok\"></i>\\n    \\n        In stock\\n    \\n</p>\\n\\n                \\n                    \\n\\n\\n\\n\\n\\n\\n    \\n    <form>\\n        <button type=\"submit\" class=\"btn btn-primary btn-block\" data-loading-text=\"Adding...\">Add to basket</button>\\n    </form>\\n\\n\\n                \\n            </div>\\n        \\n    </article>\\n\\n</li>\\n                    \\n                        <li class=\"col-xs-6 col-sm-4 col-md-3 col-lg-3\">\\n\\n\\n\\n\\n\\n\\n    <article class=\"product_pod\">\\n        \\n            <div class=\"image_container\">\\n                \\n                    \\n                    <a href=\"catalogue/the-boys-in-the-boat-nine-americans-and-their-epic-quest-for-gold-at-the-1936-berlin-olympics_992/index.html\"><img src=\"media/cache/66/88/66883b91f6804b2323c8369331cb7dd1.jpg\" alt=\"The Boys in the Boat: Nine Americans and Their Epic Quest for Gold at the 1936 Berlin Olympics\" class=\"thumbnail\"></a>\\n                    \\n                \\n            </div>\\n        \\n\\n        \\n            \\n                <p class=\"star-rating Four\">\\n                    <i class=\"icon-star\"></i>\\n                    <i class=\"icon-star\"></i>\\n                    <i class=\"icon-star\"></i>\\n                    <i class=\"icon-star\"></i>\\n                    <i class=\"icon-star\"></i>\\n                </p>\\n            \\n        \\n\\n        \\n            <h3><a href=\"catalogue/the-boys-in-the-boat-nine-americans-and-their-epic-quest-for-gold-at-the-1936-berlin-olympics_992/index.html\" title=\"The Boys in the Boat: Nine Americans and Their Epic Quest for Gold at the 1936 Berlin Olympics\">The Boys in the ...</a></h3>\\n        \\n\\n        \\n            <div class=\"product_price\">\\n                \\n\\n\\n\\n\\n\\n\\n    \\n        <p class=\"price_color\">Â£22.60</p>\\n    \\n\\n<p class=\"instock availability\">\\n    <i class=\"icon-ok\"></i>\\n    \\n        In stock\\n    \\n</p>\\n\\n                \\n                    \\n\\n\\n\\n\\n\\n\\n    \\n    <form>\\n        <button type=\"submit\" class=\"btn btn-primary btn-block\" data-loading-text=\"Adding...\">Add to basket</button>\\n    </form>\\n\\n\\n                \\n            </div>\\n        \\n    </article>\\n\\n</li>\\n                    \\n                        <li class=\"col-xs-6 col-sm-4 col-md-3 col-lg-3\">\\n\\n\\n\\n\\n\\n\\n    <article class=\"product_pod\">\\n        \\n            <div class=\"image_container\">\\n                \\n                    \\n                    <a href=\"catalogue/the-black-maria_991/index.html\"><img src=\"media/cache/58/46/5846057e28022268153beff6d352b06c.jpg\" alt=\"The Black Maria\" class=\"thumbnail\"></a>\\n                    \\n                \\n            </div>\\n        \\n\\n        \\n            \\n                <p class=\"star-rating One\">\\n                    <i class=\"icon-star\"></i>\\n                    <i class=\"icon-star\"></i>\\n                    <i class=\"icon-star\"></i>\\n                    <i class=\"icon-star\"></i>\\n                    <i class=\"icon-star\"></i>\\n                </p>\\n            \\n        \\n\\n        \\n            <h3><a href=\"catalogue/the-black-maria_991/index.html\" title=\"The Black Maria\">The Black Maria</a></h3>\\n        \\n\\n        \\n            <div class=\"product_price\">\\n                \\n\\n\\n\\n\\n\\n\\n    \\n        <p class=\"price_color\">Â£52.15</p>\\n    \\n\\n<p class=\"instock availability\">\\n    <i class=\"icon-ok\"></i>\\n    \\n        In stock\\n    \\n</p>\\n\\n                \\n                    \\n\\n\\n\\n\\n\\n\\n    \\n    <form>\\n        <button type=\"submit\" class=\"btn btn-primary btn-block\" data-loading-text=\"Adding...\">Add to basket</button>\\n    </form>\\n\\n\\n                \\n            </div>\\n        \\n    </article>\\n\\n</li>\\n                    \\n                        <li class=\"col-xs-6 col-sm-4 col-md-3 col-lg-3\">\\n\\n\\n\\n\\n\\n\\n    <article class=\"product_pod\">\\n        \\n            <div class=\"image_container\">\\n                \\n                    \\n                    <a href=\"catalogue/starving-hearts-triangular-trade-trilogy-1_990/index.html\"><img src=\"media/cache/be/f4/bef44da28c98f905a3ebec0b87be8530.jpg\" alt=\"Starving Hearts (Triangular Trade Trilogy, #1)\" class=\"thumbnail\"></a>\\n                    \\n                \\n            </div>\\n        \\n\\n        \\n            \\n                <p class=\"star-rating Two\">\\n                    <i class=\"icon-star\"></i>\\n                    <i class=\"icon-star\"></i>\\n                    <i class=\"icon-star\"></i>\\n                    <i class=\"icon-star\"></i>\\n                    <i class=\"icon-star\"></i>\\n                </p>\\n            \\n        \\n\\n        \\n            <h3><a href=\"catalogue/starving-hearts-triangular-trade-trilogy-1_990/index.html\" title=\"Starving Hearts (Triangular Trade Trilogy, #1)\">Starving Hearts (Triangular Trade ...</a></h3>\\n        \\n\\n        \\n            <div class=\"product_price\">\\n                \\n\\n\\n\\n\\n\\n\\n    \\n        <p class=\"price_color\">Â£13.99</p>\\n    \\n\\n<p class=\"instock availability\">\\n    <i class=\"icon-ok\"></i>\\n    \\n        In stock\\n    \\n</p>\\n\\n                \\n                    \\n\\n\\n\\n\\n\\n\\n    \\n    <form>\\n        <button type=\"submit\" class=\"btn btn-primary btn-block\" data-loading-text=\"Adding...\">Add to basket</button>\\n    </form>\\n\\n\\n                \\n            </div>\\n        \\n    </article>\\n\\n</li>\\n                    \\n                        <li class=\"col-xs-6 col-sm-4 col-md-3 col-lg-3\">\\n\\n\\n\\n\\n\\n\\n    <article class=\"product_pod\">\\n        \\n            <div class=\"image_container\">\\n                \\n                    \\n                    <a href=\"catalogue/shakespeares-sonnets_989/index.html\"><img src=\"media/cache/10/48/1048f63d3b5061cd2f424d20b3f9b666.jpg\" alt=\"Shakespeare&#39;s Sonnets\" class=\"thumbnail\"></a>\\n                    \\n                \\n            </div>\\n        \\n\\n        \\n            \\n                <p class=\"star-rating Four\">\\n                    <i class=\"icon-star\"></i>\\n                    <i class=\"icon-star\"></i>\\n                    <i class=\"icon-star\"></i>\\n                    <i class=\"icon-star\"></i>\\n                    <i class=\"icon-star\"></i>\\n                </p>\\n            \\n        \\n\\n        \\n            <h3><a href=\"catalogue/shakespeares-sonnets_989/index.html\" title=\"Shakespeare&#39;s Sonnets\">Shakespeare&#39;s Sonnets</a></h3>\\n        \\n\\n        \\n            <div class=\"product_price\">\\n                \\n\\n\\n\\n\\n\\n\\n    \\n        <p class=\"price_color\">Â£20.66</p>\\n    \\n\\n<p class=\"instock availability\">\\n    <i class=\"icon-ok\"></i>\\n    \\n        In stock\\n    \\n</p>\\n\\n                \\n                    \\n\\n\\n\\n\\n\\n\\n    \\n    <form>\\n        <button type=\"submit\" class=\"btn btn-primary btn-block\" data-loading-text=\"Adding...\">Add to basket</button>\\n    </form>\\n\\n\\n                \\n            </div>\\n        \\n    </article>\\n\\n</li>\\n                    \\n                        <li class=\"col-xs-6 col-sm-4 col-md-3 col-lg-3\">\\n\\n\\n\\n\\n\\n\\n    <article class=\"product_pod\">\\n        \\n            <div class=\"image_container\">\\n                \\n                    \\n                    <a href=\"catalogue/set-me-free_988/index.html\"><img src=\"media/cache/5b/88/5b88c52633f53cacf162c15f4f823153.jpg\" alt=\"Set Me Free\" class=\"thumbnail\"></a>\\n                    \\n                \\n            </div>\\n        \\n\\n        \\n            \\n                <p class=\"star-rating Five\">\\n                    <i class=\"icon-star\"></i>\\n                    <i class=\"icon-star\"></i>\\n                    <i class=\"icon-star\"></i>\\n                    <i class=\"icon-star\"></i>\\n                    <i class=\"icon-star\"></i>\\n                </p>\\n            \\n        \\n\\n        \\n            <h3><a href=\"catalogue/set-me-free_988/index.html\" title=\"Set Me Free\">Set Me Free</a></h3>\\n        \\n\\n        \\n            <div class=\"product_price\">\\n                \\n\\n\\n\\n\\n\\n\\n    \\n        <p class=\"price_color\">Â£17.46</p>\\n    \\n\\n<p class=\"instock availability\">\\n    <i class=\"icon-ok\"></i>\\n    \\n        In stock\\n    \\n</p>\\n\\n                \\n                    \\n\\n\\n\\n\\n\\n\\n    \\n    <form>\\n        <button type=\"submit\" class=\"btn btn-primary btn-block\" data-loading-text=\"Adding...\">Add to basket</button>\\n    </form>\\n\\n\\n                \\n            </div>\\n        \\n    </article>\\n\\n</li>\\n                    \\n                        <li class=\"col-xs-6 col-sm-4 col-md-3 col-lg-3\">\\n\\n\\n\\n\\n\\n\\n    <article class=\"product_pod\">\\n        \\n            <div class=\"image_container\">\\n                \\n                    \\n                    <a href=\"catalogue/scott-pilgrims-precious-little-life-scott-pilgrim-1_987/index.html\"><img src=\"media/cache/94/b1/94b1b8b244bce9677c2f29ccc890d4d2.jpg\" alt=\"Scott Pilgrim&#39;s Precious Little Life (Scott Pilgrim #1)\" class=\"thumbnail\"></a>\\n                    \\n                \\n            </div>\\n        \\n\\n        \\n            \\n                <p class=\"star-rating Five\">\\n                    <i class=\"icon-star\"></i>\\n                    <i class=\"icon-star\"></i>\\n                    <i class=\"icon-star\"></i>\\n                    <i class=\"icon-star\"></i>\\n                    <i class=\"icon-star\"></i>\\n                </p>\\n            \\n        \\n\\n        \\n            <h3><a href=\"catalogue/scott-pilgrims-precious-little-life-scott-pilgrim-1_987/index.html\" title=\"Scott Pilgrim&#39;s Precious Little Life (Scott Pilgrim #1)\">Scott Pilgrim&#39;s Precious Little ...</a></h3>\\n        \\n\\n        \\n            <div class=\"product_price\">\\n                \\n\\n\\n\\n\\n\\n\\n    \\n        <p class=\"price_color\">Â£52.29</p>\\n    \\n\\n<p class=\"instock availability\">\\n    <i class=\"icon-ok\"></i>\\n    \\n        In stock\\n    \\n</p>\\n\\n                \\n                    \\n\\n\\n\\n\\n\\n\\n    \\n    <form>\\n        <button type=\"submit\" class=\"btn btn-primary btn-block\" data-loading-text=\"Adding...\">Add to basket</button>\\n    </form>\\n\\n\\n                \\n            </div>\\n        \\n    </article>\\n\\n</li>\\n                    \\n                        <li class=\"col-xs-6 col-sm-4 col-md-3 col-lg-3\">\\n\\n\\n\\n\\n\\n\\n    <article class=\"product_pod\">\\n        \\n            <div class=\"image_container\">\\n                \\n                    \\n                    <a href=\"catalogue/rip-it-up-and-start-again_986/index.html\"><img src=\"media/cache/81/c4/81c4a973364e17d01f217e1188253d5e.jpg\" alt=\"Rip it Up and Start Again\" class=\"thumbnail\"></a>\\n                    \\n                \\n            </div>\\n        \\n\\n        \\n            \\n                <p class=\"star-rating Five\">\\n                    <i class=\"icon-star\"></i>\\n                    <i class=\"icon-star\"></i>\\n                    <i class=\"icon-star\"></i>\\n                    <i class=\"icon-star\"></i>\\n                    <i class=\"icon-star\"></i>\\n                </p>\\n            \\n        \\n\\n        \\n            <h3><a href=\"catalogue/rip-it-up-and-start-again_986/index.html\" title=\"Rip it Up and Start Again\">Rip it Up and ...</a></h3>\\n        \\n\\n        \\n            <div class=\"product_price\">\\n                \\n\\n\\n\\n\\n\\n\\n    \\n        <p class=\"price_color\">Â£35.02</p>\\n    \\n\\n<p class=\"instock availability\">\\n    <i class=\"icon-ok\"></i>\\n    \\n        In stock\\n    \\n</p>\\n\\n                \\n                    \\n\\n\\n\\n\\n\\n\\n    \\n    <form>\\n        <button type=\"submit\" class=\"btn btn-primary btn-block\" data-loading-text=\"Adding...\">Add to basket</button>\\n    </form>\\n\\n\\n                \\n            </div>\\n        \\n    </article>\\n\\n</li>\\n                    \\n                        <li class=\"col-xs-6 col-sm-4 col-md-3 col-lg-3\">\\n\\n\\n\\n\\n\\n\\n    <article class=\"product_pod\">\\n        \\n            <div class=\"image_container\">\\n                \\n                    \\n                    <a href=\"catalogue/our-band-could-be-your-life-scenes-from-the-american-indie-underground-1981-1991_985/index.html\"><img src=\"media/cache/54/60/54607fe8945897cdcced0044103b10b6.jpg\" alt=\"Our Band Could Be Your Life: Scenes from the American Indie Underground, 1981-1991\" class=\"thumbnail\"></a>\\n                    \\n                \\n            </div>\\n        \\n\\n        \\n            \\n                <p class=\"star-rating Three\">\\n                    <i class=\"icon-star\"></i>\\n                    <i class=\"icon-star\"></i>\\n                    <i class=\"icon-star\"></i>\\n                    <i class=\"icon-star\"></i>\\n                    <i class=\"icon-star\"></i>\\n                </p>\\n            \\n        \\n\\n        \\n            <h3><a href=\"catalogue/our-band-could-be-your-life-scenes-from-the-american-indie-underground-1981-1991_985/index.html\" title=\"Our Band Could Be Your Life: Scenes from the American Indie Underground, 1981-1991\">Our Band Could Be ...</a></h3>\\n        \\n\\n        \\n            <div class=\"product_price\">\\n                \\n\\n\\n\\n\\n\\n\\n    \\n        <p class=\"price_color\">Â£57.25</p>\\n    \\n\\n<p class=\"instock availability\">\\n    <i class=\"icon-ok\"></i>\\n    \\n        In stock\\n    \\n</p>\\n\\n                \\n                    \\n\\n\\n\\n\\n\\n\\n    \\n    <form>\\n        <button type=\"submit\" class=\"btn btn-primary btn-block\" data-loading-text=\"Adding...\">Add to basket</button>\\n    </form>\\n\\n\\n                \\n            </div>\\n        \\n    </article>\\n\\n</li>\\n                    \\n                        <li class=\"col-xs-6 col-sm-4 col-md-3 col-lg-3\">\\n\\n\\n\\n\\n\\n\\n    <article class=\"product_pod\">\\n        \\n            <div class=\"image_container\">\\n                \\n                    \\n                    <a href=\"catalogue/olio_984/index.html\"><img src=\"media/cache/55/33/553310a7162dfbc2c6d19a84da0df9e1.jpg\" alt=\"Olio\" class=\"thumbnail\"></a>\\n                    \\n                \\n            </div>\\n        \\n\\n        \\n            \\n                <p class=\"star-rating One\">\\n                    <i class=\"icon-star\"></i>\\n                    <i class=\"icon-star\"></i>\\n                    <i class=\"icon-star\"></i>\\n                    <i class=\"icon-star\"></i>\\n                    <i class=\"icon-star\"></i>\\n                </p>\\n            \\n        \\n\\n        \\n            <h3><a href=\"catalogue/olio_984/index.html\" title=\"Olio\">Olio</a></h3>\\n        \\n\\n        \\n            <div class=\"product_price\">\\n                \\n\\n\\n\\n\\n\\n\\n    \\n        <p class=\"price_color\">Â£23.88</p>\\n    \\n\\n<p class=\"instock availability\">\\n    <i class=\"icon-ok\"></i>\\n    \\n        In stock\\n    \\n</p>\\n\\n                \\n                    \\n\\n\\n\\n\\n\\n\\n    \\n    <form>\\n        <button type=\"submit\" class=\"btn btn-primary btn-block\" data-loading-text=\"Adding...\">Add to basket</button>\\n    </form>\\n\\n\\n                \\n            </div>\\n        \\n    </article>\\n\\n</li>\\n                    \\n                        <li class=\"col-xs-6 col-sm-4 col-md-3 col-lg-3\">\\n\\n\\n\\n\\n\\n\\n    <article class=\"product_pod\">\\n        \\n            <div class=\"image_container\">\\n                \\n                    \\n                    <a href=\"catalogue/mesaerion-the-best-science-fiction-stories-1800-1849_983/index.html\"><img src=\"media/cache/09/a3/09a3aef48557576e1a85ba7efea8ecb7.jpg\" alt=\"Mesaerion: The Best Science Fiction Stories 1800-1849\" class=\"thumbnail\"></a>\\n                    \\n                \\n            </div>\\n        \\n\\n        \\n            \\n                <p class=\"star-rating One\">\\n                    <i class=\"icon-star\"></i>\\n                    <i class=\"icon-star\"></i>\\n                    <i class=\"icon-star\"></i>\\n                    <i class=\"icon-star\"></i>\\n                    <i class=\"icon-star\"></i>\\n                </p>\\n            \\n        \\n\\n        \\n            <h3><a href=\"catalogue/mesaerion-the-best-science-fiction-stories-1800-1849_983/index.html\" title=\"Mesaerion: The Best Science Fiction Stories 1800-1849\">Mesaerion: The Best Science ...</a></h3>\\n        \\n\\n        \\n            <div class=\"product_price\">\\n                \\n\\n\\n\\n\\n\\n\\n    \\n        <p class=\"price_color\">Â£37.59</p>\\n    \\n\\n<p class=\"instock availability\">\\n    <i class=\"icon-ok\"></i>\\n    \\n        In stock\\n    \\n</p>\\n\\n                \\n                    \\n\\n\\n\\n\\n\\n\\n    \\n    <form>\\n        <button type=\"submit\" class=\"btn btn-primary btn-block\" data-loading-text=\"Adding...\">Add to basket</button>\\n    </form>\\n\\n\\n                \\n            </div>\\n        \\n    </article>\\n\\n</li>\\n                    \\n                        <li class=\"col-xs-6 col-sm-4 col-md-3 col-lg-3\">\\n\\n\\n\\n\\n\\n\\n    <article class=\"product_pod\">\\n        \\n            <div class=\"image_container\">\\n                \\n                    \\n                    <a href=\"catalogue/libertarianism-for-beginners_982/index.html\"><img src=\"media/cache/0b/bc/0bbcd0a6f4bcd81ccb1049a52736406e.jpg\" alt=\"Libertarianism for Beginners\" class=\"thumbnail\"></a>\\n                    \\n                \\n            </div>\\n        \\n\\n        \\n            \\n                <p class=\"star-rating Two\">\\n                    <i class=\"icon-star\"></i>\\n                    <i class=\"icon-star\"></i>\\n                    <i class=\"icon-star\"></i>\\n                    <i class=\"icon-star\"></i>\\n                    <i class=\"icon-star\"></i>\\n                </p>\\n            \\n        \\n\\n        \\n            <h3><a href=\"catalogue/libertarianism-for-beginners_982/index.html\" title=\"Libertarianism for Beginners\">Libertarianism for Beginners</a></h3>\\n        \\n\\n        \\n            <div class=\"product_price\">\\n                \\n\\n\\n\\n\\n\\n\\n    \\n        <p class=\"price_color\">Â£51.33</p>\\n    \\n\\n<p class=\"instock availability\">\\n    <i class=\"icon-ok\"></i>\\n    \\n        In stock\\n    \\n</p>\\n\\n                \\n                    \\n\\n\\n\\n\\n\\n\\n    \\n    <form>\\n        <button type=\"submit\" class=\"btn btn-primary btn-block\" data-loading-text=\"Adding...\">Add to basket</button>\\n    </form>\\n\\n\\n                \\n            </div>\\n        \\n    </article>\\n\\n</li>\\n                    \\n                        <li class=\"col-xs-6 col-sm-4 col-md-3 col-lg-3\">\\n\\n\\n\\n\\n\\n\\n    <article class=\"product_pod\">\\n        \\n            <div class=\"image_container\">\\n                \\n                    \\n                    <a href=\"catalogue/its-only-the-himalayas_981/index.html\"><img src=\"media/cache/27/a5/27a53d0bb95bdd88288eaf66c9230d7e.jpg\" alt=\"It&#39;s Only the Himalayas\" class=\"thumbnail\"></a>\\n                    \\n                \\n            </div>\\n        \\n\\n        \\n            \\n                <p class=\"star-rating Two\">\\n                    <i class=\"icon-star\"></i>\\n                    <i class=\"icon-star\"></i>\\n                    <i class=\"icon-star\"></i>\\n                    <i class=\"icon-star\"></i>\\n                    <i class=\"icon-star\"></i>\\n                </p>\\n            \\n        \\n\\n        \\n            <h3><a href=\"catalogue/its-only-the-himalayas_981/index.html\" title=\"It&#39;s Only the Himalayas\">It&#39;s Only the Himalayas</a></h3>\\n        \\n\\n        \\n            <div class=\"product_price\">\\n                \\n\\n\\n\\n\\n\\n\\n    \\n        <p class=\"price_color\">Â£45.17</p>\\n    \\n\\n<p class=\"instock availability\">\\n    <i class=\"icon-ok\"></i>\\n    \\n        In stock\\n    \\n</p>\\n\\n                \\n                    \\n\\n\\n\\n\\n\\n\\n    \\n    <form>\\n        <button type=\"submit\" class=\"btn btn-primary btn-block\" data-loading-text=\"Adding...\">Add to basket</button>\\n    </form>\\n\\n\\n                \\n            </div>\\n        \\n    </article>\\n\\n</li>\\n                    \\n                </ol>\\n                \\n\\n\\n\\n    <div>\\n        <ul class=\"pager\">\\n            \\n            <li class=\"current\">\\n            \\n                Page 1 of 50\\n            \\n            </li>\\n            \\n                <li class=\"next\"><a href=\"catalogue/page-2.html\">next</a></li>\\n            \\n        </ul>\\n    </div>\\n\\n\\n            </div>\\n        </section>\\n    \\n\\n\\n            </div>\\n\\n        </div><!-- /row -->\\n    </div><!-- /page_inner -->\\n</div><!-- /container-fluid -->\\n\\n\\n    \\n<footer class=\"footer container-fluid\">\\n    \\n        \\n    \\n</footer>\\n\\n\\n        \\n        \\n  \\n            <!-- jQuery -->\\n            <script src=\"http://ajax.googleapis.com/ajax/libs/jquery/1.9.1/jquery.min.js\"></script>\\n            <script>window.jQuery || document.write(\\'<script src=\"static/oscar/js/jquery/jquery-1.9.1.min.js\"><\\\\/script>\\')</script>\\n        \\n  \\n\\n\\n        \\n        \\n    \\n        \\n    <!-- Twitter Bootstrap -->\\n    <script type=\"text/javascript\" src=\"static/oscar/js/bootstrap3/bootstrap.min.js\"></script>\\n    <!-- Oscar -->\\n    <script src=\"static/oscar/js/oscar/ui.js\" type=\"text/javascript\" charset=\"utf-8\"></script>\\n\\n    <script src=\"static/oscar/js/bootstrap-datetimepicker/bootstrap-datetimepicker.js\" type=\"text/javascript\" charset=\"utf-8\"></script>\\n    <script src=\"static/oscar/js/bootstrap-datetimepicker/locales/bootstrap-datetimepicker.all.js\" type=\"text/javascript\" charset=\"utf-8\"></script>\\n\\n\\n        \\n        \\n    \\n\\n    \\n\\n\\n        \\n        <script type=\"text/javascript\">\\n            $(function() {\\n                \\n    \\n    \\n    oscar.init();\\n\\n    oscar.search.init();\\n\\n            });\\n        </script>\\n\\n        \\n        <!-- Version: N/A -->\\n        \\n    </body>\\n</html>\\n'"
            ],
            "application/vnd.google.colaboratory.intrinsic+json": {
              "type": "string"
            }
          },
          "metadata": {},
          "execution_count": 129
        }
      ]
    },
    {
      "cell_type": "code",
      "source": [
        "html_data = response.text\n",
        "\n",
        "data = BeautifulSoup(html_data)\n",
        "\n",
        "print(data.prettify() )"
      ],
      "metadata": {
        "colab": {
          "base_uri": "https://localhost:8080/"
        },
        "id": "d0MNDZgeaB-w",
        "outputId": "212c92f3-af5a-4e7f-b50b-ec61903bc2c7"
      },
      "execution_count": null,
      "outputs": [
        {
          "output_type": "stream",
          "name": "stdout",
          "text": [
            "<!DOCTYPE html>\n",
            "<!--[if lt IE 7]>      <html lang=\"en-us\" class=\"no-js lt-ie9 lt-ie8 lt-ie7\"> <![endif]-->\n",
            "<!--[if IE 7]>         <html lang=\"en-us\" class=\"no-js lt-ie9 lt-ie8\"> <![endif]-->\n",
            "<!--[if IE 8]>         <html lang=\"en-us\" class=\"no-js lt-ie9\"> <![endif]-->\n",
            "<!--[if gt IE 8]><!-->\n",
            "<html class=\"no-js\" lang=\"en-us\">\n",
            " <!--<![endif]-->\n",
            " <head>\n",
            "  <title>\n",
            "   All products | Books to Scrape - Sandbox\n",
            "  </title>\n",
            "  <meta content=\"text/html; charset=utf-8\" http-equiv=\"content-type\"/>\n",
            "  <meta content=\"24th Jun 2016 09:29\" name=\"created\"/>\n",
            "  <meta content=\"\" name=\"description\"/>\n",
            "  <meta content=\"width=device-width\" name=\"viewport\"/>\n",
            "  <meta content=\"NOARCHIVE,NOCACHE\" name=\"robots\"/>\n",
            "  <!-- Le HTML5 shim, for IE6-8 support of HTML elements -->\n",
            "  <!--[if lt IE 9]>\n",
            "        <script src=\"//html5shim.googlecode.com/svn/trunk/html5.js\"></script>\n",
            "        <![endif]-->\n",
            "  <link href=\"static/oscar/favicon.ico\" rel=\"shortcut icon\"/>\n",
            "  <link href=\"static/oscar/css/styles.css\" rel=\"stylesheet\" type=\"text/css\"/>\n",
            "  <link href=\"static/oscar/js/bootstrap-datetimepicker/bootstrap-datetimepicker.css\" rel=\"stylesheet\"/>\n",
            "  <link href=\"static/oscar/css/datetimepicker.css\" rel=\"stylesheet\" type=\"text/css\"/>\n",
            " </head>\n",
            " <body class=\"default\" id=\"default\">\n",
            "  <header class=\"header container-fluid\">\n",
            "   <div class=\"page_inner\">\n",
            "    <div class=\"row\">\n",
            "     <div class=\"col-sm-8 h1\">\n",
            "      <a href=\"index.html\">\n",
            "       Books to Scrape\n",
            "      </a>\n",
            "      <small>\n",
            "       We love being scraped!\n",
            "      </small>\n",
            "     </div>\n",
            "    </div>\n",
            "   </div>\n",
            "  </header>\n",
            "  <div class=\"container-fluid page\">\n",
            "   <div class=\"page_inner\">\n",
            "    <ul class=\"breadcrumb\">\n",
            "     <li>\n",
            "      <a href=\"index.html\">\n",
            "       Home\n",
            "      </a>\n",
            "     </li>\n",
            "     <li class=\"active\">\n",
            "      All products\n",
            "     </li>\n",
            "    </ul>\n",
            "    <div class=\"row\">\n",
            "     <aside class=\"sidebar col-sm-4 col-md-3\">\n",
            "      <div id=\"promotions_left\">\n",
            "      </div>\n",
            "      <div class=\"side_categories\">\n",
            "       <ul class=\"nav nav-list\">\n",
            "        <li>\n",
            "         <a href=\"catalogue/category/books_1/index.html\">\n",
            "          Books\n",
            "         </a>\n",
            "         <ul>\n",
            "          <li>\n",
            "           <a href=\"catalogue/category/books/travel_2/index.html\">\n",
            "            Travel\n",
            "           </a>\n",
            "          </li>\n",
            "          <li>\n",
            "           <a href=\"catalogue/category/books/mystery_3/index.html\">\n",
            "            Mystery\n",
            "           </a>\n",
            "          </li>\n",
            "          <li>\n",
            "           <a href=\"catalogue/category/books/historical-fiction_4/index.html\">\n",
            "            Historical Fiction\n",
            "           </a>\n",
            "          </li>\n",
            "          <li>\n",
            "           <a href=\"catalogue/category/books/sequential-art_5/index.html\">\n",
            "            Sequential Art\n",
            "           </a>\n",
            "          </li>\n",
            "          <li>\n",
            "           <a href=\"catalogue/category/books/classics_6/index.html\">\n",
            "            Classics\n",
            "           </a>\n",
            "          </li>\n",
            "          <li>\n",
            "           <a href=\"catalogue/category/books/philosophy_7/index.html\">\n",
            "            Philosophy\n",
            "           </a>\n",
            "          </li>\n",
            "          <li>\n",
            "           <a href=\"catalogue/category/books/romance_8/index.html\">\n",
            "            Romance\n",
            "           </a>\n",
            "          </li>\n",
            "          <li>\n",
            "           <a href=\"catalogue/category/books/womens-fiction_9/index.html\">\n",
            "            Womens Fiction\n",
            "           </a>\n",
            "          </li>\n",
            "          <li>\n",
            "           <a href=\"catalogue/category/books/fiction_10/index.html\">\n",
            "            Fiction\n",
            "           </a>\n",
            "          </li>\n",
            "          <li>\n",
            "           <a href=\"catalogue/category/books/childrens_11/index.html\">\n",
            "            Childrens\n",
            "           </a>\n",
            "          </li>\n",
            "          <li>\n",
            "           <a href=\"catalogue/category/books/religion_12/index.html\">\n",
            "            Religion\n",
            "           </a>\n",
            "          </li>\n",
            "          <li>\n",
            "           <a href=\"catalogue/category/books/nonfiction_13/index.html\">\n",
            "            Nonfiction\n",
            "           </a>\n",
            "          </li>\n",
            "          <li>\n",
            "           <a href=\"catalogue/category/books/music_14/index.html\">\n",
            "            Music\n",
            "           </a>\n",
            "          </li>\n",
            "          <li>\n",
            "           <a href=\"catalogue/category/books/default_15/index.html\">\n",
            "            Default\n",
            "           </a>\n",
            "          </li>\n",
            "          <li>\n",
            "           <a href=\"catalogue/category/books/science-fiction_16/index.html\">\n",
            "            Science Fiction\n",
            "           </a>\n",
            "          </li>\n",
            "          <li>\n",
            "           <a href=\"catalogue/category/books/sports-and-games_17/index.html\">\n",
            "            Sports and Games\n",
            "           </a>\n",
            "          </li>\n",
            "          <li>\n",
            "           <a href=\"catalogue/category/books/add-a-comment_18/index.html\">\n",
            "            Add a comment\n",
            "           </a>\n",
            "          </li>\n",
            "          <li>\n",
            "           <a href=\"catalogue/category/books/fantasy_19/index.html\">\n",
            "            Fantasy\n",
            "           </a>\n",
            "          </li>\n",
            "          <li>\n",
            "           <a href=\"catalogue/category/books/new-adult_20/index.html\">\n",
            "            New Adult\n",
            "           </a>\n",
            "          </li>\n",
            "          <li>\n",
            "           <a href=\"catalogue/category/books/young-adult_21/index.html\">\n",
            "            Young Adult\n",
            "           </a>\n",
            "          </li>\n",
            "          <li>\n",
            "           <a href=\"catalogue/category/books/science_22/index.html\">\n",
            "            Science\n",
            "           </a>\n",
            "          </li>\n",
            "          <li>\n",
            "           <a href=\"catalogue/category/books/poetry_23/index.html\">\n",
            "            Poetry\n",
            "           </a>\n",
            "          </li>\n",
            "          <li>\n",
            "           <a href=\"catalogue/category/books/paranormal_24/index.html\">\n",
            "            Paranormal\n",
            "           </a>\n",
            "          </li>\n",
            "          <li>\n",
            "           <a href=\"catalogue/category/books/art_25/index.html\">\n",
            "            Art\n",
            "           </a>\n",
            "          </li>\n",
            "          <li>\n",
            "           <a href=\"catalogue/category/books/psychology_26/index.html\">\n",
            "            Psychology\n",
            "           </a>\n",
            "          </li>\n",
            "          <li>\n",
            "           <a href=\"catalogue/category/books/autobiography_27/index.html\">\n",
            "            Autobiography\n",
            "           </a>\n",
            "          </li>\n",
            "          <li>\n",
            "           <a href=\"catalogue/category/books/parenting_28/index.html\">\n",
            "            Parenting\n",
            "           </a>\n",
            "          </li>\n",
            "          <li>\n",
            "           <a href=\"catalogue/category/books/adult-fiction_29/index.html\">\n",
            "            Adult Fiction\n",
            "           </a>\n",
            "          </li>\n",
            "          <li>\n",
            "           <a href=\"catalogue/category/books/humor_30/index.html\">\n",
            "            Humor\n",
            "           </a>\n",
            "          </li>\n",
            "          <li>\n",
            "           <a href=\"catalogue/category/books/horror_31/index.html\">\n",
            "            Horror\n",
            "           </a>\n",
            "          </li>\n",
            "          <li>\n",
            "           <a href=\"catalogue/category/books/history_32/index.html\">\n",
            "            History\n",
            "           </a>\n",
            "          </li>\n",
            "          <li>\n",
            "           <a href=\"catalogue/category/books/food-and-drink_33/index.html\">\n",
            "            Food and Drink\n",
            "           </a>\n",
            "          </li>\n",
            "          <li>\n",
            "           <a href=\"catalogue/category/books/christian-fiction_34/index.html\">\n",
            "            Christian Fiction\n",
            "           </a>\n",
            "          </li>\n",
            "          <li>\n",
            "           <a href=\"catalogue/category/books/business_35/index.html\">\n",
            "            Business\n",
            "           </a>\n",
            "          </li>\n",
            "          <li>\n",
            "           <a href=\"catalogue/category/books/biography_36/index.html\">\n",
            "            Biography\n",
            "           </a>\n",
            "          </li>\n",
            "          <li>\n",
            "           <a href=\"catalogue/category/books/thriller_37/index.html\">\n",
            "            Thriller\n",
            "           </a>\n",
            "          </li>\n",
            "          <li>\n",
            "           <a href=\"catalogue/category/books/contemporary_38/index.html\">\n",
            "            Contemporary\n",
            "           </a>\n",
            "          </li>\n",
            "          <li>\n",
            "           <a href=\"catalogue/category/books/spirituality_39/index.html\">\n",
            "            Spirituality\n",
            "           </a>\n",
            "          </li>\n",
            "          <li>\n",
            "           <a href=\"catalogue/category/books/academic_40/index.html\">\n",
            "            Academic\n",
            "           </a>\n",
            "          </li>\n",
            "          <li>\n",
            "           <a href=\"catalogue/category/books/self-help_41/index.html\">\n",
            "            Self Help\n",
            "           </a>\n",
            "          </li>\n",
            "          <li>\n",
            "           <a href=\"catalogue/category/books/historical_42/index.html\">\n",
            "            Historical\n",
            "           </a>\n",
            "          </li>\n",
            "          <li>\n",
            "           <a href=\"catalogue/category/books/christian_43/index.html\">\n",
            "            Christian\n",
            "           </a>\n",
            "          </li>\n",
            "          <li>\n",
            "           <a href=\"catalogue/category/books/suspense_44/index.html\">\n",
            "            Suspense\n",
            "           </a>\n",
            "          </li>\n",
            "          <li>\n",
            "           <a href=\"catalogue/category/books/short-stories_45/index.html\">\n",
            "            Short Stories\n",
            "           </a>\n",
            "          </li>\n",
            "          <li>\n",
            "           <a href=\"catalogue/category/books/novels_46/index.html\">\n",
            "            Novels\n",
            "           </a>\n",
            "          </li>\n",
            "          <li>\n",
            "           <a href=\"catalogue/category/books/health_47/index.html\">\n",
            "            Health\n",
            "           </a>\n",
            "          </li>\n",
            "          <li>\n",
            "           <a href=\"catalogue/category/books/politics_48/index.html\">\n",
            "            Politics\n",
            "           </a>\n",
            "          </li>\n",
            "          <li>\n",
            "           <a href=\"catalogue/category/books/cultural_49/index.html\">\n",
            "            Cultural\n",
            "           </a>\n",
            "          </li>\n",
            "          <li>\n",
            "           <a href=\"catalogue/category/books/erotica_50/index.html\">\n",
            "            Erotica\n",
            "           </a>\n",
            "          </li>\n",
            "          <li>\n",
            "           <a href=\"catalogue/category/books/crime_51/index.html\">\n",
            "            Crime\n",
            "           </a>\n",
            "          </li>\n",
            "         </ul>\n",
            "        </li>\n",
            "       </ul>\n",
            "      </div>\n",
            "     </aside>\n",
            "     <div class=\"col-sm-8 col-md-9\">\n",
            "      <div class=\"page-header action\">\n",
            "       <h1>\n",
            "        All products\n",
            "       </h1>\n",
            "      </div>\n",
            "      <div id=\"messages\">\n",
            "      </div>\n",
            "      <div id=\"promotions\">\n",
            "      </div>\n",
            "      <form class=\"form-horizontal\" method=\"get\">\n",
            "       <div style=\"display:none\">\n",
            "       </div>\n",
            "       <strong>\n",
            "        1000\n",
            "       </strong>\n",
            "       results - showing\n",
            "       <strong>\n",
            "        1\n",
            "       </strong>\n",
            "       to\n",
            "       <strong>\n",
            "        20\n",
            "       </strong>\n",
            "       .\n",
            "      </form>\n",
            "      <section>\n",
            "       <div class=\"alert alert-warning\" role=\"alert\">\n",
            "        <strong>\n",
            "         Warning!\n",
            "        </strong>\n",
            "        This is a demo website for web scraping purposes. Prices and ratings here were randomly assigned and have no real meaning.\n",
            "       </div>\n",
            "       <div>\n",
            "        <ol class=\"row\">\n",
            "         <li class=\"col-xs-6 col-sm-4 col-md-3 col-lg-3\">\n",
            "          <article class=\"product_pod\">\n",
            "           <div class=\"image_container\">\n",
            "            <a href=\"catalogue/a-light-in-the-attic_1000/index.html\">\n",
            "             <img alt=\"A Light in the Attic\" class=\"thumbnail\" src=\"media/cache/2c/da/2cdad67c44b002e7ead0cc35693c0e8b.jpg\"/>\n",
            "            </a>\n",
            "           </div>\n",
            "           <p class=\"star-rating Three\">\n",
            "            <i class=\"icon-star\">\n",
            "            </i>\n",
            "            <i class=\"icon-star\">\n",
            "            </i>\n",
            "            <i class=\"icon-star\">\n",
            "            </i>\n",
            "            <i class=\"icon-star\">\n",
            "            </i>\n",
            "            <i class=\"icon-star\">\n",
            "            </i>\n",
            "           </p>\n",
            "           <h3>\n",
            "            <a href=\"catalogue/a-light-in-the-attic_1000/index.html\" title=\"A Light in the Attic\">\n",
            "             A Light in the ...\n",
            "            </a>\n",
            "           </h3>\n",
            "           <div class=\"product_price\">\n",
            "            <p class=\"price_color\">\n",
            "             Â£51.77\n",
            "            </p>\n",
            "            <p class=\"instock availability\">\n",
            "             <i class=\"icon-ok\">\n",
            "             </i>\n",
            "             In stock\n",
            "            </p>\n",
            "            <form>\n",
            "             <button class=\"btn btn-primary btn-block\" data-loading-text=\"Adding...\" type=\"submit\">\n",
            "              Add to basket\n",
            "             </button>\n",
            "            </form>\n",
            "           </div>\n",
            "          </article>\n",
            "         </li>\n",
            "         <li class=\"col-xs-6 col-sm-4 col-md-3 col-lg-3\">\n",
            "          <article class=\"product_pod\">\n",
            "           <div class=\"image_container\">\n",
            "            <a href=\"catalogue/tipping-the-velvet_999/index.html\">\n",
            "             <img alt=\"Tipping the Velvet\" class=\"thumbnail\" src=\"media/cache/26/0c/260c6ae16bce31c8f8c95daddd9f4a1c.jpg\"/>\n",
            "            </a>\n",
            "           </div>\n",
            "           <p class=\"star-rating One\">\n",
            "            <i class=\"icon-star\">\n",
            "            </i>\n",
            "            <i class=\"icon-star\">\n",
            "            </i>\n",
            "            <i class=\"icon-star\">\n",
            "            </i>\n",
            "            <i class=\"icon-star\">\n",
            "            </i>\n",
            "            <i class=\"icon-star\">\n",
            "            </i>\n",
            "           </p>\n",
            "           <h3>\n",
            "            <a href=\"catalogue/tipping-the-velvet_999/index.html\" title=\"Tipping the Velvet\">\n",
            "             Tipping the Velvet\n",
            "            </a>\n",
            "           </h3>\n",
            "           <div class=\"product_price\">\n",
            "            <p class=\"price_color\">\n",
            "             Â£53.74\n",
            "            </p>\n",
            "            <p class=\"instock availability\">\n",
            "             <i class=\"icon-ok\">\n",
            "             </i>\n",
            "             In stock\n",
            "            </p>\n",
            "            <form>\n",
            "             <button class=\"btn btn-primary btn-block\" data-loading-text=\"Adding...\" type=\"submit\">\n",
            "              Add to basket\n",
            "             </button>\n",
            "            </form>\n",
            "           </div>\n",
            "          </article>\n",
            "         </li>\n",
            "         <li class=\"col-xs-6 col-sm-4 col-md-3 col-lg-3\">\n",
            "          <article class=\"product_pod\">\n",
            "           <div class=\"image_container\">\n",
            "            <a href=\"catalogue/soumission_998/index.html\">\n",
            "             <img alt=\"Soumission\" class=\"thumbnail\" src=\"media/cache/3e/ef/3eef99c9d9adef34639f510662022830.jpg\"/>\n",
            "            </a>\n",
            "           </div>\n",
            "           <p class=\"star-rating One\">\n",
            "            <i class=\"icon-star\">\n",
            "            </i>\n",
            "            <i class=\"icon-star\">\n",
            "            </i>\n",
            "            <i class=\"icon-star\">\n",
            "            </i>\n",
            "            <i class=\"icon-star\">\n",
            "            </i>\n",
            "            <i class=\"icon-star\">\n",
            "            </i>\n",
            "           </p>\n",
            "           <h3>\n",
            "            <a href=\"catalogue/soumission_998/index.html\" title=\"Soumission\">\n",
            "             Soumission\n",
            "            </a>\n",
            "           </h3>\n",
            "           <div class=\"product_price\">\n",
            "            <p class=\"price_color\">\n",
            "             Â£50.10\n",
            "            </p>\n",
            "            <p class=\"instock availability\">\n",
            "             <i class=\"icon-ok\">\n",
            "             </i>\n",
            "             In stock\n",
            "            </p>\n",
            "            <form>\n",
            "             <button class=\"btn btn-primary btn-block\" data-loading-text=\"Adding...\" type=\"submit\">\n",
            "              Add to basket\n",
            "             </button>\n",
            "            </form>\n",
            "           </div>\n",
            "          </article>\n",
            "         </li>\n",
            "         <li class=\"col-xs-6 col-sm-4 col-md-3 col-lg-3\">\n",
            "          <article class=\"product_pod\">\n",
            "           <div class=\"image_container\">\n",
            "            <a href=\"catalogue/sharp-objects_997/index.html\">\n",
            "             <img alt=\"Sharp Objects\" class=\"thumbnail\" src=\"media/cache/32/51/3251cf3a3412f53f339e42cac2134093.jpg\"/>\n",
            "            </a>\n",
            "           </div>\n",
            "           <p class=\"star-rating Four\">\n",
            "            <i class=\"icon-star\">\n",
            "            </i>\n",
            "            <i class=\"icon-star\">\n",
            "            </i>\n",
            "            <i class=\"icon-star\">\n",
            "            </i>\n",
            "            <i class=\"icon-star\">\n",
            "            </i>\n",
            "            <i class=\"icon-star\">\n",
            "            </i>\n",
            "           </p>\n",
            "           <h3>\n",
            "            <a href=\"catalogue/sharp-objects_997/index.html\" title=\"Sharp Objects\">\n",
            "             Sharp Objects\n",
            "            </a>\n",
            "           </h3>\n",
            "           <div class=\"product_price\">\n",
            "            <p class=\"price_color\">\n",
            "             Â£47.82\n",
            "            </p>\n",
            "            <p class=\"instock availability\">\n",
            "             <i class=\"icon-ok\">\n",
            "             </i>\n",
            "             In stock\n",
            "            </p>\n",
            "            <form>\n",
            "             <button class=\"btn btn-primary btn-block\" data-loading-text=\"Adding...\" type=\"submit\">\n",
            "              Add to basket\n",
            "             </button>\n",
            "            </form>\n",
            "           </div>\n",
            "          </article>\n",
            "         </li>\n",
            "         <li class=\"col-xs-6 col-sm-4 col-md-3 col-lg-3\">\n",
            "          <article class=\"product_pod\">\n",
            "           <div class=\"image_container\">\n",
            "            <a href=\"catalogue/sapiens-a-brief-history-of-humankind_996/index.html\">\n",
            "             <img alt=\"Sapiens: A Brief History of Humankind\" class=\"thumbnail\" src=\"media/cache/be/a5/bea5697f2534a2f86a3ef27b5a8c12a6.jpg\"/>\n",
            "            </a>\n",
            "           </div>\n",
            "           <p class=\"star-rating Five\">\n",
            "            <i class=\"icon-star\">\n",
            "            </i>\n",
            "            <i class=\"icon-star\">\n",
            "            </i>\n",
            "            <i class=\"icon-star\">\n",
            "            </i>\n",
            "            <i class=\"icon-star\">\n",
            "            </i>\n",
            "            <i class=\"icon-star\">\n",
            "            </i>\n",
            "           </p>\n",
            "           <h3>\n",
            "            <a href=\"catalogue/sapiens-a-brief-history-of-humankind_996/index.html\" title=\"Sapiens: A Brief History of Humankind\">\n",
            "             Sapiens: A Brief History ...\n",
            "            </a>\n",
            "           </h3>\n",
            "           <div class=\"product_price\">\n",
            "            <p class=\"price_color\">\n",
            "             Â£54.23\n",
            "            </p>\n",
            "            <p class=\"instock availability\">\n",
            "             <i class=\"icon-ok\">\n",
            "             </i>\n",
            "             In stock\n",
            "            </p>\n",
            "            <form>\n",
            "             <button class=\"btn btn-primary btn-block\" data-loading-text=\"Adding...\" type=\"submit\">\n",
            "              Add to basket\n",
            "             </button>\n",
            "            </form>\n",
            "           </div>\n",
            "          </article>\n",
            "         </li>\n",
            "         <li class=\"col-xs-6 col-sm-4 col-md-3 col-lg-3\">\n",
            "          <article class=\"product_pod\">\n",
            "           <div class=\"image_container\">\n",
            "            <a href=\"catalogue/the-requiem-red_995/index.html\">\n",
            "             <img alt=\"The Requiem Red\" class=\"thumbnail\" src=\"media/cache/68/33/68339b4c9bc034267e1da611ab3b34f8.jpg\"/>\n",
            "            </a>\n",
            "           </div>\n",
            "           <p class=\"star-rating One\">\n",
            "            <i class=\"icon-star\">\n",
            "            </i>\n",
            "            <i class=\"icon-star\">\n",
            "            </i>\n",
            "            <i class=\"icon-star\">\n",
            "            </i>\n",
            "            <i class=\"icon-star\">\n",
            "            </i>\n",
            "            <i class=\"icon-star\">\n",
            "            </i>\n",
            "           </p>\n",
            "           <h3>\n",
            "            <a href=\"catalogue/the-requiem-red_995/index.html\" title=\"The Requiem Red\">\n",
            "             The Requiem Red\n",
            "            </a>\n",
            "           </h3>\n",
            "           <div class=\"product_price\">\n",
            "            <p class=\"price_color\">\n",
            "             Â£22.65\n",
            "            </p>\n",
            "            <p class=\"instock availability\">\n",
            "             <i class=\"icon-ok\">\n",
            "             </i>\n",
            "             In stock\n",
            "            </p>\n",
            "            <form>\n",
            "             <button class=\"btn btn-primary btn-block\" data-loading-text=\"Adding...\" type=\"submit\">\n",
            "              Add to basket\n",
            "             </button>\n",
            "            </form>\n",
            "           </div>\n",
            "          </article>\n",
            "         </li>\n",
            "         <li class=\"col-xs-6 col-sm-4 col-md-3 col-lg-3\">\n",
            "          <article class=\"product_pod\">\n",
            "           <div class=\"image_container\">\n",
            "            <a href=\"catalogue/the-dirty-little-secrets-of-getting-your-dream-job_994/index.html\">\n",
            "             <img alt=\"The Dirty Little Secrets of Getting Your Dream Job\" class=\"thumbnail\" src=\"media/cache/92/27/92274a95b7c251fea59a2b8a78275ab4.jpg\"/>\n",
            "            </a>\n",
            "           </div>\n",
            "           <p class=\"star-rating Four\">\n",
            "            <i class=\"icon-star\">\n",
            "            </i>\n",
            "            <i class=\"icon-star\">\n",
            "            </i>\n",
            "            <i class=\"icon-star\">\n",
            "            </i>\n",
            "            <i class=\"icon-star\">\n",
            "            </i>\n",
            "            <i class=\"icon-star\">\n",
            "            </i>\n",
            "           </p>\n",
            "           <h3>\n",
            "            <a href=\"catalogue/the-dirty-little-secrets-of-getting-your-dream-job_994/index.html\" title=\"The Dirty Little Secrets of Getting Your Dream Job\">\n",
            "             The Dirty Little Secrets ...\n",
            "            </a>\n",
            "           </h3>\n",
            "           <div class=\"product_price\">\n",
            "            <p class=\"price_color\">\n",
            "             Â£33.34\n",
            "            </p>\n",
            "            <p class=\"instock availability\">\n",
            "             <i class=\"icon-ok\">\n",
            "             </i>\n",
            "             In stock\n",
            "            </p>\n",
            "            <form>\n",
            "             <button class=\"btn btn-primary btn-block\" data-loading-text=\"Adding...\" type=\"submit\">\n",
            "              Add to basket\n",
            "             </button>\n",
            "            </form>\n",
            "           </div>\n",
            "          </article>\n",
            "         </li>\n",
            "         <li class=\"col-xs-6 col-sm-4 col-md-3 col-lg-3\">\n",
            "          <article class=\"product_pod\">\n",
            "           <div class=\"image_container\">\n",
            "            <a href=\"catalogue/the-coming-woman-a-novel-based-on-the-life-of-the-infamous-feminist-victoria-woodhull_993/index.html\">\n",
            "             <img alt=\"The Coming Woman: A Novel Based on the Life of the Infamous Feminist, Victoria Woodhull\" class=\"thumbnail\" src=\"media/cache/3d/54/3d54940e57e662c4dd1f3ff00c78cc64.jpg\"/>\n",
            "            </a>\n",
            "           </div>\n",
            "           <p class=\"star-rating Three\">\n",
            "            <i class=\"icon-star\">\n",
            "            </i>\n",
            "            <i class=\"icon-star\">\n",
            "            </i>\n",
            "            <i class=\"icon-star\">\n",
            "            </i>\n",
            "            <i class=\"icon-star\">\n",
            "            </i>\n",
            "            <i class=\"icon-star\">\n",
            "            </i>\n",
            "           </p>\n",
            "           <h3>\n",
            "            <a href=\"catalogue/the-coming-woman-a-novel-based-on-the-life-of-the-infamous-feminist-victoria-woodhull_993/index.html\" title=\"The Coming Woman: A Novel Based on the Life of the Infamous Feminist, Victoria Woodhull\">\n",
            "             The Coming Woman: A ...\n",
            "            </a>\n",
            "           </h3>\n",
            "           <div class=\"product_price\">\n",
            "            <p class=\"price_color\">\n",
            "             Â£17.93\n",
            "            </p>\n",
            "            <p class=\"instock availability\">\n",
            "             <i class=\"icon-ok\">\n",
            "             </i>\n",
            "             In stock\n",
            "            </p>\n",
            "            <form>\n",
            "             <button class=\"btn btn-primary btn-block\" data-loading-text=\"Adding...\" type=\"submit\">\n",
            "              Add to basket\n",
            "             </button>\n",
            "            </form>\n",
            "           </div>\n",
            "          </article>\n",
            "         </li>\n",
            "         <li class=\"col-xs-6 col-sm-4 col-md-3 col-lg-3\">\n",
            "          <article class=\"product_pod\">\n",
            "           <div class=\"image_container\">\n",
            "            <a href=\"catalogue/the-boys-in-the-boat-nine-americans-and-their-epic-quest-for-gold-at-the-1936-berlin-olympics_992/index.html\">\n",
            "             <img alt=\"The Boys in the Boat: Nine Americans and Their Epic Quest for Gold at the 1936 Berlin Olympics\" class=\"thumbnail\" src=\"media/cache/66/88/66883b91f6804b2323c8369331cb7dd1.jpg\"/>\n",
            "            </a>\n",
            "           </div>\n",
            "           <p class=\"star-rating Four\">\n",
            "            <i class=\"icon-star\">\n",
            "            </i>\n",
            "            <i class=\"icon-star\">\n",
            "            </i>\n",
            "            <i class=\"icon-star\">\n",
            "            </i>\n",
            "            <i class=\"icon-star\">\n",
            "            </i>\n",
            "            <i class=\"icon-star\">\n",
            "            </i>\n",
            "           </p>\n",
            "           <h3>\n",
            "            <a href=\"catalogue/the-boys-in-the-boat-nine-americans-and-their-epic-quest-for-gold-at-the-1936-berlin-olympics_992/index.html\" title=\"The Boys in the Boat: Nine Americans and Their Epic Quest for Gold at the 1936 Berlin Olympics\">\n",
            "             The Boys in the ...\n",
            "            </a>\n",
            "           </h3>\n",
            "           <div class=\"product_price\">\n",
            "            <p class=\"price_color\">\n",
            "             Â£22.60\n",
            "            </p>\n",
            "            <p class=\"instock availability\">\n",
            "             <i class=\"icon-ok\">\n",
            "             </i>\n",
            "             In stock\n",
            "            </p>\n",
            "            <form>\n",
            "             <button class=\"btn btn-primary btn-block\" data-loading-text=\"Adding...\" type=\"submit\">\n",
            "              Add to basket\n",
            "             </button>\n",
            "            </form>\n",
            "           </div>\n",
            "          </article>\n",
            "         </li>\n",
            "         <li class=\"col-xs-6 col-sm-4 col-md-3 col-lg-3\">\n",
            "          <article class=\"product_pod\">\n",
            "           <div class=\"image_container\">\n",
            "            <a href=\"catalogue/the-black-maria_991/index.html\">\n",
            "             <img alt=\"The Black Maria\" class=\"thumbnail\" src=\"media/cache/58/46/5846057e28022268153beff6d352b06c.jpg\"/>\n",
            "            </a>\n",
            "           </div>\n",
            "           <p class=\"star-rating One\">\n",
            "            <i class=\"icon-star\">\n",
            "            </i>\n",
            "            <i class=\"icon-star\">\n",
            "            </i>\n",
            "            <i class=\"icon-star\">\n",
            "            </i>\n",
            "            <i class=\"icon-star\">\n",
            "            </i>\n",
            "            <i class=\"icon-star\">\n",
            "            </i>\n",
            "           </p>\n",
            "           <h3>\n",
            "            <a href=\"catalogue/the-black-maria_991/index.html\" title=\"The Black Maria\">\n",
            "             The Black Maria\n",
            "            </a>\n",
            "           </h3>\n",
            "           <div class=\"product_price\">\n",
            "            <p class=\"price_color\">\n",
            "             Â£52.15\n",
            "            </p>\n",
            "            <p class=\"instock availability\">\n",
            "             <i class=\"icon-ok\">\n",
            "             </i>\n",
            "             In stock\n",
            "            </p>\n",
            "            <form>\n",
            "             <button class=\"btn btn-primary btn-block\" data-loading-text=\"Adding...\" type=\"submit\">\n",
            "              Add to basket\n",
            "             </button>\n",
            "            </form>\n",
            "           </div>\n",
            "          </article>\n",
            "         </li>\n",
            "         <li class=\"col-xs-6 col-sm-4 col-md-3 col-lg-3\">\n",
            "          <article class=\"product_pod\">\n",
            "           <div class=\"image_container\">\n",
            "            <a href=\"catalogue/starving-hearts-triangular-trade-trilogy-1_990/index.html\">\n",
            "             <img alt=\"Starving Hearts (Triangular Trade Trilogy, #1)\" class=\"thumbnail\" src=\"media/cache/be/f4/bef44da28c98f905a3ebec0b87be8530.jpg\"/>\n",
            "            </a>\n",
            "           </div>\n",
            "           <p class=\"star-rating Two\">\n",
            "            <i class=\"icon-star\">\n",
            "            </i>\n",
            "            <i class=\"icon-star\">\n",
            "            </i>\n",
            "            <i class=\"icon-star\">\n",
            "            </i>\n",
            "            <i class=\"icon-star\">\n",
            "            </i>\n",
            "            <i class=\"icon-star\">\n",
            "            </i>\n",
            "           </p>\n",
            "           <h3>\n",
            "            <a href=\"catalogue/starving-hearts-triangular-trade-trilogy-1_990/index.html\" title=\"Starving Hearts (Triangular Trade Trilogy, #1)\">\n",
            "             Starving Hearts (Triangular Trade ...\n",
            "            </a>\n",
            "           </h3>\n",
            "           <div class=\"product_price\">\n",
            "            <p class=\"price_color\">\n",
            "             Â£13.99\n",
            "            </p>\n",
            "            <p class=\"instock availability\">\n",
            "             <i class=\"icon-ok\">\n",
            "             </i>\n",
            "             In stock\n",
            "            </p>\n",
            "            <form>\n",
            "             <button class=\"btn btn-primary btn-block\" data-loading-text=\"Adding...\" type=\"submit\">\n",
            "              Add to basket\n",
            "             </button>\n",
            "            </form>\n",
            "           </div>\n",
            "          </article>\n",
            "         </li>\n",
            "         <li class=\"col-xs-6 col-sm-4 col-md-3 col-lg-3\">\n",
            "          <article class=\"product_pod\">\n",
            "           <div class=\"image_container\">\n",
            "            <a href=\"catalogue/shakespeares-sonnets_989/index.html\">\n",
            "             <img alt=\"Shakespeare's Sonnets\" class=\"thumbnail\" src=\"media/cache/10/48/1048f63d3b5061cd2f424d20b3f9b666.jpg\"/>\n",
            "            </a>\n",
            "           </div>\n",
            "           <p class=\"star-rating Four\">\n",
            "            <i class=\"icon-star\">\n",
            "            </i>\n",
            "            <i class=\"icon-star\">\n",
            "            </i>\n",
            "            <i class=\"icon-star\">\n",
            "            </i>\n",
            "            <i class=\"icon-star\">\n",
            "            </i>\n",
            "            <i class=\"icon-star\">\n",
            "            </i>\n",
            "           </p>\n",
            "           <h3>\n",
            "            <a href=\"catalogue/shakespeares-sonnets_989/index.html\" title=\"Shakespeare's Sonnets\">\n",
            "             Shakespeare's Sonnets\n",
            "            </a>\n",
            "           </h3>\n",
            "           <div class=\"product_price\">\n",
            "            <p class=\"price_color\">\n",
            "             Â£20.66\n",
            "            </p>\n",
            "            <p class=\"instock availability\">\n",
            "             <i class=\"icon-ok\">\n",
            "             </i>\n",
            "             In stock\n",
            "            </p>\n",
            "            <form>\n",
            "             <button class=\"btn btn-primary btn-block\" data-loading-text=\"Adding...\" type=\"submit\">\n",
            "              Add to basket\n",
            "             </button>\n",
            "            </form>\n",
            "           </div>\n",
            "          </article>\n",
            "         </li>\n",
            "         <li class=\"col-xs-6 col-sm-4 col-md-3 col-lg-3\">\n",
            "          <article class=\"product_pod\">\n",
            "           <div class=\"image_container\">\n",
            "            <a href=\"catalogue/set-me-free_988/index.html\">\n",
            "             <img alt=\"Set Me Free\" class=\"thumbnail\" src=\"media/cache/5b/88/5b88c52633f53cacf162c15f4f823153.jpg\"/>\n",
            "            </a>\n",
            "           </div>\n",
            "           <p class=\"star-rating Five\">\n",
            "            <i class=\"icon-star\">\n",
            "            </i>\n",
            "            <i class=\"icon-star\">\n",
            "            </i>\n",
            "            <i class=\"icon-star\">\n",
            "            </i>\n",
            "            <i class=\"icon-star\">\n",
            "            </i>\n",
            "            <i class=\"icon-star\">\n",
            "            </i>\n",
            "           </p>\n",
            "           <h3>\n",
            "            <a href=\"catalogue/set-me-free_988/index.html\" title=\"Set Me Free\">\n",
            "             Set Me Free\n",
            "            </a>\n",
            "           </h3>\n",
            "           <div class=\"product_price\">\n",
            "            <p class=\"price_color\">\n",
            "             Â£17.46\n",
            "            </p>\n",
            "            <p class=\"instock availability\">\n",
            "             <i class=\"icon-ok\">\n",
            "             </i>\n",
            "             In stock\n",
            "            </p>\n",
            "            <form>\n",
            "             <button class=\"btn btn-primary btn-block\" data-loading-text=\"Adding...\" type=\"submit\">\n",
            "              Add to basket\n",
            "             </button>\n",
            "            </form>\n",
            "           </div>\n",
            "          </article>\n",
            "         </li>\n",
            "         <li class=\"col-xs-6 col-sm-4 col-md-3 col-lg-3\">\n",
            "          <article class=\"product_pod\">\n",
            "           <div class=\"image_container\">\n",
            "            <a href=\"catalogue/scott-pilgrims-precious-little-life-scott-pilgrim-1_987/index.html\">\n",
            "             <img alt=\"Scott Pilgrim's Precious Little Life (Scott Pilgrim #1)\" class=\"thumbnail\" src=\"media/cache/94/b1/94b1b8b244bce9677c2f29ccc890d4d2.jpg\"/>\n",
            "            </a>\n",
            "           </div>\n",
            "           <p class=\"star-rating Five\">\n",
            "            <i class=\"icon-star\">\n",
            "            </i>\n",
            "            <i class=\"icon-star\">\n",
            "            </i>\n",
            "            <i class=\"icon-star\">\n",
            "            </i>\n",
            "            <i class=\"icon-star\">\n",
            "            </i>\n",
            "            <i class=\"icon-star\">\n",
            "            </i>\n",
            "           </p>\n",
            "           <h3>\n",
            "            <a href=\"catalogue/scott-pilgrims-precious-little-life-scott-pilgrim-1_987/index.html\" title=\"Scott Pilgrim's Precious Little Life (Scott Pilgrim #1)\">\n",
            "             Scott Pilgrim's Precious Little ...\n",
            "            </a>\n",
            "           </h3>\n",
            "           <div class=\"product_price\">\n",
            "            <p class=\"price_color\">\n",
            "             Â£52.29\n",
            "            </p>\n",
            "            <p class=\"instock availability\">\n",
            "             <i class=\"icon-ok\">\n",
            "             </i>\n",
            "             In stock\n",
            "            </p>\n",
            "            <form>\n",
            "             <button class=\"btn btn-primary btn-block\" data-loading-text=\"Adding...\" type=\"submit\">\n",
            "              Add to basket\n",
            "             </button>\n",
            "            </form>\n",
            "           </div>\n",
            "          </article>\n",
            "         </li>\n",
            "         <li class=\"col-xs-6 col-sm-4 col-md-3 col-lg-3\">\n",
            "          <article class=\"product_pod\">\n",
            "           <div class=\"image_container\">\n",
            "            <a href=\"catalogue/rip-it-up-and-start-again_986/index.html\">\n",
            "             <img alt=\"Rip it Up and Start Again\" class=\"thumbnail\" src=\"media/cache/81/c4/81c4a973364e17d01f217e1188253d5e.jpg\"/>\n",
            "            </a>\n",
            "           </div>\n",
            "           <p class=\"star-rating Five\">\n",
            "            <i class=\"icon-star\">\n",
            "            </i>\n",
            "            <i class=\"icon-star\">\n",
            "            </i>\n",
            "            <i class=\"icon-star\">\n",
            "            </i>\n",
            "            <i class=\"icon-star\">\n",
            "            </i>\n",
            "            <i class=\"icon-star\">\n",
            "            </i>\n",
            "           </p>\n",
            "           <h3>\n",
            "            <a href=\"catalogue/rip-it-up-and-start-again_986/index.html\" title=\"Rip it Up and Start Again\">\n",
            "             Rip it Up and ...\n",
            "            </a>\n",
            "           </h3>\n",
            "           <div class=\"product_price\">\n",
            "            <p class=\"price_color\">\n",
            "             Â£35.02\n",
            "            </p>\n",
            "            <p class=\"instock availability\">\n",
            "             <i class=\"icon-ok\">\n",
            "             </i>\n",
            "             In stock\n",
            "            </p>\n",
            "            <form>\n",
            "             <button class=\"btn btn-primary btn-block\" data-loading-text=\"Adding...\" type=\"submit\">\n",
            "              Add to basket\n",
            "             </button>\n",
            "            </form>\n",
            "           </div>\n",
            "          </article>\n",
            "         </li>\n",
            "         <li class=\"col-xs-6 col-sm-4 col-md-3 col-lg-3\">\n",
            "          <article class=\"product_pod\">\n",
            "           <div class=\"image_container\">\n",
            "            <a href=\"catalogue/our-band-could-be-your-life-scenes-from-the-american-indie-underground-1981-1991_985/index.html\">\n",
            "             <img alt=\"Our Band Could Be Your Life: Scenes from the American Indie Underground, 1981-1991\" class=\"thumbnail\" src=\"media/cache/54/60/54607fe8945897cdcced0044103b10b6.jpg\"/>\n",
            "            </a>\n",
            "           </div>\n",
            "           <p class=\"star-rating Three\">\n",
            "            <i class=\"icon-star\">\n",
            "            </i>\n",
            "            <i class=\"icon-star\">\n",
            "            </i>\n",
            "            <i class=\"icon-star\">\n",
            "            </i>\n",
            "            <i class=\"icon-star\">\n",
            "            </i>\n",
            "            <i class=\"icon-star\">\n",
            "            </i>\n",
            "           </p>\n",
            "           <h3>\n",
            "            <a href=\"catalogue/our-band-could-be-your-life-scenes-from-the-american-indie-underground-1981-1991_985/index.html\" title=\"Our Band Could Be Your Life: Scenes from the American Indie Underground, 1981-1991\">\n",
            "             Our Band Could Be ...\n",
            "            </a>\n",
            "           </h3>\n",
            "           <div class=\"product_price\">\n",
            "            <p class=\"price_color\">\n",
            "             Â£57.25\n",
            "            </p>\n",
            "            <p class=\"instock availability\">\n",
            "             <i class=\"icon-ok\">\n",
            "             </i>\n",
            "             In stock\n",
            "            </p>\n",
            "            <form>\n",
            "             <button class=\"btn btn-primary btn-block\" data-loading-text=\"Adding...\" type=\"submit\">\n",
            "              Add to basket\n",
            "             </button>\n",
            "            </form>\n",
            "           </div>\n",
            "          </article>\n",
            "         </li>\n",
            "         <li class=\"col-xs-6 col-sm-4 col-md-3 col-lg-3\">\n",
            "          <article class=\"product_pod\">\n",
            "           <div class=\"image_container\">\n",
            "            <a href=\"catalogue/olio_984/index.html\">\n",
            "             <img alt=\"Olio\" class=\"thumbnail\" src=\"media/cache/55/33/553310a7162dfbc2c6d19a84da0df9e1.jpg\"/>\n",
            "            </a>\n",
            "           </div>\n",
            "           <p class=\"star-rating One\">\n",
            "            <i class=\"icon-star\">\n",
            "            </i>\n",
            "            <i class=\"icon-star\">\n",
            "            </i>\n",
            "            <i class=\"icon-star\">\n",
            "            </i>\n",
            "            <i class=\"icon-star\">\n",
            "            </i>\n",
            "            <i class=\"icon-star\">\n",
            "            </i>\n",
            "           </p>\n",
            "           <h3>\n",
            "            <a href=\"catalogue/olio_984/index.html\" title=\"Olio\">\n",
            "             Olio\n",
            "            </a>\n",
            "           </h3>\n",
            "           <div class=\"product_price\">\n",
            "            <p class=\"price_color\">\n",
            "             Â£23.88\n",
            "            </p>\n",
            "            <p class=\"instock availability\">\n",
            "             <i class=\"icon-ok\">\n",
            "             </i>\n",
            "             In stock\n",
            "            </p>\n",
            "            <form>\n",
            "             <button class=\"btn btn-primary btn-block\" data-loading-text=\"Adding...\" type=\"submit\">\n",
            "              Add to basket\n",
            "             </button>\n",
            "            </form>\n",
            "           </div>\n",
            "          </article>\n",
            "         </li>\n",
            "         <li class=\"col-xs-6 col-sm-4 col-md-3 col-lg-3\">\n",
            "          <article class=\"product_pod\">\n",
            "           <div class=\"image_container\">\n",
            "            <a href=\"catalogue/mesaerion-the-best-science-fiction-stories-1800-1849_983/index.html\">\n",
            "             <img alt=\"Mesaerion: The Best Science Fiction Stories 1800-1849\" class=\"thumbnail\" src=\"media/cache/09/a3/09a3aef48557576e1a85ba7efea8ecb7.jpg\"/>\n",
            "            </a>\n",
            "           </div>\n",
            "           <p class=\"star-rating One\">\n",
            "            <i class=\"icon-star\">\n",
            "            </i>\n",
            "            <i class=\"icon-star\">\n",
            "            </i>\n",
            "            <i class=\"icon-star\">\n",
            "            </i>\n",
            "            <i class=\"icon-star\">\n",
            "            </i>\n",
            "            <i class=\"icon-star\">\n",
            "            </i>\n",
            "           </p>\n",
            "           <h3>\n",
            "            <a href=\"catalogue/mesaerion-the-best-science-fiction-stories-1800-1849_983/index.html\" title=\"Mesaerion: The Best Science Fiction Stories 1800-1849\">\n",
            "             Mesaerion: The Best Science ...\n",
            "            </a>\n",
            "           </h3>\n",
            "           <div class=\"product_price\">\n",
            "            <p class=\"price_color\">\n",
            "             Â£37.59\n",
            "            </p>\n",
            "            <p class=\"instock availability\">\n",
            "             <i class=\"icon-ok\">\n",
            "             </i>\n",
            "             In stock\n",
            "            </p>\n",
            "            <form>\n",
            "             <button class=\"btn btn-primary btn-block\" data-loading-text=\"Adding...\" type=\"submit\">\n",
            "              Add to basket\n",
            "             </button>\n",
            "            </form>\n",
            "           </div>\n",
            "          </article>\n",
            "         </li>\n",
            "         <li class=\"col-xs-6 col-sm-4 col-md-3 col-lg-3\">\n",
            "          <article class=\"product_pod\">\n",
            "           <div class=\"image_container\">\n",
            "            <a href=\"catalogue/libertarianism-for-beginners_982/index.html\">\n",
            "             <img alt=\"Libertarianism for Beginners\" class=\"thumbnail\" src=\"media/cache/0b/bc/0bbcd0a6f4bcd81ccb1049a52736406e.jpg\"/>\n",
            "            </a>\n",
            "           </div>\n",
            "           <p class=\"star-rating Two\">\n",
            "            <i class=\"icon-star\">\n",
            "            </i>\n",
            "            <i class=\"icon-star\">\n",
            "            </i>\n",
            "            <i class=\"icon-star\">\n",
            "            </i>\n",
            "            <i class=\"icon-star\">\n",
            "            </i>\n",
            "            <i class=\"icon-star\">\n",
            "            </i>\n",
            "           </p>\n",
            "           <h3>\n",
            "            <a href=\"catalogue/libertarianism-for-beginners_982/index.html\" title=\"Libertarianism for Beginners\">\n",
            "             Libertarianism for Beginners\n",
            "            </a>\n",
            "           </h3>\n",
            "           <div class=\"product_price\">\n",
            "            <p class=\"price_color\">\n",
            "             Â£51.33\n",
            "            </p>\n",
            "            <p class=\"instock availability\">\n",
            "             <i class=\"icon-ok\">\n",
            "             </i>\n",
            "             In stock\n",
            "            </p>\n",
            "            <form>\n",
            "             <button class=\"btn btn-primary btn-block\" data-loading-text=\"Adding...\" type=\"submit\">\n",
            "              Add to basket\n",
            "             </button>\n",
            "            </form>\n",
            "           </div>\n",
            "          </article>\n",
            "         </li>\n",
            "         <li class=\"col-xs-6 col-sm-4 col-md-3 col-lg-3\">\n",
            "          <article class=\"product_pod\">\n",
            "           <div class=\"image_container\">\n",
            "            <a href=\"catalogue/its-only-the-himalayas_981/index.html\">\n",
            "             <img alt=\"It's Only the Himalayas\" class=\"thumbnail\" src=\"media/cache/27/a5/27a53d0bb95bdd88288eaf66c9230d7e.jpg\"/>\n",
            "            </a>\n",
            "           </div>\n",
            "           <p class=\"star-rating Two\">\n",
            "            <i class=\"icon-star\">\n",
            "            </i>\n",
            "            <i class=\"icon-star\">\n",
            "            </i>\n",
            "            <i class=\"icon-star\">\n",
            "            </i>\n",
            "            <i class=\"icon-star\">\n",
            "            </i>\n",
            "            <i class=\"icon-star\">\n",
            "            </i>\n",
            "           </p>\n",
            "           <h3>\n",
            "            <a href=\"catalogue/its-only-the-himalayas_981/index.html\" title=\"It's Only the Himalayas\">\n",
            "             It's Only the Himalayas\n",
            "            </a>\n",
            "           </h3>\n",
            "           <div class=\"product_price\">\n",
            "            <p class=\"price_color\">\n",
            "             Â£45.17\n",
            "            </p>\n",
            "            <p class=\"instock availability\">\n",
            "             <i class=\"icon-ok\">\n",
            "             </i>\n",
            "             In stock\n",
            "            </p>\n",
            "            <form>\n",
            "             <button class=\"btn btn-primary btn-block\" data-loading-text=\"Adding...\" type=\"submit\">\n",
            "              Add to basket\n",
            "             </button>\n",
            "            </form>\n",
            "           </div>\n",
            "          </article>\n",
            "         </li>\n",
            "        </ol>\n",
            "        <div>\n",
            "         <ul class=\"pager\">\n",
            "          <li class=\"current\">\n",
            "           Page 1 of 50\n",
            "          </li>\n",
            "          <li class=\"next\">\n",
            "           <a href=\"catalogue/page-2.html\">\n",
            "            next\n",
            "           </a>\n",
            "          </li>\n",
            "         </ul>\n",
            "        </div>\n",
            "       </div>\n",
            "      </section>\n",
            "     </div>\n",
            "    </div>\n",
            "    <!-- /row -->\n",
            "   </div>\n",
            "   <!-- /page_inner -->\n",
            "  </div>\n",
            "  <!-- /container-fluid -->\n",
            "  <footer class=\"footer container-fluid\">\n",
            "  </footer>\n",
            "  <!-- jQuery -->\n",
            "  <script src=\"http://ajax.googleapis.com/ajax/libs/jquery/1.9.1/jquery.min.js\">\n",
            "  </script>\n",
            "  <script>\n",
            "   window.jQuery || document.write('<script src=\"static/oscar/js/jquery/jquery-1.9.1.min.js\"><\\/script>')\n",
            "  </script>\n",
            "  <!-- Twitter Bootstrap -->\n",
            "  <script src=\"static/oscar/js/bootstrap3/bootstrap.min.js\" type=\"text/javascript\">\n",
            "  </script>\n",
            "  <!-- Oscar -->\n",
            "  <script charset=\"utf-8\" src=\"static/oscar/js/oscar/ui.js\" type=\"text/javascript\">\n",
            "  </script>\n",
            "  <script charset=\"utf-8\" src=\"static/oscar/js/bootstrap-datetimepicker/bootstrap-datetimepicker.js\" type=\"text/javascript\">\n",
            "  </script>\n",
            "  <script charset=\"utf-8\" src=\"static/oscar/js/bootstrap-datetimepicker/locales/bootstrap-datetimepicker.all.js\" type=\"text/javascript\">\n",
            "  </script>\n",
            "  <script type=\"text/javascript\">\n",
            "   $(function() {\n",
            "                \n",
            "    \n",
            "    \n",
            "    oscar.init();\n",
            "\n",
            "    oscar.search.init();\n",
            "\n",
            "            });\n",
            "  </script>\n",
            "  <!-- Version: N/A -->\n",
            " </body>\n",
            "</html>\n",
            "\n"
          ]
        }
      ]
    },
    {
      "cell_type": "code",
      "source": [
        "data.title"
      ],
      "metadata": {
        "colab": {
          "base_uri": "https://localhost:8080/"
        },
        "id": "bGGEnpILaQb6",
        "outputId": "87c651e9-2778-434b-f7c4-157f6270c35b"
      },
      "execution_count": null,
      "outputs": [
        {
          "output_type": "execute_result",
          "data": {
            "text/plain": [
              "<title>\n",
              "    All products | Books to Scrape - Sandbox\n",
              "</title>"
            ]
          },
          "metadata": {},
          "execution_count": 131
        }
      ]
    },
    {
      "cell_type": "code",
      "source": [
        "data.title.string"
      ],
      "metadata": {
        "colab": {
          "base_uri": "https://localhost:8080/",
          "height": 37
        },
        "id": "Tlb7RUTraXME",
        "outputId": "262e8117-c8a5-4058-e0cd-8c9cb64ad42c"
      },
      "execution_count": null,
      "outputs": [
        {
          "output_type": "execute_result",
          "data": {
            "text/plain": [
              "'\\n    All products | Books to Scrape - Sandbox\\n'"
            ],
            "application/vnd.google.colaboratory.intrinsic+json": {
              "type": "string"
            }
          },
          "metadata": {},
          "execution_count": 132
        }
      ]
    },
    {
      "cell_type": "code",
      "source": [
        "data.a # Getting the first Hyperlink\n",
        "\n",
        "# what if this is not the first hyperlink present in the page ?"
      ],
      "metadata": {
        "colab": {
          "base_uri": "https://localhost:8080/"
        },
        "id": "lHyIviGrbbrc",
        "outputId": "b8e7fa0a-5b75-40a2-d1e5-add381256e7e"
      },
      "execution_count": null,
      "outputs": [
        {
          "output_type": "execute_result",
          "data": {
            "text/plain": [
              "<a href=\"index.html\">Books to Scrape</a>"
            ]
          },
          "metadata": {},
          "execution_count": 133
        }
      ]
    },
    {
      "cell_type": "code",
      "source": [
        "print(data.header,\"\\n\") # fetching the first header tag\n",
        "\n",
        "data.header.a # getting the first link inside header tag"
      ],
      "metadata": {
        "colab": {
          "base_uri": "https://localhost:8080/"
        },
        "id": "OClpAMHkfzXG",
        "outputId": "72f1ffb6-61c0-4c80-da1f-c610ce2d59d1"
      },
      "execution_count": null,
      "outputs": [
        {
          "output_type": "stream",
          "name": "stdout",
          "text": [
            "<header class=\"header container-fluid\">\n",
            "<div class=\"page_inner\">\n",
            "<div class=\"row\">\n",
            "<div class=\"col-sm-8 h1\"><a href=\"index.html\">Books to Scrape</a><small> We love being scraped!</small>\n",
            "</div>\n",
            "</div>\n",
            "</div>\n",
            "</header> \n",
            "\n"
          ]
        },
        {
          "output_type": "execute_result",
          "data": {
            "text/plain": [
              "<a href=\"index.html\">Books to Scrape</a>"
            ]
          },
          "metadata": {},
          "execution_count": 142
        }
      ]
    },
    {
      "cell_type": "code",
      "source": [
        "data.header.string"
      ],
      "metadata": {
        "id": "z9AuqQWygalF"
      },
      "execution_count": null,
      "outputs": []
    },
    {
      "cell_type": "code",
      "source": [
        "data.div # will fetch us the first div tag "
      ],
      "metadata": {
        "colab": {
          "base_uri": "https://localhost:8080/"
        },
        "id": "FxTKHbAPb_u2",
        "outputId": "22cd55d6-db1f-4d4d-db87-31b9bc5ad6c4"
      },
      "execution_count": null,
      "outputs": [
        {
          "output_type": "execute_result",
          "data": {
            "text/plain": [
              "<div class=\"page_inner\">\n",
              "<div class=\"row\">\n",
              "<div class=\"col-sm-8 h1\"><a href=\"index.html\">Books to Scrape</a><small> We love being scraped!</small>\n",
              "</div>\n",
              "</div>\n",
              "</div>"
            ]
          },
          "metadata": {},
          "execution_count": 134
        }
      ]
    },
    {
      "cell_type": "code",
      "source": [
        "print(data.div.find_all('a') )\n",
        "# This won't work if we we want all the links inside all the div tags \n",
        "# because first using data.div we have selected the first div tag then we are selecting all the link inside that first tag "
      ],
      "metadata": {
        "colab": {
          "base_uri": "https://localhost:8080/"
        },
        "id": "KMrATsMIaY1Y",
        "outputId": "d74b8521-4dee-4d24-af08-1e9323365865"
      },
      "execution_count": null,
      "outputs": [
        {
          "output_type": "stream",
          "name": "stdout",
          "text": [
            "[<a href=\"index.html\">Books to Scrape</a>]\n"
          ]
        }
      ]
    },
    {
      "cell_type": "markdown",
      "source": [
        "* Using inspect elements highlight the entire section of the first book .\n",
        "\n",
        "* You will see it is present inside the section < article class =\"product_prod\">"
      ],
      "metadata": {
        "id": "43Itavbdg43n"
      }
    },
    {
      "cell_type": "markdown",
      "source": [
        "**Extract the title of the First Book**\n",
        "\n",
        "* Expand the article class and search for the title or simply using the element selector tool hover over the title of book to locate the title of the book\n",
        "\n",
        "* You will see title of first book is present inside the h3 tag along with title link to the book is also present"
      ],
      "metadata": {
        "id": "PmX14qhphWJe"
      }
    },
    {
      "cell_type": "code",
      "source": [
        "data.h3"
      ],
      "metadata": {
        "colab": {
          "base_uri": "https://localhost:8080/"
        },
        "id": "PYIyZqvGa9bP",
        "outputId": "8c4e902e-a5f3-4efd-9873-8b141d08861a"
      },
      "execution_count": null,
      "outputs": [
        {
          "output_type": "execute_result",
          "data": {
            "text/plain": [
              "<h3><a href=\"catalogue/a-light-in-the-attic_1000/index.html\" title=\"A Light in the Attic\">A Light in the ...</a></h3>"
            ]
          },
          "metadata": {},
          "execution_count": 148
        }
      ]
    },
    {
      "cell_type": "code",
      "source": [
        "print(data.h3.a['title']) # because title is present inside the <> brackets of tag <a>\n",
        "\n",
        "# Thus data.h3 is selecting the first heading3 tag then in that heading3 tag we are selecting the first \n",
        "# a tag inside that that tag we are accessing the title\n",
        "\n",
        "print(data.h3.a['href'])"
      ],
      "metadata": {
        "colab": {
          "base_uri": "https://localhost:8080/"
        },
        "id": "A7w3CClAc-ro",
        "outputId": "f8200f0d-8213-4d13-def1-5fdaab24a6a9"
      },
      "execution_count": null,
      "outputs": [
        {
          "output_type": "stream",
          "name": "stdout",
          "text": [
            "A Light in the Attic\n",
            "catalogue/a-light-in-the-attic_1000/index.html\n"
          ]
        }
      ]
    },
    {
      "cell_type": "markdown",
      "source": [
        "*  More general way of doing the same functionality"
      ],
      "metadata": {
        "id": "VT7jQXa4i8fm"
      }
    },
    {
      "cell_type": "code",
      "source": [
        "b1 = data.find(class_ = 'product_pod')# find returns only the first occurence oppose to find_all whichi returns all the occurences\n",
        "\n",
        "b1\n",
        "# selecting the class or tag where the whole book is present"
      ],
      "metadata": {
        "colab": {
          "base_uri": "https://localhost:8080/"
        },
        "id": "RrhossJ4dHdJ",
        "outputId": "1c6e8b57-e190-4609-9796-9636b4178ac5"
      },
      "execution_count": null,
      "outputs": [
        {
          "output_type": "execute_result",
          "data": {
            "text/plain": [
              "<article class=\"product_pod\">\n",
              "<div class=\"image_container\">\n",
              "<a href=\"catalogue/a-light-in-the-attic_1000/index.html\"><img alt=\"A Light in the Attic\" class=\"thumbnail\" src=\"media/cache/2c/da/2cdad67c44b002e7ead0cc35693c0e8b.jpg\"/></a>\n",
              "</div>\n",
              "<p class=\"star-rating Three\">\n",
              "<i class=\"icon-star\"></i>\n",
              "<i class=\"icon-star\"></i>\n",
              "<i class=\"icon-star\"></i>\n",
              "<i class=\"icon-star\"></i>\n",
              "<i class=\"icon-star\"></i>\n",
              "</p>\n",
              "<h3><a href=\"catalogue/a-light-in-the-attic_1000/index.html\" title=\"A Light in the Attic\">A Light in the ...</a></h3>\n",
              "<div class=\"product_price\">\n",
              "<p class=\"price_color\">Â£51.77</p>\n",
              "<p class=\"instock availability\">\n",
              "<i class=\"icon-ok\"></i>\n",
              "    \n",
              "        In stock\n",
              "    \n",
              "</p>\n",
              "<form>\n",
              "<button class=\"btn btn-primary btn-block\" data-loading-text=\"Adding...\" type=\"submit\">Add to basket</button>\n",
              "</form>\n",
              "</div>\n",
              "</article>"
            ]
          },
          "metadata": {},
          "execution_count": 172
        }
      ]
    },
    {
      "cell_type": "code",
      "source": [
        "b1.h3 # getting inside h3"
      ],
      "metadata": {
        "colab": {
          "base_uri": "https://localhost:8080/"
        },
        "id": "dFzkZY4XjJAH",
        "outputId": "fa99516f-e9b9-4b22-9bae-9a963784d101"
      },
      "execution_count": null,
      "outputs": [
        {
          "output_type": "execute_result",
          "data": {
            "text/plain": [
              "<h3><a href=\"catalogue/a-light-in-the-attic_1000/index.html\" title=\"A Light in the Attic\">A Light in the ...</a></h3>"
            ]
          },
          "metadata": {},
          "execution_count": 173
        }
      ]
    },
    {
      "cell_type": "code",
      "source": [
        "b1.h3.a # getting inside a tag "
      ],
      "metadata": {
        "colab": {
          "base_uri": "https://localhost:8080/"
        },
        "id": "XzzCF5jbj_sH",
        "outputId": "2da2b8a7-b466-4b48-dfdf-256336d219c7"
      },
      "execution_count": null,
      "outputs": [
        {
          "output_type": "execute_result",
          "data": {
            "text/plain": [
              "<a href=\"catalogue/a-light-in-the-attic_1000/index.html\" title=\"A Light in the Attic\">A Light in the ...</a>"
            ]
          },
          "metadata": {},
          "execution_count": 174
        }
      ]
    },
    {
      "cell_type": "code",
      "source": [
        "print(b1.h3.a['title'])\n",
        "print(b1.h3.a['href'])"
      ],
      "metadata": {
        "colab": {
          "base_uri": "https://localhost:8080/"
        },
        "id": "oevI2J9TkDt1",
        "outputId": "1cf76030-84ed-4df7-8f96-62cdc74cc889"
      },
      "execution_count": null,
      "outputs": [
        {
          "output_type": "stream",
          "name": "stdout",
          "text": [
            "A Light in the Attic\n",
            "catalogue/a-light-in-the-attic_1000/index.html\n"
          ]
        }
      ]
    },
    {
      "cell_type": "markdown",
      "source": [
        "* The above link is not the complete link rather it is a relative URL\n",
        "\n",
        "* Click on the first book's link to open the complete link \n",
        "\n",
        "* Append the Base URL to this relative link to make it complete"
      ],
      "metadata": {
        "id": "9kr-FsnzkTtV"
      }
    },
    {
      "cell_type": "code",
      "source": [
        "base_url = 'https://books.toscrape.com/'\n",
        "\n",
        "print(base_url + b1.h3.a['href'])"
      ],
      "metadata": {
        "colab": {
          "base_uri": "https://localhost:8080/"
        },
        "id": "R_UUmOOokGba",
        "outputId": "69c3fa5e-fe75-4592-b239-94f8a3e34295"
      },
      "execution_count": null,
      "outputs": [
        {
          "output_type": "stream",
          "name": "stdout",
          "text": [
            "https://books.toscrape.com/catalogue/a-light-in-the-attic_1000/index.html\n"
          ]
        }
      ]
    },
    {
      "cell_type": "markdown",
      "source": [
        "**Get the Hyperlink of each and every Book on the first Page**"
      ],
      "metadata": {
        "id": "Y8Z3OSegk-t4"
      }
    },
    {
      "cell_type": "code",
      "source": [
        "# We just cannot write data.find_all('a')\n",
        "# as there are so many hyperlinks present on the webpage\n",
        "# e.g NEXT button represent the link to the next page\n",
        "# category wise links of books is also present and many more"
      ],
      "metadata": {
        "id": "jwLPruLBk4nF"
      },
      "execution_count": null,
      "outputs": []
    },
    {
      "cell_type": "markdown",
      "source": [
        "* Since we have already observed that our first book's link was present inside the class \"product_pod\" and if we select the 2nd book and view we can see that it's class is same as that of first book\n",
        "\n",
        "* So it seems that all 20 books are present inside this class only"
      ],
      "metadata": {
        "id": "0nISFFQ-mRIH"
      }
    },
    {
      "cell_type": "code",
      "source": [
        "books = data.find_all(class_ = \"product_pod\")\n",
        "\n",
        "print(books)\n",
        "len(books)"
      ],
      "metadata": {
        "colab": {
          "base_uri": "https://localhost:8080/"
        },
        "id": "weBU7lgYmkzA",
        "outputId": "ec17019f-6e41-43ba-92cd-5aa552ce1e1a"
      },
      "execution_count": null,
      "outputs": [
        {
          "output_type": "stream",
          "name": "stdout",
          "text": [
            "[<article class=\"product_pod\">\n",
            "<div class=\"image_container\">\n",
            "<a href=\"catalogue/a-light-in-the-attic_1000/index.html\"><img alt=\"A Light in the Attic\" class=\"thumbnail\" src=\"media/cache/2c/da/2cdad67c44b002e7ead0cc35693c0e8b.jpg\"/></a>\n",
            "</div>\n",
            "<p class=\"star-rating Three\">\n",
            "<i class=\"icon-star\"></i>\n",
            "<i class=\"icon-star\"></i>\n",
            "<i class=\"icon-star\"></i>\n",
            "<i class=\"icon-star\"></i>\n",
            "<i class=\"icon-star\"></i>\n",
            "</p>\n",
            "<h3><a href=\"catalogue/a-light-in-the-attic_1000/index.html\" title=\"A Light in the Attic\">A Light in the ...</a></h3>\n",
            "<div class=\"product_price\">\n",
            "<p class=\"price_color\">Â£51.77</p>\n",
            "<p class=\"instock availability\">\n",
            "<i class=\"icon-ok\"></i>\n",
            "    \n",
            "        In stock\n",
            "    \n",
            "</p>\n",
            "<form>\n",
            "<button class=\"btn btn-primary btn-block\" data-loading-text=\"Adding...\" type=\"submit\">Add to basket</button>\n",
            "</form>\n",
            "</div>\n",
            "</article>, <article class=\"product_pod\">\n",
            "<div class=\"image_container\">\n",
            "<a href=\"catalogue/tipping-the-velvet_999/index.html\"><img alt=\"Tipping the Velvet\" class=\"thumbnail\" src=\"media/cache/26/0c/260c6ae16bce31c8f8c95daddd9f4a1c.jpg\"/></a>\n",
            "</div>\n",
            "<p class=\"star-rating One\">\n",
            "<i class=\"icon-star\"></i>\n",
            "<i class=\"icon-star\"></i>\n",
            "<i class=\"icon-star\"></i>\n",
            "<i class=\"icon-star\"></i>\n",
            "<i class=\"icon-star\"></i>\n",
            "</p>\n",
            "<h3><a href=\"catalogue/tipping-the-velvet_999/index.html\" title=\"Tipping the Velvet\">Tipping the Velvet</a></h3>\n",
            "<div class=\"product_price\">\n",
            "<p class=\"price_color\">Â£53.74</p>\n",
            "<p class=\"instock availability\">\n",
            "<i class=\"icon-ok\"></i>\n",
            "    \n",
            "        In stock\n",
            "    \n",
            "</p>\n",
            "<form>\n",
            "<button class=\"btn btn-primary btn-block\" data-loading-text=\"Adding...\" type=\"submit\">Add to basket</button>\n",
            "</form>\n",
            "</div>\n",
            "</article>, <article class=\"product_pod\">\n",
            "<div class=\"image_container\">\n",
            "<a href=\"catalogue/soumission_998/index.html\"><img alt=\"Soumission\" class=\"thumbnail\" src=\"media/cache/3e/ef/3eef99c9d9adef34639f510662022830.jpg\"/></a>\n",
            "</div>\n",
            "<p class=\"star-rating One\">\n",
            "<i class=\"icon-star\"></i>\n",
            "<i class=\"icon-star\"></i>\n",
            "<i class=\"icon-star\"></i>\n",
            "<i class=\"icon-star\"></i>\n",
            "<i class=\"icon-star\"></i>\n",
            "</p>\n",
            "<h3><a href=\"catalogue/soumission_998/index.html\" title=\"Soumission\">Soumission</a></h3>\n",
            "<div class=\"product_price\">\n",
            "<p class=\"price_color\">Â£50.10</p>\n",
            "<p class=\"instock availability\">\n",
            "<i class=\"icon-ok\"></i>\n",
            "    \n",
            "        In stock\n",
            "    \n",
            "</p>\n",
            "<form>\n",
            "<button class=\"btn btn-primary btn-block\" data-loading-text=\"Adding...\" type=\"submit\">Add to basket</button>\n",
            "</form>\n",
            "</div>\n",
            "</article>, <article class=\"product_pod\">\n",
            "<div class=\"image_container\">\n",
            "<a href=\"catalogue/sharp-objects_997/index.html\"><img alt=\"Sharp Objects\" class=\"thumbnail\" src=\"media/cache/32/51/3251cf3a3412f53f339e42cac2134093.jpg\"/></a>\n",
            "</div>\n",
            "<p class=\"star-rating Four\">\n",
            "<i class=\"icon-star\"></i>\n",
            "<i class=\"icon-star\"></i>\n",
            "<i class=\"icon-star\"></i>\n",
            "<i class=\"icon-star\"></i>\n",
            "<i class=\"icon-star\"></i>\n",
            "</p>\n",
            "<h3><a href=\"catalogue/sharp-objects_997/index.html\" title=\"Sharp Objects\">Sharp Objects</a></h3>\n",
            "<div class=\"product_price\">\n",
            "<p class=\"price_color\">Â£47.82</p>\n",
            "<p class=\"instock availability\">\n",
            "<i class=\"icon-ok\"></i>\n",
            "    \n",
            "        In stock\n",
            "    \n",
            "</p>\n",
            "<form>\n",
            "<button class=\"btn btn-primary btn-block\" data-loading-text=\"Adding...\" type=\"submit\">Add to basket</button>\n",
            "</form>\n",
            "</div>\n",
            "</article>, <article class=\"product_pod\">\n",
            "<div class=\"image_container\">\n",
            "<a href=\"catalogue/sapiens-a-brief-history-of-humankind_996/index.html\"><img alt=\"Sapiens: A Brief History of Humankind\" class=\"thumbnail\" src=\"media/cache/be/a5/bea5697f2534a2f86a3ef27b5a8c12a6.jpg\"/></a>\n",
            "</div>\n",
            "<p class=\"star-rating Five\">\n",
            "<i class=\"icon-star\"></i>\n",
            "<i class=\"icon-star\"></i>\n",
            "<i class=\"icon-star\"></i>\n",
            "<i class=\"icon-star\"></i>\n",
            "<i class=\"icon-star\"></i>\n",
            "</p>\n",
            "<h3><a href=\"catalogue/sapiens-a-brief-history-of-humankind_996/index.html\" title=\"Sapiens: A Brief History of Humankind\">Sapiens: A Brief History ...</a></h3>\n",
            "<div class=\"product_price\">\n",
            "<p class=\"price_color\">Â£54.23</p>\n",
            "<p class=\"instock availability\">\n",
            "<i class=\"icon-ok\"></i>\n",
            "    \n",
            "        In stock\n",
            "    \n",
            "</p>\n",
            "<form>\n",
            "<button class=\"btn btn-primary btn-block\" data-loading-text=\"Adding...\" type=\"submit\">Add to basket</button>\n",
            "</form>\n",
            "</div>\n",
            "</article>, <article class=\"product_pod\">\n",
            "<div class=\"image_container\">\n",
            "<a href=\"catalogue/the-requiem-red_995/index.html\"><img alt=\"The Requiem Red\" class=\"thumbnail\" src=\"media/cache/68/33/68339b4c9bc034267e1da611ab3b34f8.jpg\"/></a>\n",
            "</div>\n",
            "<p class=\"star-rating One\">\n",
            "<i class=\"icon-star\"></i>\n",
            "<i class=\"icon-star\"></i>\n",
            "<i class=\"icon-star\"></i>\n",
            "<i class=\"icon-star\"></i>\n",
            "<i class=\"icon-star\"></i>\n",
            "</p>\n",
            "<h3><a href=\"catalogue/the-requiem-red_995/index.html\" title=\"The Requiem Red\">The Requiem Red</a></h3>\n",
            "<div class=\"product_price\">\n",
            "<p class=\"price_color\">Â£22.65</p>\n",
            "<p class=\"instock availability\">\n",
            "<i class=\"icon-ok\"></i>\n",
            "    \n",
            "        In stock\n",
            "    \n",
            "</p>\n",
            "<form>\n",
            "<button class=\"btn btn-primary btn-block\" data-loading-text=\"Adding...\" type=\"submit\">Add to basket</button>\n",
            "</form>\n",
            "</div>\n",
            "</article>, <article class=\"product_pod\">\n",
            "<div class=\"image_container\">\n",
            "<a href=\"catalogue/the-dirty-little-secrets-of-getting-your-dream-job_994/index.html\"><img alt=\"The Dirty Little Secrets of Getting Your Dream Job\" class=\"thumbnail\" src=\"media/cache/92/27/92274a95b7c251fea59a2b8a78275ab4.jpg\"/></a>\n",
            "</div>\n",
            "<p class=\"star-rating Four\">\n",
            "<i class=\"icon-star\"></i>\n",
            "<i class=\"icon-star\"></i>\n",
            "<i class=\"icon-star\"></i>\n",
            "<i class=\"icon-star\"></i>\n",
            "<i class=\"icon-star\"></i>\n",
            "</p>\n",
            "<h3><a href=\"catalogue/the-dirty-little-secrets-of-getting-your-dream-job_994/index.html\" title=\"The Dirty Little Secrets of Getting Your Dream Job\">The Dirty Little Secrets ...</a></h3>\n",
            "<div class=\"product_price\">\n",
            "<p class=\"price_color\">Â£33.34</p>\n",
            "<p class=\"instock availability\">\n",
            "<i class=\"icon-ok\"></i>\n",
            "    \n",
            "        In stock\n",
            "    \n",
            "</p>\n",
            "<form>\n",
            "<button class=\"btn btn-primary btn-block\" data-loading-text=\"Adding...\" type=\"submit\">Add to basket</button>\n",
            "</form>\n",
            "</div>\n",
            "</article>, <article class=\"product_pod\">\n",
            "<div class=\"image_container\">\n",
            "<a href=\"catalogue/the-coming-woman-a-novel-based-on-the-life-of-the-infamous-feminist-victoria-woodhull_993/index.html\"><img alt=\"The Coming Woman: A Novel Based on the Life of the Infamous Feminist, Victoria Woodhull\" class=\"thumbnail\" src=\"media/cache/3d/54/3d54940e57e662c4dd1f3ff00c78cc64.jpg\"/></a>\n",
            "</div>\n",
            "<p class=\"star-rating Three\">\n",
            "<i class=\"icon-star\"></i>\n",
            "<i class=\"icon-star\"></i>\n",
            "<i class=\"icon-star\"></i>\n",
            "<i class=\"icon-star\"></i>\n",
            "<i class=\"icon-star\"></i>\n",
            "</p>\n",
            "<h3><a href=\"catalogue/the-coming-woman-a-novel-based-on-the-life-of-the-infamous-feminist-victoria-woodhull_993/index.html\" title=\"The Coming Woman: A Novel Based on the Life of the Infamous Feminist, Victoria Woodhull\">The Coming Woman: A ...</a></h3>\n",
            "<div class=\"product_price\">\n",
            "<p class=\"price_color\">Â£17.93</p>\n",
            "<p class=\"instock availability\">\n",
            "<i class=\"icon-ok\"></i>\n",
            "    \n",
            "        In stock\n",
            "    \n",
            "</p>\n",
            "<form>\n",
            "<button class=\"btn btn-primary btn-block\" data-loading-text=\"Adding...\" type=\"submit\">Add to basket</button>\n",
            "</form>\n",
            "</div>\n",
            "</article>, <article class=\"product_pod\">\n",
            "<div class=\"image_container\">\n",
            "<a href=\"catalogue/the-boys-in-the-boat-nine-americans-and-their-epic-quest-for-gold-at-the-1936-berlin-olympics_992/index.html\"><img alt=\"The Boys in the Boat: Nine Americans and Their Epic Quest for Gold at the 1936 Berlin Olympics\" class=\"thumbnail\" src=\"media/cache/66/88/66883b91f6804b2323c8369331cb7dd1.jpg\"/></a>\n",
            "</div>\n",
            "<p class=\"star-rating Four\">\n",
            "<i class=\"icon-star\"></i>\n",
            "<i class=\"icon-star\"></i>\n",
            "<i class=\"icon-star\"></i>\n",
            "<i class=\"icon-star\"></i>\n",
            "<i class=\"icon-star\"></i>\n",
            "</p>\n",
            "<h3><a href=\"catalogue/the-boys-in-the-boat-nine-americans-and-their-epic-quest-for-gold-at-the-1936-berlin-olympics_992/index.html\" title=\"The Boys in the Boat: Nine Americans and Their Epic Quest for Gold at the 1936 Berlin Olympics\">The Boys in the ...</a></h3>\n",
            "<div class=\"product_price\">\n",
            "<p class=\"price_color\">Â£22.60</p>\n",
            "<p class=\"instock availability\">\n",
            "<i class=\"icon-ok\"></i>\n",
            "    \n",
            "        In stock\n",
            "    \n",
            "</p>\n",
            "<form>\n",
            "<button class=\"btn btn-primary btn-block\" data-loading-text=\"Adding...\" type=\"submit\">Add to basket</button>\n",
            "</form>\n",
            "</div>\n",
            "</article>, <article class=\"product_pod\">\n",
            "<div class=\"image_container\">\n",
            "<a href=\"catalogue/the-black-maria_991/index.html\"><img alt=\"The Black Maria\" class=\"thumbnail\" src=\"media/cache/58/46/5846057e28022268153beff6d352b06c.jpg\"/></a>\n",
            "</div>\n",
            "<p class=\"star-rating One\">\n",
            "<i class=\"icon-star\"></i>\n",
            "<i class=\"icon-star\"></i>\n",
            "<i class=\"icon-star\"></i>\n",
            "<i class=\"icon-star\"></i>\n",
            "<i class=\"icon-star\"></i>\n",
            "</p>\n",
            "<h3><a href=\"catalogue/the-black-maria_991/index.html\" title=\"The Black Maria\">The Black Maria</a></h3>\n",
            "<div class=\"product_price\">\n",
            "<p class=\"price_color\">Â£52.15</p>\n",
            "<p class=\"instock availability\">\n",
            "<i class=\"icon-ok\"></i>\n",
            "    \n",
            "        In stock\n",
            "    \n",
            "</p>\n",
            "<form>\n",
            "<button class=\"btn btn-primary btn-block\" data-loading-text=\"Adding...\" type=\"submit\">Add to basket</button>\n",
            "</form>\n",
            "</div>\n",
            "</article>, <article class=\"product_pod\">\n",
            "<div class=\"image_container\">\n",
            "<a href=\"catalogue/starving-hearts-triangular-trade-trilogy-1_990/index.html\"><img alt=\"Starving Hearts (Triangular Trade Trilogy, #1)\" class=\"thumbnail\" src=\"media/cache/be/f4/bef44da28c98f905a3ebec0b87be8530.jpg\"/></a>\n",
            "</div>\n",
            "<p class=\"star-rating Two\">\n",
            "<i class=\"icon-star\"></i>\n",
            "<i class=\"icon-star\"></i>\n",
            "<i class=\"icon-star\"></i>\n",
            "<i class=\"icon-star\"></i>\n",
            "<i class=\"icon-star\"></i>\n",
            "</p>\n",
            "<h3><a href=\"catalogue/starving-hearts-triangular-trade-trilogy-1_990/index.html\" title=\"Starving Hearts (Triangular Trade Trilogy, #1)\">Starving Hearts (Triangular Trade ...</a></h3>\n",
            "<div class=\"product_price\">\n",
            "<p class=\"price_color\">Â£13.99</p>\n",
            "<p class=\"instock availability\">\n",
            "<i class=\"icon-ok\"></i>\n",
            "    \n",
            "        In stock\n",
            "    \n",
            "</p>\n",
            "<form>\n",
            "<button class=\"btn btn-primary btn-block\" data-loading-text=\"Adding...\" type=\"submit\">Add to basket</button>\n",
            "</form>\n",
            "</div>\n",
            "</article>, <article class=\"product_pod\">\n",
            "<div class=\"image_container\">\n",
            "<a href=\"catalogue/shakespeares-sonnets_989/index.html\"><img alt=\"Shakespeare's Sonnets\" class=\"thumbnail\" src=\"media/cache/10/48/1048f63d3b5061cd2f424d20b3f9b666.jpg\"/></a>\n",
            "</div>\n",
            "<p class=\"star-rating Four\">\n",
            "<i class=\"icon-star\"></i>\n",
            "<i class=\"icon-star\"></i>\n",
            "<i class=\"icon-star\"></i>\n",
            "<i class=\"icon-star\"></i>\n",
            "<i class=\"icon-star\"></i>\n",
            "</p>\n",
            "<h3><a href=\"catalogue/shakespeares-sonnets_989/index.html\" title=\"Shakespeare's Sonnets\">Shakespeare's Sonnets</a></h3>\n",
            "<div class=\"product_price\">\n",
            "<p class=\"price_color\">Â£20.66</p>\n",
            "<p class=\"instock availability\">\n",
            "<i class=\"icon-ok\"></i>\n",
            "    \n",
            "        In stock\n",
            "    \n",
            "</p>\n",
            "<form>\n",
            "<button class=\"btn btn-primary btn-block\" data-loading-text=\"Adding...\" type=\"submit\">Add to basket</button>\n",
            "</form>\n",
            "</div>\n",
            "</article>, <article class=\"product_pod\">\n",
            "<div class=\"image_container\">\n",
            "<a href=\"catalogue/set-me-free_988/index.html\"><img alt=\"Set Me Free\" class=\"thumbnail\" src=\"media/cache/5b/88/5b88c52633f53cacf162c15f4f823153.jpg\"/></a>\n",
            "</div>\n",
            "<p class=\"star-rating Five\">\n",
            "<i class=\"icon-star\"></i>\n",
            "<i class=\"icon-star\"></i>\n",
            "<i class=\"icon-star\"></i>\n",
            "<i class=\"icon-star\"></i>\n",
            "<i class=\"icon-star\"></i>\n",
            "</p>\n",
            "<h3><a href=\"catalogue/set-me-free_988/index.html\" title=\"Set Me Free\">Set Me Free</a></h3>\n",
            "<div class=\"product_price\">\n",
            "<p class=\"price_color\">Â£17.46</p>\n",
            "<p class=\"instock availability\">\n",
            "<i class=\"icon-ok\"></i>\n",
            "    \n",
            "        In stock\n",
            "    \n",
            "</p>\n",
            "<form>\n",
            "<button class=\"btn btn-primary btn-block\" data-loading-text=\"Adding...\" type=\"submit\">Add to basket</button>\n",
            "</form>\n",
            "</div>\n",
            "</article>, <article class=\"product_pod\">\n",
            "<div class=\"image_container\">\n",
            "<a href=\"catalogue/scott-pilgrims-precious-little-life-scott-pilgrim-1_987/index.html\"><img alt=\"Scott Pilgrim's Precious Little Life (Scott Pilgrim #1)\" class=\"thumbnail\" src=\"media/cache/94/b1/94b1b8b244bce9677c2f29ccc890d4d2.jpg\"/></a>\n",
            "</div>\n",
            "<p class=\"star-rating Five\">\n",
            "<i class=\"icon-star\"></i>\n",
            "<i class=\"icon-star\"></i>\n",
            "<i class=\"icon-star\"></i>\n",
            "<i class=\"icon-star\"></i>\n",
            "<i class=\"icon-star\"></i>\n",
            "</p>\n",
            "<h3><a href=\"catalogue/scott-pilgrims-precious-little-life-scott-pilgrim-1_987/index.html\" title=\"Scott Pilgrim's Precious Little Life (Scott Pilgrim #1)\">Scott Pilgrim's Precious Little ...</a></h3>\n",
            "<div class=\"product_price\">\n",
            "<p class=\"price_color\">Â£52.29</p>\n",
            "<p class=\"instock availability\">\n",
            "<i class=\"icon-ok\"></i>\n",
            "    \n",
            "        In stock\n",
            "    \n",
            "</p>\n",
            "<form>\n",
            "<button class=\"btn btn-primary btn-block\" data-loading-text=\"Adding...\" type=\"submit\">Add to basket</button>\n",
            "</form>\n",
            "</div>\n",
            "</article>, <article class=\"product_pod\">\n",
            "<div class=\"image_container\">\n",
            "<a href=\"catalogue/rip-it-up-and-start-again_986/index.html\"><img alt=\"Rip it Up and Start Again\" class=\"thumbnail\" src=\"media/cache/81/c4/81c4a973364e17d01f217e1188253d5e.jpg\"/></a>\n",
            "</div>\n",
            "<p class=\"star-rating Five\">\n",
            "<i class=\"icon-star\"></i>\n",
            "<i class=\"icon-star\"></i>\n",
            "<i class=\"icon-star\"></i>\n",
            "<i class=\"icon-star\"></i>\n",
            "<i class=\"icon-star\"></i>\n",
            "</p>\n",
            "<h3><a href=\"catalogue/rip-it-up-and-start-again_986/index.html\" title=\"Rip it Up and Start Again\">Rip it Up and ...</a></h3>\n",
            "<div class=\"product_price\">\n",
            "<p class=\"price_color\">Â£35.02</p>\n",
            "<p class=\"instock availability\">\n",
            "<i class=\"icon-ok\"></i>\n",
            "    \n",
            "        In stock\n",
            "    \n",
            "</p>\n",
            "<form>\n",
            "<button class=\"btn btn-primary btn-block\" data-loading-text=\"Adding...\" type=\"submit\">Add to basket</button>\n",
            "</form>\n",
            "</div>\n",
            "</article>, <article class=\"product_pod\">\n",
            "<div class=\"image_container\">\n",
            "<a href=\"catalogue/our-band-could-be-your-life-scenes-from-the-american-indie-underground-1981-1991_985/index.html\"><img alt=\"Our Band Could Be Your Life: Scenes from the American Indie Underground, 1981-1991\" class=\"thumbnail\" src=\"media/cache/54/60/54607fe8945897cdcced0044103b10b6.jpg\"/></a>\n",
            "</div>\n",
            "<p class=\"star-rating Three\">\n",
            "<i class=\"icon-star\"></i>\n",
            "<i class=\"icon-star\"></i>\n",
            "<i class=\"icon-star\"></i>\n",
            "<i class=\"icon-star\"></i>\n",
            "<i class=\"icon-star\"></i>\n",
            "</p>\n",
            "<h3><a href=\"catalogue/our-band-could-be-your-life-scenes-from-the-american-indie-underground-1981-1991_985/index.html\" title=\"Our Band Could Be Your Life: Scenes from the American Indie Underground, 1981-1991\">Our Band Could Be ...</a></h3>\n",
            "<div class=\"product_price\">\n",
            "<p class=\"price_color\">Â£57.25</p>\n",
            "<p class=\"instock availability\">\n",
            "<i class=\"icon-ok\"></i>\n",
            "    \n",
            "        In stock\n",
            "    \n",
            "</p>\n",
            "<form>\n",
            "<button class=\"btn btn-primary btn-block\" data-loading-text=\"Adding...\" type=\"submit\">Add to basket</button>\n",
            "</form>\n",
            "</div>\n",
            "</article>, <article class=\"product_pod\">\n",
            "<div class=\"image_container\">\n",
            "<a href=\"catalogue/olio_984/index.html\"><img alt=\"Olio\" class=\"thumbnail\" src=\"media/cache/55/33/553310a7162dfbc2c6d19a84da0df9e1.jpg\"/></a>\n",
            "</div>\n",
            "<p class=\"star-rating One\">\n",
            "<i class=\"icon-star\"></i>\n",
            "<i class=\"icon-star\"></i>\n",
            "<i class=\"icon-star\"></i>\n",
            "<i class=\"icon-star\"></i>\n",
            "<i class=\"icon-star\"></i>\n",
            "</p>\n",
            "<h3><a href=\"catalogue/olio_984/index.html\" title=\"Olio\">Olio</a></h3>\n",
            "<div class=\"product_price\">\n",
            "<p class=\"price_color\">Â£23.88</p>\n",
            "<p class=\"instock availability\">\n",
            "<i class=\"icon-ok\"></i>\n",
            "    \n",
            "        In stock\n",
            "    \n",
            "</p>\n",
            "<form>\n",
            "<button class=\"btn btn-primary btn-block\" data-loading-text=\"Adding...\" type=\"submit\">Add to basket</button>\n",
            "</form>\n",
            "</div>\n",
            "</article>, <article class=\"product_pod\">\n",
            "<div class=\"image_container\">\n",
            "<a href=\"catalogue/mesaerion-the-best-science-fiction-stories-1800-1849_983/index.html\"><img alt=\"Mesaerion: The Best Science Fiction Stories 1800-1849\" class=\"thumbnail\" src=\"media/cache/09/a3/09a3aef48557576e1a85ba7efea8ecb7.jpg\"/></a>\n",
            "</div>\n",
            "<p class=\"star-rating One\">\n",
            "<i class=\"icon-star\"></i>\n",
            "<i class=\"icon-star\"></i>\n",
            "<i class=\"icon-star\"></i>\n",
            "<i class=\"icon-star\"></i>\n",
            "<i class=\"icon-star\"></i>\n",
            "</p>\n",
            "<h3><a href=\"catalogue/mesaerion-the-best-science-fiction-stories-1800-1849_983/index.html\" title=\"Mesaerion: The Best Science Fiction Stories 1800-1849\">Mesaerion: The Best Science ...</a></h3>\n",
            "<div class=\"product_price\">\n",
            "<p class=\"price_color\">Â£37.59</p>\n",
            "<p class=\"instock availability\">\n",
            "<i class=\"icon-ok\"></i>\n",
            "    \n",
            "        In stock\n",
            "    \n",
            "</p>\n",
            "<form>\n",
            "<button class=\"btn btn-primary btn-block\" data-loading-text=\"Adding...\" type=\"submit\">Add to basket</button>\n",
            "</form>\n",
            "</div>\n",
            "</article>, <article class=\"product_pod\">\n",
            "<div class=\"image_container\">\n",
            "<a href=\"catalogue/libertarianism-for-beginners_982/index.html\"><img alt=\"Libertarianism for Beginners\" class=\"thumbnail\" src=\"media/cache/0b/bc/0bbcd0a6f4bcd81ccb1049a52736406e.jpg\"/></a>\n",
            "</div>\n",
            "<p class=\"star-rating Two\">\n",
            "<i class=\"icon-star\"></i>\n",
            "<i class=\"icon-star\"></i>\n",
            "<i class=\"icon-star\"></i>\n",
            "<i class=\"icon-star\"></i>\n",
            "<i class=\"icon-star\"></i>\n",
            "</p>\n",
            "<h3><a href=\"catalogue/libertarianism-for-beginners_982/index.html\" title=\"Libertarianism for Beginners\">Libertarianism for Beginners</a></h3>\n",
            "<div class=\"product_price\">\n",
            "<p class=\"price_color\">Â£51.33</p>\n",
            "<p class=\"instock availability\">\n",
            "<i class=\"icon-ok\"></i>\n",
            "    \n",
            "        In stock\n",
            "    \n",
            "</p>\n",
            "<form>\n",
            "<button class=\"btn btn-primary btn-block\" data-loading-text=\"Adding...\" type=\"submit\">Add to basket</button>\n",
            "</form>\n",
            "</div>\n",
            "</article>, <article class=\"product_pod\">\n",
            "<div class=\"image_container\">\n",
            "<a href=\"catalogue/its-only-the-himalayas_981/index.html\"><img alt=\"It's Only the Himalayas\" class=\"thumbnail\" src=\"media/cache/27/a5/27a53d0bb95bdd88288eaf66c9230d7e.jpg\"/></a>\n",
            "</div>\n",
            "<p class=\"star-rating Two\">\n",
            "<i class=\"icon-star\"></i>\n",
            "<i class=\"icon-star\"></i>\n",
            "<i class=\"icon-star\"></i>\n",
            "<i class=\"icon-star\"></i>\n",
            "<i class=\"icon-star\"></i>\n",
            "</p>\n",
            "<h3><a href=\"catalogue/its-only-the-himalayas_981/index.html\" title=\"It's Only the Himalayas\">It's Only the Himalayas</a></h3>\n",
            "<div class=\"product_price\">\n",
            "<p class=\"price_color\">Â£45.17</p>\n",
            "<p class=\"instock availability\">\n",
            "<i class=\"icon-ok\"></i>\n",
            "    \n",
            "        In stock\n",
            "    \n",
            "</p>\n",
            "<form>\n",
            "<button class=\"btn btn-primary btn-block\" data-loading-text=\"Adding...\" type=\"submit\">Add to basket</button>\n",
            "</form>\n",
            "</div>\n",
            "</article>]\n"
          ]
        },
        {
          "output_type": "execute_result",
          "data": {
            "text/plain": [
              "20"
            ]
          },
          "metadata": {},
          "execution_count": 183
        }
      ]
    },
    {
      "cell_type": "code",
      "source": [
        "for book in books[:3]: # selecting first three entries only for testing purposes\n",
        "  print(book.h3) # selecting the h3 tag from all the tags and messy data\n",
        "\n",
        "# we can see <a> tag is present inside this heading3 that contains the required info"
      ],
      "metadata": {
        "colab": {
          "base_uri": "https://localhost:8080/"
        },
        "id": "WSrMQR0-oTVp",
        "outputId": "b0fbdb37-30c8-4dff-b875-4ffd3c6a88ff"
      },
      "execution_count": null,
      "outputs": [
        {
          "output_type": "stream",
          "name": "stdout",
          "text": [
            "<h3><a href=\"catalogue/a-light-in-the-attic_1000/index.html\" title=\"A Light in the Attic\">A Light in the ...</a></h3>\n",
            "<h3><a href=\"catalogue/tipping-the-velvet_999/index.html\" title=\"Tipping the Velvet\">Tipping the Velvet</a></h3>\n",
            "<h3><a href=\"catalogue/soumission_998/index.html\" title=\"Soumission\">Soumission</a></h3>\n"
          ]
        }
      ]
    },
    {
      "cell_type": "code",
      "source": [
        "for book in books:\n",
        "  print(book.h3.a['title']) # selecting the title\n",
        "  print(base_url + book.h3.a['href']) # select one by one book from list of books, then from that book select only the link"
      ],
      "metadata": {
        "colab": {
          "base_uri": "https://localhost:8080/"
        },
        "id": "7IQv-E1um2RL",
        "outputId": "2adcff23-070c-4af8-e244-88d7e4c389d7"
      },
      "execution_count": null,
      "outputs": [
        {
          "output_type": "stream",
          "name": "stdout",
          "text": [
            "A Light in the Attic\n",
            "https://books.toscrape.com/catalogue/a-light-in-the-attic_1000/index.html\n",
            "Tipping the Velvet\n",
            "https://books.toscrape.com/catalogue/tipping-the-velvet_999/index.html\n",
            "Soumission\n",
            "https://books.toscrape.com/catalogue/soumission_998/index.html\n",
            "Sharp Objects\n",
            "https://books.toscrape.com/catalogue/sharp-objects_997/index.html\n",
            "Sapiens: A Brief History of Humankind\n",
            "https://books.toscrape.com/catalogue/sapiens-a-brief-history-of-humankind_996/index.html\n",
            "The Requiem Red\n",
            "https://books.toscrape.com/catalogue/the-requiem-red_995/index.html\n",
            "The Dirty Little Secrets of Getting Your Dream Job\n",
            "https://books.toscrape.com/catalogue/the-dirty-little-secrets-of-getting-your-dream-job_994/index.html\n",
            "The Coming Woman: A Novel Based on the Life of the Infamous Feminist, Victoria Woodhull\n",
            "https://books.toscrape.com/catalogue/the-coming-woman-a-novel-based-on-the-life-of-the-infamous-feminist-victoria-woodhull_993/index.html\n",
            "The Boys in the Boat: Nine Americans and Their Epic Quest for Gold at the 1936 Berlin Olympics\n",
            "https://books.toscrape.com/catalogue/the-boys-in-the-boat-nine-americans-and-their-epic-quest-for-gold-at-the-1936-berlin-olympics_992/index.html\n",
            "The Black Maria\n",
            "https://books.toscrape.com/catalogue/the-black-maria_991/index.html\n",
            "Starving Hearts (Triangular Trade Trilogy, #1)\n",
            "https://books.toscrape.com/catalogue/starving-hearts-triangular-trade-trilogy-1_990/index.html\n",
            "Shakespeare's Sonnets\n",
            "https://books.toscrape.com/catalogue/shakespeares-sonnets_989/index.html\n",
            "Set Me Free\n",
            "https://books.toscrape.com/catalogue/set-me-free_988/index.html\n",
            "Scott Pilgrim's Precious Little Life (Scott Pilgrim #1)\n",
            "https://books.toscrape.com/catalogue/scott-pilgrims-precious-little-life-scott-pilgrim-1_987/index.html\n",
            "Rip it Up and Start Again\n",
            "https://books.toscrape.com/catalogue/rip-it-up-and-start-again_986/index.html\n",
            "Our Band Could Be Your Life: Scenes from the American Indie Underground, 1981-1991\n",
            "https://books.toscrape.com/catalogue/our-band-could-be-your-life-scenes-from-the-american-indie-underground-1981-1991_985/index.html\n",
            "Olio\n",
            "https://books.toscrape.com/catalogue/olio_984/index.html\n",
            "Mesaerion: The Best Science Fiction Stories 1800-1849\n",
            "https://books.toscrape.com/catalogue/mesaerion-the-best-science-fiction-stories-1800-1849_983/index.html\n",
            "Libertarianism for Beginners\n",
            "https://books.toscrape.com/catalogue/libertarianism-for-beginners_982/index.html\n",
            "It's Only the Himalayas\n",
            "https://books.toscrape.com/catalogue/its-only-the-himalayas_981/index.html\n"
          ]
        }
      ]
    },
    {
      "cell_type": "code",
      "source": [
        "link_list = []\n",
        "for book in books:\n",
        "  link_list.append(base_url + book.h3.a['href']) \n",
        "\n",
        "print(link_list) # stored all the links inside a List"
      ],
      "metadata": {
        "colab": {
          "base_uri": "https://localhost:8080/"
        },
        "id": "J8asaEhinUft",
        "outputId": "dde24db9-5eb4-4fa4-cade-d7e0be865796"
      },
      "execution_count": null,
      "outputs": [
        {
          "output_type": "stream",
          "name": "stdout",
          "text": [
            "['https://books.toscrape.com/catalogue/a-light-in-the-attic_1000/index.html', 'https://books.toscrape.com/catalogue/tipping-the-velvet_999/index.html', 'https://books.toscrape.com/catalogue/soumission_998/index.html', 'https://books.toscrape.com/catalogue/sharp-objects_997/index.html', 'https://books.toscrape.com/catalogue/sapiens-a-brief-history-of-humankind_996/index.html', 'https://books.toscrape.com/catalogue/the-requiem-red_995/index.html', 'https://books.toscrape.com/catalogue/the-dirty-little-secrets-of-getting-your-dream-job_994/index.html', 'https://books.toscrape.com/catalogue/the-coming-woman-a-novel-based-on-the-life-of-the-infamous-feminist-victoria-woodhull_993/index.html', 'https://books.toscrape.com/catalogue/the-boys-in-the-boat-nine-americans-and-their-epic-quest-for-gold-at-the-1936-berlin-olympics_992/index.html', 'https://books.toscrape.com/catalogue/the-black-maria_991/index.html', 'https://books.toscrape.com/catalogue/starving-hearts-triangular-trade-trilogy-1_990/index.html', 'https://books.toscrape.com/catalogue/shakespeares-sonnets_989/index.html', 'https://books.toscrape.com/catalogue/set-me-free_988/index.html', 'https://books.toscrape.com/catalogue/scott-pilgrims-precious-little-life-scott-pilgrim-1_987/index.html', 'https://books.toscrape.com/catalogue/rip-it-up-and-start-again_986/index.html', 'https://books.toscrape.com/catalogue/our-band-could-be-your-life-scenes-from-the-american-indie-underground-1981-1991_985/index.html', 'https://books.toscrape.com/catalogue/olio_984/index.html', 'https://books.toscrape.com/catalogue/mesaerion-the-best-science-fiction-stories-1800-1849_983/index.html', 'https://books.toscrape.com/catalogue/libertarianism-for-beginners_982/index.html', 'https://books.toscrape.com/catalogue/its-only-the-himalayas_981/index.html']\n"
          ]
        }
      ]
    },
    {
      "cell_type": "markdown",
      "source": [
        "**Extract Information from all the pages of the website**\n",
        "\n",
        "* There are 50 web-pages we have to extract the information of all the books present inside these web-pages\n",
        "\n",
        "* For this make the get requests to all the web pages\n",
        "\n",
        "* Click on next and check where it is present in html code\n",
        "\n",
        "* 2nd page's url is relative URL href=\"catalogue/page-2.html\">next\n",
        "\n",
        "* 3rd page's url is even shorter than 2nd page's url \n",
        "href=\"page-3.html\">next\n",
        "\n",
        "* 4th page'es url is  href=\"page-4.html\">next\n",
        "\n",
        "* So we have to avoid appending \"catalogue\" in base_url incase of 2nd page's url and for rest URL's we can just append the Base_Url\n",
        "\n",
        "* One way is using if and else statment \n",
        "\n",
        "* Other way is to call first page using different URL\n",
        "\n",
        "e.g The actual url or base url is https://books.toscrape.com/\n",
        "\n",
        "and we can open the same page using \n",
        "https://books.toscrape.com/catalogue/page-1.html \n",
        "\n",
        "* if we open the website using the 2nd method all other url will be same even the 2nd page's url too which in this case would be\n",
        "href=\"page-2.html\""
      ],
      "metadata": {
        "id": "qizt_d5z4xmN"
      }
    },
    {
      "cell_type": "code",
      "source": [
        "all_urls = ['https://books.toscrape.com/catalogue/page-1.html']\n",
        "# directly puting the url of first web-page"
      ],
      "metadata": {
        "id": "FPW5AR1TpDIK"
      },
      "execution_count": null,
      "outputs": []
    },
    {
      "cell_type": "code",
      "source": [
        "current_page = 'https://books.toscrape.com/catalogue/page-1.html'\n",
        "base_url    =  'https://books.toscrape.com/catalogue/'\n",
        "\n",
        "response = requests.get(current_page)\n",
        "data = BeautifulSoup(response.text) # contains the data of current_page\n",
        "\n",
        "next_page = data.find(class_ = \"next\") # get the url of next page from the next class of current_page\n",
        "\n",
        "# print(next_page)\n",
        "print(base_url + next_page.a['href']) # this gives the relative URL"
      ],
      "metadata": {
        "colab": {
          "base_uri": "https://localhost:8080/"
        },
        "id": "m5jQ_etJ9WTo",
        "outputId": "0dc737ba-8790-40e7-e208-b6b897dfcc53"
      },
      "execution_count": null,
      "outputs": [
        {
          "output_type": "stream",
          "name": "stdout",
          "text": [
            "https://books.toscrape.com/catalogue/page-2.html\n"
          ]
        }
      ]
    },
    {
      "cell_type": "markdown",
      "source": [
        "* Now we can run loop 50 time to get all the pages but what if we do not know how many number of pages are present then proceed in the following way"
      ],
      "metadata": {
        "id": "kUNYgYAD_Aqi"
      }
    },
    {
      "cell_type": "code",
      "source": [
        "current_page = 'https://books.toscrape.com/catalogue/page-1.html'\n",
        "base_url     =  'https://books.toscrape.com/catalogue/'\n",
        "response     = requests.get(current_page)\n",
        "\n",
        "while response.status_code == 200:\n",
        "\n",
        "  data = BeautifulSoup(response.text) # contains the data of current_page\n",
        "  \n",
        "  next_page = data.find(class_ = \"next\") \n",
        "  next_url = base_url + next_page.a['href'] \n",
        "  print(next_url)\n",
        "  all_urls.append(next_url)\n",
        "\n",
        "  current_page = next_url\n",
        "  response     = requests.get(current_page)"
      ],
      "metadata": {
        "colab": {
          "base_uri": "https://localhost:8080/",
          "height": 1000
        },
        "id": "KvNOgNml9pAc",
        "outputId": "61036d8f-aed9-4506-b31f-ee706099db95"
      },
      "execution_count": null,
      "outputs": [
        {
          "output_type": "stream",
          "name": "stdout",
          "text": [
            "https://books.toscrape.com/catalogue/page-2.html\n",
            "https://books.toscrape.com/catalogue/page-3.html\n",
            "https://books.toscrape.com/catalogue/page-4.html\n",
            "https://books.toscrape.com/catalogue/page-5.html\n",
            "https://books.toscrape.com/catalogue/page-6.html\n",
            "https://books.toscrape.com/catalogue/page-7.html\n",
            "https://books.toscrape.com/catalogue/page-8.html\n",
            "https://books.toscrape.com/catalogue/page-9.html\n",
            "https://books.toscrape.com/catalogue/page-10.html\n",
            "https://books.toscrape.com/catalogue/page-11.html\n",
            "https://books.toscrape.com/catalogue/page-12.html\n",
            "https://books.toscrape.com/catalogue/page-13.html\n",
            "https://books.toscrape.com/catalogue/page-14.html\n",
            "https://books.toscrape.com/catalogue/page-15.html\n",
            "https://books.toscrape.com/catalogue/page-16.html\n",
            "https://books.toscrape.com/catalogue/page-17.html\n",
            "https://books.toscrape.com/catalogue/page-18.html\n",
            "https://books.toscrape.com/catalogue/page-19.html\n",
            "https://books.toscrape.com/catalogue/page-20.html\n",
            "https://books.toscrape.com/catalogue/page-21.html\n",
            "https://books.toscrape.com/catalogue/page-22.html\n",
            "https://books.toscrape.com/catalogue/page-23.html\n",
            "https://books.toscrape.com/catalogue/page-24.html\n",
            "https://books.toscrape.com/catalogue/page-25.html\n",
            "https://books.toscrape.com/catalogue/page-26.html\n",
            "https://books.toscrape.com/catalogue/page-27.html\n",
            "https://books.toscrape.com/catalogue/page-28.html\n",
            "https://books.toscrape.com/catalogue/page-29.html\n",
            "https://books.toscrape.com/catalogue/page-30.html\n",
            "https://books.toscrape.com/catalogue/page-31.html\n",
            "https://books.toscrape.com/catalogue/page-32.html\n",
            "https://books.toscrape.com/catalogue/page-33.html\n",
            "https://books.toscrape.com/catalogue/page-34.html\n",
            "https://books.toscrape.com/catalogue/page-35.html\n",
            "https://books.toscrape.com/catalogue/page-36.html\n",
            "https://books.toscrape.com/catalogue/page-37.html\n",
            "https://books.toscrape.com/catalogue/page-38.html\n",
            "https://books.toscrape.com/catalogue/page-39.html\n",
            "https://books.toscrape.com/catalogue/page-40.html\n",
            "https://books.toscrape.com/catalogue/page-41.html\n",
            "https://books.toscrape.com/catalogue/page-42.html\n",
            "https://books.toscrape.com/catalogue/page-43.html\n",
            "https://books.toscrape.com/catalogue/page-44.html\n",
            "https://books.toscrape.com/catalogue/page-45.html\n",
            "https://books.toscrape.com/catalogue/page-46.html\n",
            "https://books.toscrape.com/catalogue/page-47.html\n",
            "https://books.toscrape.com/catalogue/page-48.html\n",
            "https://books.toscrape.com/catalogue/page-49.html\n",
            "https://books.toscrape.com/catalogue/page-50.html\n"
          ]
        },
        {
          "output_type": "error",
          "ename": "AttributeError",
          "evalue": "ignored",
          "traceback": [
            "\u001b[0;31m---------------------------------------------------------------------------\u001b[0m",
            "\u001b[0;31mAttributeError\u001b[0m                            Traceback (most recent call last)",
            "\u001b[0;32m<ipython-input-202-d17502d0dd35>\u001b[0m in \u001b[0;36m<module>\u001b[0;34m()\u001b[0m\n\u001b[1;32m      8\u001b[0m \u001b[0;34m\u001b[0m\u001b[0m\n\u001b[1;32m      9\u001b[0m   \u001b[0mnext_page\u001b[0m \u001b[0;34m=\u001b[0m \u001b[0mdata\u001b[0m\u001b[0;34m.\u001b[0m\u001b[0mfind\u001b[0m\u001b[0;34m(\u001b[0m\u001b[0mclass_\u001b[0m \u001b[0;34m=\u001b[0m \u001b[0;34m\"next\"\u001b[0m\u001b[0;34m)\u001b[0m\u001b[0;34m\u001b[0m\u001b[0;34m\u001b[0m\u001b[0m\n\u001b[0;32m---> 10\u001b[0;31m   \u001b[0mnext_url\u001b[0m \u001b[0;34m=\u001b[0m \u001b[0mbase_url\u001b[0m \u001b[0;34m+\u001b[0m \u001b[0mnext_page\u001b[0m\u001b[0;34m.\u001b[0m\u001b[0ma\u001b[0m\u001b[0;34m[\u001b[0m\u001b[0;34m'href'\u001b[0m\u001b[0;34m]\u001b[0m\u001b[0;34m\u001b[0m\u001b[0;34m\u001b[0m\u001b[0m\n\u001b[0m\u001b[1;32m     11\u001b[0m   \u001b[0mprint\u001b[0m\u001b[0;34m(\u001b[0m\u001b[0mnext_url\u001b[0m\u001b[0;34m)\u001b[0m\u001b[0;34m\u001b[0m\u001b[0;34m\u001b[0m\u001b[0m\n\u001b[1;32m     12\u001b[0m   \u001b[0mall_urls\u001b[0m\u001b[0;34m.\u001b[0m\u001b[0mappend\u001b[0m\u001b[0;34m(\u001b[0m\u001b[0mnext_url\u001b[0m\u001b[0;34m)\u001b[0m\u001b[0;34m\u001b[0m\u001b[0;34m\u001b[0m\u001b[0m\n",
            "\u001b[0;31mAttributeError\u001b[0m: 'NoneType' object has no attribute 'a'"
          ]
        }
      ]
    },
    {
      "cell_type": "markdown",
      "source": [
        "* AttributeError: 'NoneType' object has no attribute 'a'\n",
        "\n",
        "* The error because when when we are at 50th page there is not any next button option , Hence there is no link\n",
        "\n",
        "* Hence data.find() will returnn None as response\n",
        "\n",
        "* Thus None.a['href'] is giving an error\n",
        "\n",
        "* Just add a if else statement to cure it"
      ],
      "metadata": {
        "id": "AKP4efCLA6KA"
      }
    },
    {
      "cell_type": "code",
      "source": [
        "current_page = 'https://books.toscrape.com/catalogue/page-1.html'\n",
        "base_url     =  'https://books.toscrape.com/catalogue/'\n",
        "response     = requests.get(current_page)\n",
        "\n",
        "while response.status_code == 200:\n",
        "\n",
        "  data = BeautifulSoup(response.text) # contains the data of current_page\n",
        "  \n",
        "  next_page = data.find(class_ = \"next\") \n",
        "  if next_page is None:\n",
        "    break\n",
        "  next_url = base_url + next_page.a['href'] \n",
        "  print(next_url)\n",
        "  all_urls.append(next_url)\n",
        "\n",
        "  current_page = next_url\n",
        "  response     = requests.get(current_page)"
      ],
      "metadata": {
        "colab": {
          "base_uri": "https://localhost:8080/"
        },
        "id": "gTYwOt_zAo02",
        "outputId": "992d583d-b50c-4fdc-8f69-6787cd48e269"
      },
      "execution_count": null,
      "outputs": [
        {
          "output_type": "stream",
          "name": "stdout",
          "text": [
            "https://books.toscrape.com/catalogue/page-2.html\n",
            "https://books.toscrape.com/catalogue/page-3.html\n",
            "https://books.toscrape.com/catalogue/page-4.html\n",
            "https://books.toscrape.com/catalogue/page-5.html\n",
            "https://books.toscrape.com/catalogue/page-6.html\n",
            "https://books.toscrape.com/catalogue/page-7.html\n",
            "https://books.toscrape.com/catalogue/page-8.html\n",
            "https://books.toscrape.com/catalogue/page-9.html\n",
            "https://books.toscrape.com/catalogue/page-10.html\n",
            "https://books.toscrape.com/catalogue/page-11.html\n",
            "https://books.toscrape.com/catalogue/page-12.html\n",
            "https://books.toscrape.com/catalogue/page-13.html\n",
            "https://books.toscrape.com/catalogue/page-14.html\n",
            "https://books.toscrape.com/catalogue/page-15.html\n",
            "https://books.toscrape.com/catalogue/page-16.html\n",
            "https://books.toscrape.com/catalogue/page-17.html\n",
            "https://books.toscrape.com/catalogue/page-18.html\n",
            "https://books.toscrape.com/catalogue/page-19.html\n",
            "https://books.toscrape.com/catalogue/page-20.html\n",
            "https://books.toscrape.com/catalogue/page-21.html\n",
            "https://books.toscrape.com/catalogue/page-22.html\n",
            "https://books.toscrape.com/catalogue/page-23.html\n",
            "https://books.toscrape.com/catalogue/page-24.html\n",
            "https://books.toscrape.com/catalogue/page-25.html\n",
            "https://books.toscrape.com/catalogue/page-26.html\n",
            "https://books.toscrape.com/catalogue/page-27.html\n",
            "https://books.toscrape.com/catalogue/page-28.html\n",
            "https://books.toscrape.com/catalogue/page-29.html\n",
            "https://books.toscrape.com/catalogue/page-30.html\n",
            "https://books.toscrape.com/catalogue/page-31.html\n",
            "https://books.toscrape.com/catalogue/page-32.html\n",
            "https://books.toscrape.com/catalogue/page-33.html\n",
            "https://books.toscrape.com/catalogue/page-34.html\n",
            "https://books.toscrape.com/catalogue/page-35.html\n",
            "https://books.toscrape.com/catalogue/page-36.html\n",
            "https://books.toscrape.com/catalogue/page-37.html\n",
            "https://books.toscrape.com/catalogue/page-38.html\n",
            "https://books.toscrape.com/catalogue/page-39.html\n",
            "https://books.toscrape.com/catalogue/page-40.html\n",
            "https://books.toscrape.com/catalogue/page-41.html\n",
            "https://books.toscrape.com/catalogue/page-42.html\n",
            "https://books.toscrape.com/catalogue/page-43.html\n",
            "https://books.toscrape.com/catalogue/page-44.html\n",
            "https://books.toscrape.com/catalogue/page-45.html\n",
            "https://books.toscrape.com/catalogue/page-46.html\n",
            "https://books.toscrape.com/catalogue/page-47.html\n",
            "https://books.toscrape.com/catalogue/page-48.html\n",
            "https://books.toscrape.com/catalogue/page-49.html\n",
            "https://books.toscrape.com/catalogue/page-50.html\n"
          ]
        }
      ]
    }
  ]
}