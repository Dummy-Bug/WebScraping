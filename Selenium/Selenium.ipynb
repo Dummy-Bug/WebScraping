{
  "nbformat": 4,
  "nbformat_minor": 0,
  "metadata": {
    "colab": {
      "name": "Selenium.ipynb",
      "provenance": []
    },
    "kernelspec": {
      "name": "python3",
      "display_name": "Python 3"
    },
    "language_info": {
      "name": "python"
    }
  },
  "cells": [
    {
      "cell_type": "code",
      "execution_count": null,
      "metadata": {
        "colab": {
          "base_uri": "https://localhost:8080/"
        },
        "id": "GKNAEITBesrW",
        "outputId": "b2697272-3e5e-4983-c607-22b2f1a38e44"
      },
      "outputs": [
        {
          "output_type": "stream",
          "name": "stdout",
          "text": [
            "Collecting selenium\n",
            "  Downloading selenium-4.1.5-py3-none-any.whl (979 kB)\n",
            "\u001b[?25l\r\u001b[K     |▍                               | 10 kB 21.3 MB/s eta 0:00:01\r\u001b[K     |▊                               | 20 kB 25.4 MB/s eta 0:00:01\r\u001b[K     |█                               | 30 kB 14.9 MB/s eta 0:00:01\r\u001b[K     |█▍                              | 40 kB 6.7 MB/s eta 0:00:01\r\u001b[K     |█▊                              | 51 kB 6.1 MB/s eta 0:00:01\r\u001b[K     |██                              | 61 kB 7.2 MB/s eta 0:00:01\r\u001b[K     |██▍                             | 71 kB 7.1 MB/s eta 0:00:01\r\u001b[K     |██▊                             | 81 kB 6.1 MB/s eta 0:00:01\r\u001b[K     |███                             | 92 kB 6.8 MB/s eta 0:00:01\r\u001b[K     |███▍                            | 102 kB 7.4 MB/s eta 0:00:01\r\u001b[K     |███▊                            | 112 kB 7.4 MB/s eta 0:00:01\r\u001b[K     |████                            | 122 kB 7.4 MB/s eta 0:00:01\r\u001b[K     |████▍                           | 133 kB 7.4 MB/s eta 0:00:01\r\u001b[K     |████▊                           | 143 kB 7.4 MB/s eta 0:00:01\r\u001b[K     |█████                           | 153 kB 7.4 MB/s eta 0:00:01\r\u001b[K     |█████▍                          | 163 kB 7.4 MB/s eta 0:00:01\r\u001b[K     |█████▊                          | 174 kB 7.4 MB/s eta 0:00:01\r\u001b[K     |██████                          | 184 kB 7.4 MB/s eta 0:00:01\r\u001b[K     |██████▍                         | 194 kB 7.4 MB/s eta 0:00:01\r\u001b[K     |██████▊                         | 204 kB 7.4 MB/s eta 0:00:01\r\u001b[K     |███████                         | 215 kB 7.4 MB/s eta 0:00:01\r\u001b[K     |███████▍                        | 225 kB 7.4 MB/s eta 0:00:01\r\u001b[K     |███████▊                        | 235 kB 7.4 MB/s eta 0:00:01\r\u001b[K     |████████                        | 245 kB 7.4 MB/s eta 0:00:01\r\u001b[K     |████████▍                       | 256 kB 7.4 MB/s eta 0:00:01\r\u001b[K     |████████▊                       | 266 kB 7.4 MB/s eta 0:00:01\r\u001b[K     |█████████                       | 276 kB 7.4 MB/s eta 0:00:01\r\u001b[K     |█████████▍                      | 286 kB 7.4 MB/s eta 0:00:01\r\u001b[K     |█████████▊                      | 296 kB 7.4 MB/s eta 0:00:01\r\u001b[K     |██████████                      | 307 kB 7.4 MB/s eta 0:00:01\r\u001b[K     |██████████▍                     | 317 kB 7.4 MB/s eta 0:00:01\r\u001b[K     |██████████▊                     | 327 kB 7.4 MB/s eta 0:00:01\r\u001b[K     |███████████                     | 337 kB 7.4 MB/s eta 0:00:01\r\u001b[K     |███████████▍                    | 348 kB 7.4 MB/s eta 0:00:01\r\u001b[K     |███████████▊                    | 358 kB 7.4 MB/s eta 0:00:01\r\u001b[K     |████████████                    | 368 kB 7.4 MB/s eta 0:00:01\r\u001b[K     |████████████▍                   | 378 kB 7.4 MB/s eta 0:00:01\r\u001b[K     |████████████▊                   | 389 kB 7.4 MB/s eta 0:00:01\r\u001b[K     |█████████████                   | 399 kB 7.4 MB/s eta 0:00:01\r\u001b[K     |█████████████▍                  | 409 kB 7.4 MB/s eta 0:00:01\r\u001b[K     |█████████████▊                  | 419 kB 7.4 MB/s eta 0:00:01\r\u001b[K     |██████████████                  | 430 kB 7.4 MB/s eta 0:00:01\r\u001b[K     |██████████████▍                 | 440 kB 7.4 MB/s eta 0:00:01\r\u001b[K     |██████████████▊                 | 450 kB 7.4 MB/s eta 0:00:01\r\u001b[K     |███████████████                 | 460 kB 7.4 MB/s eta 0:00:01\r\u001b[K     |███████████████▍                | 471 kB 7.4 MB/s eta 0:00:01\r\u001b[K     |███████████████▊                | 481 kB 7.4 MB/s eta 0:00:01\r\u001b[K     |████████████████                | 491 kB 7.4 MB/s eta 0:00:01\r\u001b[K     |████████████████▍               | 501 kB 7.4 MB/s eta 0:00:01\r\u001b[K     |████████████████▊               | 512 kB 7.4 MB/s eta 0:00:01\r\u001b[K     |█████████████████               | 522 kB 7.4 MB/s eta 0:00:01\r\u001b[K     |█████████████████▍              | 532 kB 7.4 MB/s eta 0:00:01\r\u001b[K     |█████████████████▊              | 542 kB 7.4 MB/s eta 0:00:01\r\u001b[K     |██████████████████              | 552 kB 7.4 MB/s eta 0:00:01\r\u001b[K     |██████████████████▍             | 563 kB 7.4 MB/s eta 0:00:01\r\u001b[K     |██████████████████▊             | 573 kB 7.4 MB/s eta 0:00:01\r\u001b[K     |███████████████████             | 583 kB 7.4 MB/s eta 0:00:01\r\u001b[K     |███████████████████▍            | 593 kB 7.4 MB/s eta 0:00:01\r\u001b[K     |███████████████████▊            | 604 kB 7.4 MB/s eta 0:00:01\r\u001b[K     |████████████████████            | 614 kB 7.4 MB/s eta 0:00:01\r\u001b[K     |████████████████████▍           | 624 kB 7.4 MB/s eta 0:00:01\r\u001b[K     |████████████████████▊           | 634 kB 7.4 MB/s eta 0:00:01\r\u001b[K     |█████████████████████           | 645 kB 7.4 MB/s eta 0:00:01\r\u001b[K     |█████████████████████▍          | 655 kB 7.4 MB/s eta 0:00:01\r\u001b[K     |█████████████████████▊          | 665 kB 7.4 MB/s eta 0:00:01\r\u001b[K     |██████████████████████          | 675 kB 7.4 MB/s eta 0:00:01\r\u001b[K     |██████████████████████▍         | 686 kB 7.4 MB/s eta 0:00:01\r\u001b[K     |██████████████████████▊         | 696 kB 7.4 MB/s eta 0:00:01\r\u001b[K     |███████████████████████         | 706 kB 7.4 MB/s eta 0:00:01\r\u001b[K     |███████████████████████▍        | 716 kB 7.4 MB/s eta 0:00:01\r\u001b[K     |███████████████████████▊        | 727 kB 7.4 MB/s eta 0:00:01\r\u001b[K     |████████████████████████        | 737 kB 7.4 MB/s eta 0:00:01\r\u001b[K     |████████████████████████▍       | 747 kB 7.4 MB/s eta 0:00:01\r\u001b[K     |████████████████████████▊       | 757 kB 7.4 MB/s eta 0:00:01\r\u001b[K     |█████████████████████████       | 768 kB 7.4 MB/s eta 0:00:01\r\u001b[K     |█████████████████████████▍      | 778 kB 7.4 MB/s eta 0:00:01\r\u001b[K     |█████████████████████████▊      | 788 kB 7.4 MB/s eta 0:00:01\r\u001b[K     |██████████████████████████      | 798 kB 7.4 MB/s eta 0:00:01\r\u001b[K     |██████████████████████████▍     | 808 kB 7.4 MB/s eta 0:00:01\r\u001b[K     |██████████████████████████▊     | 819 kB 7.4 MB/s eta 0:00:01\r\u001b[K     |███████████████████████████     | 829 kB 7.4 MB/s eta 0:00:01\r\u001b[K     |███████████████████████████▍    | 839 kB 7.4 MB/s eta 0:00:01\r\u001b[K     |███████████████████████████▊    | 849 kB 7.4 MB/s eta 0:00:01\r\u001b[K     |████████████████████████████    | 860 kB 7.4 MB/s eta 0:00:01\r\u001b[K     |████████████████████████████▍   | 870 kB 7.4 MB/s eta 0:00:01\r\u001b[K     |████████████████████████████▊   | 880 kB 7.4 MB/s eta 0:00:01\r\u001b[K     |█████████████████████████████   | 890 kB 7.4 MB/s eta 0:00:01\r\u001b[K     |█████████████████████████████▍  | 901 kB 7.4 MB/s eta 0:00:01\r\u001b[K     |█████████████████████████████▊  | 911 kB 7.4 MB/s eta 0:00:01\r\u001b[K     |██████████████████████████████▏ | 921 kB 7.4 MB/s eta 0:00:01\r\u001b[K     |██████████████████████████████▌ | 931 kB 7.4 MB/s eta 0:00:01\r\u001b[K     |██████████████████████████████▉ | 942 kB 7.4 MB/s eta 0:00:01\r\u001b[K     |███████████████████████████████▏| 952 kB 7.4 MB/s eta 0:00:01\r\u001b[K     |███████████████████████████████▌| 962 kB 7.4 MB/s eta 0:00:01\r\u001b[K     |███████████████████████████████▉| 972 kB 7.4 MB/s eta 0:00:01\r\u001b[K     |████████████████████████████████| 979 kB 7.4 MB/s \n",
            "\u001b[?25hCollecting trio-websocket~=0.9\n",
            "  Downloading trio_websocket-0.9.2-py3-none-any.whl (16 kB)\n",
            "Collecting trio~=0.17\n",
            "  Downloading trio-0.20.0-py3-none-any.whl (359 kB)\n",
            "\u001b[K     |████████████████████████████████| 359 kB 53.6 MB/s \n",
            "\u001b[?25hCollecting urllib3[secure,socks]~=1.26\n",
            "  Downloading urllib3-1.26.9-py2.py3-none-any.whl (138 kB)\n",
            "\u001b[K     |████████████████████████████████| 138 kB 50.5 MB/s \n",
            "\u001b[?25hCollecting outcome\n",
            "  Downloading outcome-1.1.0-py2.py3-none-any.whl (9.7 kB)\n",
            "Requirement already satisfied: sortedcontainers in /usr/local/lib/python3.7/dist-packages (from trio~=0.17->selenium) (2.4.0)\n",
            "Collecting async-generator>=1.9\n",
            "  Downloading async_generator-1.10-py3-none-any.whl (18 kB)\n",
            "Requirement already satisfied: attrs>=19.2.0 in /usr/local/lib/python3.7/dist-packages (from trio~=0.17->selenium) (21.4.0)\n",
            "Collecting sniffio\n",
            "  Downloading sniffio-1.2.0-py3-none-any.whl (10 kB)\n",
            "Requirement already satisfied: idna in /usr/local/lib/python3.7/dist-packages (from trio~=0.17->selenium) (2.10)\n",
            "Collecting wsproto>=0.14\n",
            "  Downloading wsproto-1.1.0-py3-none-any.whl (24 kB)\n",
            "Requirement already satisfied: PySocks!=1.5.7,<2.0,>=1.5.6 in /usr/local/lib/python3.7/dist-packages (from urllib3[secure,socks]~=1.26->selenium) (1.7.1)\n",
            "Collecting cryptography>=1.3.4\n",
            "  Downloading cryptography-37.0.2-cp36-abi3-manylinux_2_24_x86_64.whl (4.0 MB)\n",
            "\u001b[K     |████████████████████████████████| 4.0 MB 44.8 MB/s \n",
            "\u001b[?25hRequirement already satisfied: certifi in /usr/local/lib/python3.7/dist-packages (from urllib3[secure,socks]~=1.26->selenium) (2021.10.8)\n",
            "Collecting pyOpenSSL>=0.14\n",
            "  Downloading pyOpenSSL-22.0.0-py2.py3-none-any.whl (55 kB)\n",
            "\u001b[K     |████████████████████████████████| 55 kB 4.3 MB/s \n",
            "\u001b[?25hRequirement already satisfied: cffi>=1.12 in /usr/local/lib/python3.7/dist-packages (from cryptography>=1.3.4->urllib3[secure,socks]~=1.26->selenium) (1.15.0)\n",
            "Requirement already satisfied: pycparser in /usr/local/lib/python3.7/dist-packages (from cffi>=1.12->cryptography>=1.3.4->urllib3[secure,socks]~=1.26->selenium) (2.21)\n",
            "Collecting h11<1,>=0.9.0\n",
            "  Downloading h11-0.13.0-py3-none-any.whl (58 kB)\n",
            "\u001b[K     |████████████████████████████████| 58 kB 6.5 MB/s \n",
            "\u001b[?25hRequirement already satisfied: typing-extensions in /usr/local/lib/python3.7/dist-packages (from h11<1,>=0.9.0->wsproto>=0.14->trio-websocket~=0.9->selenium) (4.2.0)\n",
            "Installing collected packages: sniffio, outcome, h11, cryptography, async-generator, wsproto, urllib3, trio, pyOpenSSL, trio-websocket, selenium\n",
            "  Attempting uninstall: urllib3\n",
            "    Found existing installation: urllib3 1.24.3\n",
            "    Uninstalling urllib3-1.24.3:\n",
            "      Successfully uninstalled urllib3-1.24.3\n",
            "\u001b[31mERROR: pip's dependency resolver does not currently take into account all the packages that are installed. This behaviour is the source of the following dependency conflicts.\n",
            "requests 2.23.0 requires urllib3!=1.25.0,!=1.25.1,<1.26,>=1.21.1, but you have urllib3 1.26.9 which is incompatible.\n",
            "datascience 0.10.6 requires folium==0.2.1, but you have folium 0.8.3 which is incompatible.\u001b[0m\n",
            "Successfully installed async-generator-1.10 cryptography-37.0.2 h11-0.13.0 outcome-1.1.0 pyOpenSSL-22.0.0 selenium-4.1.5 sniffio-1.2.0 trio-0.20.0 trio-websocket-0.9.2 urllib3-1.26.9 wsproto-1.1.0\n",
            "Collecting chromedriver-autoinstaller\n",
            "  Downloading chromedriver_autoinstaller-0.3.1-py3-none-any.whl (6.3 kB)\n",
            "Installing collected packages: chromedriver-autoinstaller\n",
            "Successfully installed chromedriver-autoinstaller-0.3.1\n",
            "Get:1 https://cloud.r-project.org/bin/linux/ubuntu bionic-cran40/ InRelease [3,626 B]\n",
            "Get:2 https://developer.download.nvidia.com/compute/cuda/repos/ubuntu1804/x86_64  InRelease [1,581 B]\n",
            "Ign:3 https://developer.download.nvidia.com/compute/machine-learning/repos/ubuntu1804/x86_64  InRelease\n",
            "Hit:4 https://developer.download.nvidia.com/compute/machine-learning/repos/ubuntu1804/x86_64  Release\n",
            "Hit:5 http://archive.ubuntu.com/ubuntu bionic InRelease\n",
            "Get:6 http://security.ubuntu.com/ubuntu bionic-security InRelease [88.7 kB]\n",
            "Get:7 http://ppa.launchpad.net/c2d4u.team/c2d4u4.0+/ubuntu bionic InRelease [15.9 kB]\n",
            "Get:8 http://archive.ubuntu.com/ubuntu bionic-updates InRelease [88.7 kB]\n",
            "Get:9 https://cloud.r-project.org/bin/linux/ubuntu bionic-cran40/ Packages [85.2 kB]\n",
            "Get:10 https://developer.download.nvidia.com/compute/cuda/repos/ubuntu1804/x86_64  Packages [748 kB]\n",
            "Get:11 http://archive.ubuntu.com/ubuntu bionic-backports InRelease [74.6 kB]\n",
            "Hit:13 http://ppa.launchpad.net/cran/libgit2/ubuntu bionic InRelease\n",
            "Get:14 http://ppa.launchpad.net/deadsnakes/ppa/ubuntu bionic InRelease [15.9 kB]\n",
            "Get:15 http://security.ubuntu.com/ubuntu bionic-security/universe amd64 Packages [1,503 kB]\n",
            "Get:16 http://ppa.launchpad.net/graphics-drivers/ppa/ubuntu bionic InRelease [21.3 kB]\n",
            "Get:17 http://security.ubuntu.com/ubuntu bionic-security/main amd64 Packages [2,761 kB]\n",
            "Get:18 http://archive.ubuntu.com/ubuntu bionic-updates/restricted amd64 Packages [966 kB]\n",
            "Get:19 http://security.ubuntu.com/ubuntu bionic-security/restricted amd64 Packages [932 kB]\n",
            "Get:20 http://ppa.launchpad.net/c2d4u.team/c2d4u4.0+/ubuntu bionic/main Sources [1,957 kB]\n",
            "Get:21 http://archive.ubuntu.com/ubuntu bionic-updates/universe amd64 Packages [2,277 kB]\n",
            "Get:22 http://archive.ubuntu.com/ubuntu bionic-updates/main amd64 Packages [3,195 kB]\n",
            "Get:23 http://ppa.launchpad.net/c2d4u.team/c2d4u4.0+/ubuntu bionic/main amd64 Packages [1,004 kB]\n",
            "Get:24 http://ppa.launchpad.net/deadsnakes/ppa/ubuntu bionic/main amd64 Packages [45.3 kB]\n",
            "Get:25 http://ppa.launchpad.net/graphics-drivers/ppa/ubuntu bionic/main amd64 Packages [44.3 kB]\n",
            "Fetched 15.8 MB in 5s (3,107 kB/s)\n",
            "Reading package lists... Done\n",
            "Reading package lists... Done\n",
            "Building dependency tree       \n",
            "Reading state information... Done\n",
            "The following packages were automatically installed and are no longer required:\n",
            "  libnvidia-common-460 nsight-compute-2020.2.0\n",
            "Use 'apt autoremove' to remove them.\n",
            "The following additional packages will be installed:\n",
            "  chromium-browser chromium-browser-l10n chromium-codecs-ffmpeg-extra\n",
            "Suggested packages:\n",
            "  webaccounts-chromium-extension unity-chromium-extension\n",
            "The following NEW packages will be installed:\n",
            "  chromium-browser chromium-browser-l10n chromium-chromedriver\n",
            "  chromium-codecs-ffmpeg-extra\n",
            "0 upgraded, 4 newly installed, 0 to remove and 66 not upgraded.\n",
            "Need to get 88.4 MB of archives.\n",
            "After this operation, 297 MB of additional disk space will be used.\n",
            "Get:1 http://archive.ubuntu.com/ubuntu bionic-updates/universe amd64 chromium-codecs-ffmpeg-extra amd64 100.0.4896.127-0ubuntu0.18.04.1 [1,142 kB]\n",
            "Get:2 http://archive.ubuntu.com/ubuntu bionic-updates/universe amd64 chromium-browser amd64 100.0.4896.127-0ubuntu0.18.04.1 [77.6 MB]\n",
            "Get:3 http://archive.ubuntu.com/ubuntu bionic-updates/universe amd64 chromium-browser-l10n all 100.0.4896.127-0ubuntu0.18.04.1 [4,496 kB]\n",
            "Get:4 http://archive.ubuntu.com/ubuntu bionic-updates/universe amd64 chromium-chromedriver amd64 100.0.4896.127-0ubuntu0.18.04.1 [5,190 kB]\n",
            "Fetched 88.4 MB in 5s (19.5 MB/s)\n",
            "Selecting previously unselected package chromium-codecs-ffmpeg-extra.\n",
            "(Reading database ... 155203 files and directories currently installed.)\n",
            "Preparing to unpack .../chromium-codecs-ffmpeg-extra_100.0.4896.127-0ubuntu0.18.04.1_amd64.deb ...\n",
            "Unpacking chromium-codecs-ffmpeg-extra (100.0.4896.127-0ubuntu0.18.04.1) ...\n",
            "Selecting previously unselected package chromium-browser.\n",
            "Preparing to unpack .../chromium-browser_100.0.4896.127-0ubuntu0.18.04.1_amd64.deb ...\n",
            "Unpacking chromium-browser (100.0.4896.127-0ubuntu0.18.04.1) ...\n",
            "Selecting previously unselected package chromium-browser-l10n.\n",
            "Preparing to unpack .../chromium-browser-l10n_100.0.4896.127-0ubuntu0.18.04.1_all.deb ...\n",
            "Unpacking chromium-browser-l10n (100.0.4896.127-0ubuntu0.18.04.1) ...\n",
            "Selecting previously unselected package chromium-chromedriver.\n",
            "Preparing to unpack .../chromium-chromedriver_100.0.4896.127-0ubuntu0.18.04.1_amd64.deb ...\n",
            "Unpacking chromium-chromedriver (100.0.4896.127-0ubuntu0.18.04.1) ...\n",
            "Setting up chromium-codecs-ffmpeg-extra (100.0.4896.127-0ubuntu0.18.04.1) ...\n",
            "Setting up chromium-browser (100.0.4896.127-0ubuntu0.18.04.1) ...\n",
            "update-alternatives: using /usr/bin/chromium-browser to provide /usr/bin/x-www-browser (x-www-browser) in auto mode\n",
            "update-alternatives: using /usr/bin/chromium-browser to provide /usr/bin/gnome-www-browser (gnome-www-browser) in auto mode\n",
            "Setting up chromium-chromedriver (100.0.4896.127-0ubuntu0.18.04.1) ...\n",
            "Setting up chromium-browser-l10n (100.0.4896.127-0ubuntu0.18.04.1) ...\n",
            "Processing triggers for man-db (2.8.3-2ubuntu0.1) ...\n",
            "Processing triggers for hicolor-icon-theme (0.17-2) ...\n",
            "Processing triggers for mime-support (3.60ubuntu1) ...\n",
            "Processing triggers for libc-bin (2.27-3ubuntu1.3) ...\n",
            "/sbin/ldconfig.real: /usr/local/lib/python3.7/dist-packages/ideep4py/lib/libmkldnn.so.0 is not a symbolic link\n",
            "\n"
          ]
        }
      ],
      "source": [
        "! pip install selenium\n",
        "! pip install chromedriver-autoinstaller\n",
        "! apt-get update \n",
        "! apt install chromium-chromedriver"
      ]
    },
    {
      "cell_type": "code",
      "source": [
        "from selenium import webdriver\n",
        "\n",
        "chrome_options = webdriver.ChromeOptions()\n",
        "\n",
        "chrome_options.add_argument('--headless')\n",
        "chrome_options.add_argument('--no-sandbox')\n",
        "chrome_options.add_argument('--disable-dev-shm-usage')\n",
        "\n",
        "driver = webdriver.Chrome('chromedriver',options = chrome_options)"
      ],
      "metadata": {
        "id": "wESKsdAmet6H"
      },
      "execution_count": null,
      "outputs": []
    },
    {
      "cell_type": "code",
      "source": [
        "from selenium.webdriver.support.ui import WebDriverWait\n",
        "from selenium.webdriver.support import expected_conditions as EC\n",
        "from selenium.webdriver.common.by import By "
      ],
      "metadata": {
        "id": "7u_5O3zIe4xO"
      },
      "execution_count": null,
      "outputs": []
    },
    {
      "cell_type": "code",
      "source": [
        "'/html[1]/body[1]/div[1]/main[1]/div[1]/div[1]/div[1]/section[3]/section[1]/div[2]/ul[1]'"
      ],
      "metadata": {
        "colab": {
          "base_uri": "https://localhost:8080/",
          "height": 38
        },
        "id": "T-hDPp8q4Ptg",
        "outputId": "954335bc-ed6b-4938-933a-646ac597b48b"
      },
      "execution_count": null,
      "outputs": [
        {
          "output_type": "execute_result",
          "data": {
            "text/plain": [
              "'/html[1]/body[1]/div[1]/main[1]/div[1]/div[1]/div[1]/section[3]/section[1]/div[2]/ul[1]'"
            ],
            "application/vnd.google.colaboratory.intrinsic+json": {
              "type": "string"
            }
          },
          "metadata": {},
          "execution_count": 5
        }
      ]
    },
    {
      "cell_type": "code",
      "source": [
        "url = 'https://www.immobilienscout24.de/Suche/de/berlin/berlin/steglitz-zehlendorf/wohnung-mieten?enteredFrom=one_step_search'\n",
        "\n",
        "driver.get(url)\n",
        "driver.title"
      ],
      "metadata": {
        "colab": {
          "base_uri": "https://localhost:8080/",
          "height": 38
        },
        "id": "Nkxu-PHSk9vY",
        "outputId": "ef68abb7-1ab6-4bc9-f8fd-2188ea516836"
      },
      "execution_count": null,
      "outputs": [
        {
          "output_type": "execute_result",
          "data": {
            "text/plain": [
              "'Ich bin kein Roboter - ImmobilienScout24'"
            ],
            "application/vnd.google.colaboratory.intrinsic+json": {
              "type": "string"
            }
          },
          "metadata": {},
          "execution_count": 6
        }
      ]
    },
    {
      "cell_type": "code",
      "source": [
        "from selenium. webdriver. common. keys import Keys # This will give us the access to the keys like enter key,escape key\n",
        "\n",
        "search = driver.find_element(By.XPATH, '/html[1]/body[1]/div[1]/main[1]/div[1]/div[1]/div[1]/section[3]/section[1]/div[2]/ul[1]') # as value_name = \"s\" of the search box in inspect element.\n",
        "\n",
        "# search.send_keys(\"test\") # test is the string that we want to type in the search box\n",
        "# search.send_keys(Keys.RETURN) # RETURN means Enter key in selenium\n",
        "\n",
        "# time.sleep(5)"
      ],
      "metadata": {
        "id": "5lj0reZdlFV2",
        "colab": {
          "base_uri": "https://localhost:8080/",
          "height": 815
        },
        "outputId": "709300f2-39b1-4015-e438-c589f9d86aff"
      },
      "execution_count": null,
      "outputs": [
        {
          "output_type": "error",
          "ename": "NoSuchElementException",
          "evalue": "ignored",
          "traceback": [
            "\u001b[0;31m---------------------------------------------------------------------------\u001b[0m",
            "\u001b[0;31mNoSuchElementException\u001b[0m                    Traceback (most recent call last)",
            "\u001b[0;32m<ipython-input-9-05f1d39ae0ec>\u001b[0m in \u001b[0;36m<module>\u001b[0;34m()\u001b[0m\n\u001b[1;32m      1\u001b[0m \u001b[0;32mfrom\u001b[0m \u001b[0mselenium\u001b[0m\u001b[0;34m.\u001b[0m \u001b[0mwebdriver\u001b[0m\u001b[0;34m.\u001b[0m \u001b[0mcommon\u001b[0m\u001b[0;34m.\u001b[0m \u001b[0mkeys\u001b[0m \u001b[0;32mimport\u001b[0m \u001b[0mKeys\u001b[0m \u001b[0;31m# This will give us the access to the keys like enter key,escape key\u001b[0m\u001b[0;34m\u001b[0m\u001b[0;34m\u001b[0m\u001b[0m\n\u001b[1;32m      2\u001b[0m \u001b[0;34m\u001b[0m\u001b[0m\n\u001b[0;32m----> 3\u001b[0;31m \u001b[0msearch\u001b[0m \u001b[0;34m=\u001b[0m \u001b[0mdriver\u001b[0m\u001b[0;34m.\u001b[0m\u001b[0mfind_element\u001b[0m\u001b[0;34m(\u001b[0m\u001b[0mBy\u001b[0m\u001b[0;34m.\u001b[0m\u001b[0mXPATH\u001b[0m\u001b[0;34m,\u001b[0m \u001b[0;34m'/html[1]/body[1]/div[1]/main[1]/div[1]/div[1]/div[1]/section[3]/section[1]/div[2]/ul[1]'\u001b[0m\u001b[0;34m)\u001b[0m \u001b[0;31m# as value_name = \"s\" of the search box in inspect element.\u001b[0m\u001b[0;34m\u001b[0m\u001b[0;34m\u001b[0m\u001b[0m\n\u001b[0m\u001b[1;32m      4\u001b[0m \u001b[0;34m\u001b[0m\u001b[0m\n\u001b[1;32m      5\u001b[0m \u001b[0;31m# search.send_keys(\"test\") # test is the string that we want to type in the search box\u001b[0m\u001b[0;34m\u001b[0m\u001b[0;34m\u001b[0m\u001b[0;34m\u001b[0m\u001b[0m\n",
            "\u001b[0;32m/usr/local/lib/python3.7/dist-packages/selenium/webdriver/remote/webdriver.py\u001b[0m in \u001b[0;36mfind_element\u001b[0;34m(self, by, value)\u001b[0m\n\u001b[1;32m   1251\u001b[0m         return self.execute(Command.FIND_ELEMENT, {\n\u001b[1;32m   1252\u001b[0m             \u001b[0;34m'using'\u001b[0m\u001b[0;34m:\u001b[0m \u001b[0mby\u001b[0m\u001b[0;34m,\u001b[0m\u001b[0;34m\u001b[0m\u001b[0;34m\u001b[0m\u001b[0m\n\u001b[0;32m-> 1253\u001b[0;31m             'value': value})['value']\n\u001b[0m\u001b[1;32m   1254\u001b[0m \u001b[0;34m\u001b[0m\u001b[0m\n\u001b[1;32m   1255\u001b[0m     \u001b[0;32mdef\u001b[0m \u001b[0mfind_elements\u001b[0m\u001b[0;34m(\u001b[0m\u001b[0mself\u001b[0m\u001b[0;34m,\u001b[0m \u001b[0mby\u001b[0m\u001b[0;34m=\u001b[0m\u001b[0mBy\u001b[0m\u001b[0;34m.\u001b[0m\u001b[0mID\u001b[0m\u001b[0;34m,\u001b[0m \u001b[0mvalue\u001b[0m\u001b[0;34m=\u001b[0m\u001b[0;32mNone\u001b[0m\u001b[0;34m)\u001b[0m \u001b[0;34m->\u001b[0m \u001b[0mList\u001b[0m\u001b[0;34m[\u001b[0m\u001b[0mWebElement\u001b[0m\u001b[0;34m]\u001b[0m\u001b[0;34m:\u001b[0m\u001b[0;34m\u001b[0m\u001b[0;34m\u001b[0m\u001b[0m\n",
            "\u001b[0;32m/usr/local/lib/python3.7/dist-packages/selenium/webdriver/remote/webdriver.py\u001b[0m in \u001b[0;36mexecute\u001b[0;34m(self, driver_command, params)\u001b[0m\n\u001b[1;32m    428\u001b[0m         \u001b[0mresponse\u001b[0m \u001b[0;34m=\u001b[0m \u001b[0mself\u001b[0m\u001b[0;34m.\u001b[0m\u001b[0mcommand_executor\u001b[0m\u001b[0;34m.\u001b[0m\u001b[0mexecute\u001b[0m\u001b[0;34m(\u001b[0m\u001b[0mdriver_command\u001b[0m\u001b[0;34m,\u001b[0m \u001b[0mparams\u001b[0m\u001b[0;34m)\u001b[0m\u001b[0;34m\u001b[0m\u001b[0;34m\u001b[0m\u001b[0m\n\u001b[1;32m    429\u001b[0m         \u001b[0;32mif\u001b[0m \u001b[0mresponse\u001b[0m\u001b[0;34m:\u001b[0m\u001b[0;34m\u001b[0m\u001b[0;34m\u001b[0m\u001b[0m\n\u001b[0;32m--> 430\u001b[0;31m             \u001b[0mself\u001b[0m\u001b[0;34m.\u001b[0m\u001b[0merror_handler\u001b[0m\u001b[0;34m.\u001b[0m\u001b[0mcheck_response\u001b[0m\u001b[0;34m(\u001b[0m\u001b[0mresponse\u001b[0m\u001b[0;34m)\u001b[0m\u001b[0;34m\u001b[0m\u001b[0;34m\u001b[0m\u001b[0m\n\u001b[0m\u001b[1;32m    431\u001b[0m             response['value'] = self._unwrap_value(\n\u001b[1;32m    432\u001b[0m                 response.get('value', None))\n",
            "\u001b[0;32m/usr/local/lib/python3.7/dist-packages/selenium/webdriver/remote/errorhandler.py\u001b[0m in \u001b[0;36mcheck_response\u001b[0;34m(self, response)\u001b[0m\n\u001b[1;32m    245\u001b[0m                 \u001b[0malert_text\u001b[0m \u001b[0;34m=\u001b[0m \u001b[0mvalue\u001b[0m\u001b[0;34m[\u001b[0m\u001b[0;34m'alert'\u001b[0m\u001b[0;34m]\u001b[0m\u001b[0;34m.\u001b[0m\u001b[0mget\u001b[0m\u001b[0;34m(\u001b[0m\u001b[0;34m'text'\u001b[0m\u001b[0;34m)\u001b[0m\u001b[0;34m\u001b[0m\u001b[0;34m\u001b[0m\u001b[0m\n\u001b[1;32m    246\u001b[0m             \u001b[0;32mraise\u001b[0m \u001b[0mexception_class\u001b[0m\u001b[0;34m(\u001b[0m\u001b[0mmessage\u001b[0m\u001b[0;34m,\u001b[0m \u001b[0mscreen\u001b[0m\u001b[0;34m,\u001b[0m \u001b[0mstacktrace\u001b[0m\u001b[0;34m,\u001b[0m \u001b[0malert_text\u001b[0m\u001b[0;34m)\u001b[0m  \u001b[0;31m# type: ignore[call-arg]  # mypy is not smart enough here\u001b[0m\u001b[0;34m\u001b[0m\u001b[0;34m\u001b[0m\u001b[0m\n\u001b[0;32m--> 247\u001b[0;31m         \u001b[0;32mraise\u001b[0m \u001b[0mexception_class\u001b[0m\u001b[0;34m(\u001b[0m\u001b[0mmessage\u001b[0m\u001b[0;34m,\u001b[0m \u001b[0mscreen\u001b[0m\u001b[0;34m,\u001b[0m \u001b[0mstacktrace\u001b[0m\u001b[0;34m)\u001b[0m\u001b[0;34m\u001b[0m\u001b[0;34m\u001b[0m\u001b[0m\n\u001b[0m\u001b[1;32m    248\u001b[0m \u001b[0;34m\u001b[0m\u001b[0m\n\u001b[1;32m    249\u001b[0m     \u001b[0;32mdef\u001b[0m \u001b[0m_value_or_default\u001b[0m\u001b[0;34m(\u001b[0m\u001b[0mself\u001b[0m\u001b[0;34m,\u001b[0m \u001b[0mobj\u001b[0m\u001b[0;34m:\u001b[0m \u001b[0mMapping\u001b[0m\u001b[0;34m[\u001b[0m\u001b[0m_KT\u001b[0m\u001b[0;34m,\u001b[0m \u001b[0m_VT\u001b[0m\u001b[0;34m]\u001b[0m\u001b[0;34m,\u001b[0m \u001b[0mkey\u001b[0m\u001b[0;34m:\u001b[0m \u001b[0m_KT\u001b[0m\u001b[0;34m,\u001b[0m \u001b[0mdefault\u001b[0m\u001b[0;34m:\u001b[0m \u001b[0m_VT\u001b[0m\u001b[0;34m)\u001b[0m \u001b[0;34m->\u001b[0m \u001b[0m_VT\u001b[0m\u001b[0;34m:\u001b[0m\u001b[0;34m\u001b[0m\u001b[0;34m\u001b[0m\u001b[0m\n",
            "\u001b[0;31mNoSuchElementException\u001b[0m: Message: no such element: Unable to locate element: {\"method\":\"xpath\",\"selector\":\"/html[1]/body[1]/div[1]/main[1]/div[1]/div[1]/div[1]/section[3]/section[1]/div[2]/ul[1]\"}\n  (Session info: headless chrome=100.0.4896.127)\nStacktrace:\n#0 0x563aca7bd1b3 <unknown>\n#1 0x563aca4ac2c3 <unknown>\n#2 0x563aca4e27a0 <unknown>\n#3 0x563aca4e29c1 <unknown>\n#4 0x563aca517127 <unknown>\n#5 0x563aca50011d <unknown>\n#6 0x563aca514e6c <unknown>\n#7 0x563aca500463 <unknown>\n#8 0x563aca4d663c <unknown>\n#9 0x563aca4d7b05 <unknown>\n#10 0x563aca7e1a90 <unknown>\n#11 0x563aca7f3378 <unknown>\n#12 0x563aca7f309c <unknown>\n#13 0x563aca7f3902 <unknown>\n#14 0x563aca82bf0b <unknown>\n#15 0x563aca7f3b61 <unknown>\n#16 0x563aca7d5fd3 <unknown>\n#17 0x563aca7fd2b8 <unknown>\n#18 0x563aca7fd44a <unknown>\n#19 0x563aca816291 <unknown>\n#20 0x7f32a759a6db <unknown>\n"
          ]
        }
      ]
    },
    {
      "cell_type": "code",
      "source": [
        ""
      ],
      "metadata": {
        "id": "lgib26NtlyYV"
      },
      "execution_count": null,
      "outputs": []
    }
  ]
}