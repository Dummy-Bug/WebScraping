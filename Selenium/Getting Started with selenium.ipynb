{
 "cells": [
  {
   "cell_type": "code",
   "execution_count": 1,
   "metadata": {},
   "outputs": [
    {
     "name": "stdout",
     "output_type": "stream",
     "text": [
      "selenium install successfully\n"
     ]
    }
   ],
   "source": [
    "try:\n",
    "    import selenium\n",
    "    print(\"selenium install successfully\")\n",
    "except:\n",
    "    print(\"selenium could not get installed\")"
   ]
  },
  {
   "cell_type": "code",
   "execution_count": null,
   "metadata": {},
   "outputs": [],
   "source": [
    "path = \"C:\\Program Files (x86)\""
   ]
  }
 ],
 "metadata": {
  "interpreter": {
   "hash": "0f9b6f9323e3f6145055585e5a4414acbfdf7cf54267a3ec1e637c4d467491bb"
  },
  "kernelspec": {
   "display_name": "Python 3.6.5 ('base')",
   "language": "python",
   "name": "python3"
  },
  "language_info": {
   "codemirror_mode": {
    "name": "ipython",
    "version": 3
   },
   "file_extension": ".py",
   "mimetype": "text/x-python",
   "name": "python",
   "nbconvert_exporter": "python",
   "pygments_lexer": "ipython3",
   "version": "3.6.5"
  },
  "orig_nbformat": 4
 },
 "nbformat": 4,
 "nbformat_minor": 2
}
